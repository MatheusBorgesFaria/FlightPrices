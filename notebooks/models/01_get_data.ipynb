{
 "cells": [
  {
   "cell_type": "markdown",
   "id": "61cff89b-03a3-4539-898b-fc01c91974cf",
   "metadata": {
    "tags": []
   },
   "source": [
    "# Get data from the largest subsequent window\n",
    "The largest subsequent window is 146 hours or 6.08 days. <br>\n",
    "Sequence start on 2023-06-04 23:00:00 and end on 2023-06-11 00:00:00 ."
   ]
  },
  {
   "cell_type": "markdown",
   "id": "6cd25beb-ae31-403a-8b48-1f4283ce02d2",
   "metadata": {},
   "source": [
    "## Imports"
   ]
  },
  {
   "cell_type": "code",
   "execution_count": 1,
   "id": "d0c0e514-d7ce-493e-a3b0-77fe3f287254",
   "metadata": {
    "tags": []
   },
   "outputs": [],
   "source": [
    "%load_ext autoreload\n",
    "%autoreload 2\n",
    "\n",
    "import pandas as pd\n",
    "import sys\n",
    "\n",
    "sys.path.append(\"../../odbc\")\n",
    "import query_tools as qt"
   ]
  },
  {
   "cell_type": "code",
   "execution_count": 2,
   "id": "7618bd32-a775-44cc-82ac-c4a5e8bf0d1a",
   "metadata": {
    "tags": []
   },
   "outputs": [],
   "source": [
    "lower_range = \"2023-06-04 23:00:00\"\n",
    "upper_range = '2023-06-11 00:00:00'"
   ]
  },
  {
   "cell_type": "markdown",
   "id": "7ad27ad5-561c-48da-afa8-6c4c2dc7002d",
   "metadata": {},
   "source": [
    "## Gettings the tables"
   ]
  },
  {
   "cell_type": "code",
   "execution_count": null,
   "id": "057814f5-a75a-440f-b72f-4834b70c7694",
   "metadata": {
    "tags": []
   },
   "outputs": [],
   "source": [
    "query = f\"\"\"\n",
    "SELECT * \n",
    "FROM flight.search\n",
    "WHERE  \"operationalSearchTime\" >= '{lower_range}' AND \"operationalSearchTime\" <= '{upper_range}'\n",
    "\"\"\"\n",
    "search = qt.run_query(query)\n",
    "search.to_parquet(\"search_largest_subsequent.parquet\")\n",
    "search.shape"
   ]
  },
  {
   "cell_type": "code",
   "execution_count": null,
   "id": "53ab742d-e5e5-4b33-9ca2-4da9cbf59798",
   "metadata": {
    "tags": []
   },
   "outputs": [],
   "source": [
    "query = f\"\"\"\n",
    "SELECT * \n",
    "FROM flight.fare F JOIN (\n",
    "    SELECT \"searchId\" as \"searchIdSearchTable\", \"searchTime\",\n",
    "    \"operationalSearchTime\", \"flightDay\",\n",
    "    \"originCode\", \"destinationCode\", \"insertionTime\"\n",
    "    FROM flight.search\n",
    "    WHERE  \"operationalSearchTime\" >= '{lower_range}' AND \"operationalSearchTime\" <= '{upper_range}'\n",
    ") S ON S.\"searchIdSearchTable\" = F.\"searchId\"\n",
    "\"\"\"\n",
    "search_fare = qt.run_query(query)\n",
    "del search_fare['insertionTime']\n",
    "search_fare.to_parquet(\"search_fare_largest_subsequent.parquet\")\n",
    "search_fare.shape"
   ]
  },
  {
   "cell_type": "code",
   "execution_count": null,
   "id": "efff6d00-c968-4c7f-8921-348f9dd33052",
   "metadata": {
    "tags": []
   },
   "outputs": [],
   "source": [
    "query = f\"\"\"\n",
    "SELECT * \n",
    "FROM flight.flight F JOIN (\n",
    "    SELECT \"searchId\" as \"searchIdSearchTable\"\n",
    "    FROM flight.search\n",
    "    WHERE  \"operationalSearchTime\" >= '{lower_range}' AND \"operationalSearchTime\" <= '{upper_range}'\n",
    ") S ON S.\"searchIdSearchTable\" = F.\"searchId\"\n",
    "\"\"\"\n",
    "flight = qt.run_query(query)\n",
    "flight.to_parquet(\"flight_largest_subsequent.parquet\")\n",
    "flight.shape"
   ]
  },
  {
   "cell_type": "code",
   "execution_count": 3,
   "id": "112d4d63-97f7-4cae-b480-d65337bbff57",
   "metadata": {
    "tags": []
   },
   "outputs": [
    {
     "data": {
      "text/plain": [
       "(33848879, 5)"
      ]
     },
     "execution_count": 3,
     "metadata": {},
     "output_type": "execute_result"
    }
   ],
   "source": [
    "query = f\"\"\"\n",
    "SELECT * \n",
    "FROM flight.normalized_fares_view F JOIN (\n",
    "    SELECT \"searchId\" as \"searchIdSearchTable\"\n",
    "    FROM flight.search\n",
    "    WHERE  \"operationalSearchTime\" >= '{lower_range}' AND \"operationalSearchTime\" <= '{upper_range}'\n",
    ") S ON S.\"searchIdSearchTable\" = F.\"searchId\"\n",
    "\"\"\"\n",
    "normalized_fares_view = qt.run_query(query)\n",
    "normalized_fares_view.to_parquet(\"normalized_fares_view_largest_subsequent.parquet\")\n",
    "normalized_fares_view.shape"
   ]
  }
 ],
 "metadata": {
  "kernelspec": {
   "display_name": "Python 3 (ipykernel)",
   "language": "python",
   "name": "python3"
  },
  "language_info": {
   "codemirror_mode": {
    "name": "ipython",
    "version": 3
   },
   "file_extension": ".py",
   "mimetype": "text/x-python",
   "name": "python",
   "nbconvert_exporter": "python",
   "pygments_lexer": "ipython3",
   "version": "3.11.4"
  }
 },
 "nbformat": 4,
 "nbformat_minor": 5
}
