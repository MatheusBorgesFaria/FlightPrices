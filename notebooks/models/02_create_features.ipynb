{
 "cells": [
  {
   "cell_type": "markdown",
   "id": "e2e3ff0d-b3fe-4c18-b660-8bba7abcb7b4",
   "metadata": {},
   "source": [
    "# Create features"
   ]
  },
  {
   "cell_type": "markdown",
   "id": "3cadb495-28c7-4926-a8d3-38484140cc85",
   "metadata": {
    "tags": []
   },
   "source": [
    "## Imports"
   ]
  },
  {
   "cell_type": "code",
   "execution_count": 1,
   "id": "628ce21c-5b13-4966-9bbb-75cd1d3268a8",
   "metadata": {
    "tags": []
   },
   "outputs": [],
   "source": [
    "%load_ext autoreload\n",
    "%autoreload 2\n",
    "\n",
    "import pandas as pd\n",
    "from math import ceil"
   ]
  },
  {
   "cell_type": "markdown",
   "id": "dbde9d36-5c2b-4ec6-a21e-78a4ad784f71",
   "metadata": {
    "tags": []
   },
   "source": [
    "## Load data"
   ]
  },
  {
   "cell_type": "code",
   "execution_count": 2,
   "id": "e6892583-dad9-448a-b6be-e0769acda4d4",
   "metadata": {
    "tags": []
   },
   "outputs": [
    {
     "data": {
      "text/plain": [
       "(33848879, 23)"
      ]
     },
     "execution_count": 2,
     "metadata": {},
     "output_type": "execute_result"
    }
   ],
   "source": [
    "data = pd.read_parquet(\"data/raw_data/search_fare_largest_subsequent.parquet\")\n",
    "data.shape"
   ]
  },
  {
   "cell_type": "code",
   "execution_count": null,
   "id": "3ec961da-adf0-4828-8d52-5e07f49175f4",
   "metadata": {
    "tags": []
   },
   "outputs": [],
   "source": [
    "flight = pd.read_parquet(\"data/raw_data/flight_largest_subsequent.parquet\")\n",
    "flight.shape"
   ]
  },
  {
   "cell_type": "markdown",
   "id": "22f396f5-cfab-41c7-968c-b7acf1092778",
   "metadata": {
    "jp-MarkdownHeadingCollapsed": true,
    "tags": []
   },
   "source": [
    "## Descriptive analysis"
   ]
  },
  {
   "cell_type": "markdown",
   "id": "f405cdad-81d9-4137-a5d8-56c423e23f7c",
   "metadata": {
    "tags": []
   },
   "source": [
    "### Basic informations"
   ]
  },
  {
   "cell_type": "code",
   "execution_count": null,
   "id": "4a52f7e1-81f1-4ca2-9a01-08e7dc40f030",
   "metadata": {
    "tags": []
   },
   "outputs": [],
   "source": [
    "data.columns"
   ]
  },
  {
   "cell_type": "code",
   "execution_count": null,
   "id": "db62ca12-050b-4755-8807-79e125838e14",
   "metadata": {
    "tags": []
   },
   "outputs": [],
   "source": [
    "data.head(2)"
   ]
  },
  {
   "cell_type": "code",
   "execution_count": null,
   "id": "bcacb830-ac57-4155-8306-cc4599104bcb",
   "metadata": {
    "tags": []
   },
   "outputs": [],
   "source": [
    "flight.columns"
   ]
  },
  {
   "cell_type": "code",
   "execution_count": null,
   "id": "582158f7-aba2-4bea-8425-6b74a48dbdf8",
   "metadata": {
    "tags": []
   },
   "outputs": [],
   "source": [
    "flight.head(2)"
   ]
  },
  {
   "cell_type": "markdown",
   "id": "4318f28d-e096-4b50-ac9d-b1c97bced7e6",
   "metadata": {
    "jp-MarkdownHeadingCollapsed": true,
    "tags": []
   },
   "source": [
    "### Check if flight information changes over time\n",
    "Most of the time flight information doesn't change over time, but it happens sometimes"
   ]
  },
  {
   "cell_type": "code",
   "execution_count": null,
   "id": "3392b5b4-144c-4d57-9595-18a35c7fa1ba",
   "metadata": {
    "tags": []
   },
   "outputs": [],
   "source": [
    "unique_columns = [\"searchId\", \"legId\", \"insertionTime\", \"searchIdSearchTable\"]\n",
    "colunas = [col for col in flight.columns if col not in unique_columns ]\n",
    "df = flight[colunas]\n",
    "display(df.shape)\n",
    "df = df.drop_duplicates()\n",
    "df.shape"
   ]
  },
  {
   "cell_type": "code",
   "execution_count": null,
   "id": "44702c95-8d11-4e4c-8822-603be908d784",
   "metadata": {
    "tags": []
   },
   "outputs": [],
   "source": [
    "flight[\"legId\"].nunique()"
   ]
  },
  {
   "cell_type": "code",
   "execution_count": null,
   "id": "40d76bb3-f185-43b8-b5ac-5d5968234084",
   "metadata": {
    "tags": []
   },
   "outputs": [],
   "source": [
    "del df"
   ]
  },
  {
   "cell_type": "code",
   "execution_count": null,
   "id": "d32a1f52-b7e5-4cfb-a5be-0a096d19ac38",
   "metadata": {
    "tags": []
   },
   "outputs": [],
   "source": [
    "flight.nunique()"
   ]
  },
  {
   "cell_type": "markdown",
   "id": "3b415dda-2f4b-45be-87ee-98e838dd9eb5",
   "metadata": {
    "jp-MarkdownHeadingCollapsed": true,
    "tags": []
   },
   "source": [
    "## Delete unnecessary columns"
   ]
  },
  {
   "cell_type": "markdown",
   "id": "f2a6f698-a4a6-45fe-8d05-18ce53ca19d1",
   "metadata": {
    "jp-MarkdownHeadingCollapsed": true,
    "tags": []
   },
   "source": [
    "### Fare and search table"
   ]
  },
  {
   "cell_type": "code",
   "execution_count": null,
   "id": "205d4f69-2b7b-4770-bd75-f133d489d95f",
   "metadata": {
    "tags": []
   },
   "outputs": [],
   "source": [
    "nunique_data = data.nunique()\n",
    "nunique_data"
   ]
  },
  {
   "cell_type": "code",
   "execution_count": null,
   "id": "b96e7a57-cba2-49c7-b58c-a24e12825f67",
   "metadata": {
    "tags": []
   },
   "outputs": [],
   "source": [
    "columns_to_delete = [ \"searchIdSearchTable\" ]\n",
    "columns_to_delete += list(nunique_data[nunique_data == 1].index)"
   ]
  },
  {
   "cell_type": "code",
   "execution_count": null,
   "id": "86148793-1717-4725-b608-7d586ebbd186",
   "metadata": {
    "tags": []
   },
   "outputs": [],
   "source": [
    "columns_to_check_unique_values = nunique_data[(nunique_data != 1) & (nunique_data <= 10)].index\n",
    "for column in columns_to_check_unique_values:\n",
    "    print(column)\n",
    "    display(data[column].unique())\n",
    "    print(\"-\"*100)\n",
    "    \n",
    "columns_to_delete += [\"hasSeatMap\", \"providerCode\"]"
   ]
  },
  {
   "cell_type": "code",
   "execution_count": null,
   "id": "e01761fc-e80d-4721-bae5-bd10e0a2d583",
   "metadata": {
    "tags": []
   },
   "outputs": [],
   "source": [
    "columns_to_delete = list(set(columns_to_delete))\n",
    "columns_to_delete, len(columns_to_delete)"
   ]
  },
  {
   "cell_type": "code",
   "execution_count": null,
   "id": "2020ec5b-6162-4c6e-8bae-6c5caa8f154d",
   "metadata": {
    "tags": []
   },
   "outputs": [],
   "source": [
    "data.drop(columns=columns_to_delete, inplace=True)\n",
    "data.shape"
   ]
  },
  {
   "cell_type": "code",
   "execution_count": null,
   "id": "66749b80-3ced-4bcf-8bdd-66d370bd5518",
   "metadata": {
    "tags": []
   },
   "outputs": [],
   "source": [
    "data.head(2)"
   ]
  },
  {
   "cell_type": "markdown",
   "id": "69368af0-ae13-4b59-b05f-cc7fe00323b2",
   "metadata": {
    "tags": []
   },
   "source": [
    "## Separation of validation and test training data"
   ]
  },
  {
   "cell_type": "markdown",
   "id": "ffc81caa-6576-4768-ac63-90bf481f9a1a",
   "metadata": {
    "tags": []
   },
   "source": [
    "Train percentage 0.65 <br>\n",
    "Validation percentage 0.20 <br>\n",
    "Test percentage 0.15 <br>"
   ]
  },
  {
   "cell_type": "code",
   "execution_count": 3,
   "id": "991967a6-e2a8-4bfe-977a-144c6707a964",
   "metadata": {
    "tags": []
   },
   "outputs": [
    {
     "data": {
      "text/plain": [
       "(Timestamp('2023-06-04 23:00:00'), Timestamp('2023-06-11 00:00:00'), 146)"
      ]
     },
     "execution_count": 3,
     "metadata": {},
     "output_type": "execute_result"
    }
   ],
   "source": [
    "data.operationalSearchTime.min(),\\\n",
    "data.operationalSearchTime.max(),\\\n",
    "data.operationalSearchTime.nunique()"
   ]
  },
  {
   "cell_type": "code",
   "execution_count": 4,
   "id": "9034eaa0-728f-48bd-968e-64471375d809",
   "metadata": {
    "tags": []
   },
   "outputs": [],
   "source": [
    "data[\"legId\"] = data[\"legId\"].astype('category')\n",
    "\n",
    "data.sort_values(\"operationalSearchTime\", inplace=True, ignore_index=True)\n",
    "operationalSearchTime = data.operationalSearchTime.unique()\n",
    "\n",
    "end_train = ceil(len(operationalSearchTime) * 0.65)\n",
    "end_validation = end_train + ceil(len(operationalSearchTime) * 0.2)\n",
    "\n",
    "train_mask = data.operationalSearchTime.isin(operationalSearchTime[:end_train])\n",
    "validation_mask = data.operationalSearchTime.isin(operationalSearchTime[end_train:end_validation])\n",
    "test_mask = data.operationalSearchTime.isin(operationalSearchTime[end_validation:])\n",
    "\n",
    "train = data.loc[train_mask]\n",
    "validation = data.loc[validation_mask]\n",
    "test = data.loc[test_mask]\n",
    "\n",
    "del data"
   ]
  },
  {
   "cell_type": "markdown",
   "id": "b26dc0dc-3c67-408a-9c35-ae0726028c59",
   "metadata": {
    "tags": []
   },
   "source": [
    "## Create features"
   ]
  },
  {
   "cell_type": "markdown",
   "id": "b5810359-e302-4237-bbfe-16582fb720be",
   "metadata": {},
   "source": [
    "### Version 1"
   ]
  },
  {
   "cell_type": "code",
   "execution_count": null,
   "id": "890de7ad-8077-4486-b5d3-b81f0ea60011",
   "metadata": {
    "tags": []
   },
   "outputs": [],
   "source": [
    "columns_version_1 = [\"legId\", \"operationalSearchTime\", \"totalFare\", \"originCode\", \"destinationCode\", \"flightDay\"]\n",
    "\n",
    "train = train[columns_version_1].head(1_000_000)\n",
    "validation = validation[columns_version_1].head(1_000_000)\n",
    "test = test[columns_version_1].head(1_000_000)"
   ]
  },
  {
   "cell_type": "code",
   "execution_count": null,
   "id": "c9d1b44e-f467-4c17-93de-ccde4d3024f6",
   "metadata": {
    "tags": []
   },
   "outputs": [],
   "source": []
  },
  {
   "cell_type": "markdown",
   "id": "04995b9b-d506-4c5a-9441-1927848e3b7d",
   "metadata": {},
   "source": [
    "#### Days until flight"
   ]
  },
  {
   "cell_type": "code",
   "execution_count": 5,
   "id": "0ce433d7-e140-4b6b-ac87-1e0886a24da4",
   "metadata": {
    "tags": []
   },
   "outputs": [],
   "source": [
    "def compute_days_util_flight(dataframe):\n",
    "    data_version1[\"daysUntilFlight\"] = (\n",
    "        data_version1[\"flightDay\"] - data_version1[\"operationalSearchTime\"].dt.date\n",
    "    )\n",
    "    seconds_per_day = 24 * 60 * 60\n",
    "    data_version1[\"daysUntilFlight\"] = (\n",
    "        data_version1[\"daysUntilFlight\"].dt.total_seconds() / seconds_per_day\n",
    "    ).astype(int)\n",
    "    return dataframe \n"
   ]
  },
  {
   "cell_type": "code",
   "execution_count": null,
   "id": "592ca8cd-bf18-40bc-9f57-2f8a35e74d97",
   "metadata": {},
   "outputs": [],
   "source": [
    "# columns_version_1 = [\"legId\", \"operationalSearchTime\", \"totalFare\", \"originCode\", \"destinationCode\", \"flightDay\"]\n",
    "# data_version1 = data[columns_version_1].head(1_000_000).copy()\n",
    "# data_version1[\"legId\"] = data_version1[\"legId\"].astype('category')\n",
    "# data_version1.groupby(\"legId\")[[\"totalFare\"]].shift(1)"
   ]
  },
  {
   "cell_type": "code",
   "execution_count": null,
   "id": "d3511135-15e7-4eeb-9504-24be59a8ac67",
   "metadata": {
    "tags": []
   },
   "outputs": [],
   "source": [
    "# lista = [\"2ba63db834c6d18b6f25a716436fe1b9\", \"3eea1b8aecf1baef902bece02ea0b6b1\", \"2b27d6480302c8de9013e721eb203511\"]\n",
    "# a = data_version1[data_version1.legId.isin(lista)].copy()\n",
    "# a = a.iloc[[1,2,0,3,4,5,6]]\n",
    "# a"
   ]
  },
  {
   "cell_type": "markdown",
   "id": "00484b1c-1a73-4e60-8550-1e544817eccf",
   "metadata": {},
   "source": [
    "#### Lag features"
   ]
  },
  {
   "cell_type": "code",
   "execution_count": 6,
   "id": "df316403-2b43-4346-a8cc-7aa7bbda7c7f",
   "metadata": {
    "tags": []
   },
   "outputs": [],
   "source": [
    "# Beware of Data Leakage !!!!!!!!!!!!!\n",
    "def compute_lag_features(dataframe):\n",
    "    shift_list = [1] + [12 * i for i in range(1, 12)]\n",
    "    for shift_value in shift_list: \n",
    "        dataframe[f\"totalFareShift{shift_value}\"] = dataframe.groupby(\"legId\")[[\"totalFare\"]].shift(shift_value)\n",
    "    return dataframe"
   ]
  },
  {
   "cell_type": "markdown",
   "id": "fb22b483-580b-413c-9553-7e30c5fa9395",
   "metadata": {},
   "source": [
    "#### Diff features"
   ]
  },
  {
   "cell_type": "code",
   "execution_count": 7,
   "id": "d0606f1e-5ba1-4586-a320-2aed91c4bef2",
   "metadata": {
    "tags": []
   },
   "outputs": [],
   "source": [
    "def compute_diff_features(dataframe):\n",
    "    diff_list = [1] + [12 * i for i in range(1, 12)]\n",
    "    for diff_value in diff_list: \n",
    "        dataframe[f\"totalFareDiff{diff_value}\"] = dataframe.groupby(\"legId\")[[\"totalFare\"]].diff(diff_value)\n",
    "    return dataframe"
   ]
  },
  {
   "cell_type": "markdown",
   "id": "c2b26d4e-743d-463a-afeb-2635ae94b132",
   "metadata": {},
   "source": [
    "#### Percentage change features"
   ]
  },
  {
   "cell_type": "code",
   "execution_count": null,
   "id": "21f3a622-ce64-43db-be57-5b1ce22f340d",
   "metadata": {},
   "outputs": [],
   "source": []
  },
  {
   "cell_type": "markdown",
   "id": "5fa40dc1-10e9-46f5-879e-81a3d03e1f46",
   "metadata": {},
   "source": [
    "#### Rolling features"
   ]
  },
  {
   "cell_type": "code",
   "execution_count": null,
   "id": "dcba00c0-0f8d-4767-8f47-83d740f461e4",
   "metadata": {
    "tags": []
   },
   "outputs": [],
   "source": []
  },
  {
   "cell_type": "markdown",
   "id": "855a28a6-a024-49d0-a2a4-894591717e3e",
   "metadata": {},
   "source": [
    "#### Cumulative features"
   ]
  },
  {
   "cell_type": "code",
   "execution_count": null,
   "id": "871bad98-ae92-4311-bf5e-ffee594b387e",
   "metadata": {},
   "outputs": [],
   "source": []
  },
  {
   "cell_type": "markdown",
   "id": "89b4a36d-2be6-4595-bc5c-9d1635735475",
   "metadata": {
    "tags": []
   },
   "source": [
    "#### Save dataframes"
   ]
  },
  {
   "cell_type": "code",
   "execution_count": null,
   "id": "6a11b4f3-2b18-4550-aa34-19b82bc034b6",
   "metadata": {
    "tags": []
   },
   "outputs": [],
   "source": [
    "path_time_series_version_1 = \"data/train_validade_teste/time_searies/version_1/\"\n",
    "\n",
    "train.to_parquet(path_time_series_version_1 + \"train.parquet\")\n",
    "validation.to_parquet(path_time_series_version_1 + \"validation.parquet\")\n",
    "test.to_parquet(path_time_series_version_1 + \"test.parquet\")"
   ]
  }
 ],
 "metadata": {
  "kernelspec": {
   "display_name": "Python 3 (ipykernel)",
   "language": "python",
   "name": "python3"
  },
  "language_info": {
   "codemirror_mode": {
    "name": "ipython",
    "version": 3
   },
   "file_extension": ".py",
   "mimetype": "text/x-python",
   "name": "python",
   "nbconvert_exporter": "python",
   "pygments_lexer": "ipython3",
   "version": "3.11.4"
  }
 },
 "nbformat": 4,
 "nbformat_minor": 5
}
