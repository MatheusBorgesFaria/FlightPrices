{
 "cells": [
  {
   "cell_type": "markdown",
   "id": "e2e3ff0d-b3fe-4c18-b660-8bba7abcb7b4",
   "metadata": {},
   "source": [
    "# Create features"
   ]
  },
  {
   "cell_type": "markdown",
   "id": "3cadb495-28c7-4926-a8d3-38484140cc85",
   "metadata": {},
   "source": [
    "## Imports"
   ]
  },
  {
   "cell_type": "code",
   "execution_count": 1,
   "id": "628ce21c-5b13-4966-9bbb-75cd1d3268a8",
   "metadata": {
    "tags": []
   },
   "outputs": [],
   "source": [
    "%load_ext autoreload\n",
    "%autoreload 2\n",
    "\n",
    "import pandas as pd\n",
    "from math import ceil"
   ]
  },
  {
   "cell_type": "markdown",
   "id": "dbde9d36-5c2b-4ec6-a21e-78a4ad784f71",
   "metadata": {
    "jp-MarkdownHeadingCollapsed": true,
    "tags": []
   },
   "source": [
    "## Load data"
   ]
  },
  {
   "cell_type": "code",
   "execution_count": 2,
   "id": "e6892583-dad9-448a-b6be-e0769acda4d4",
   "metadata": {
    "tags": []
   },
   "outputs": [
    {
     "data": {
      "text/plain": [
       "(33848879, 23)"
      ]
     },
     "execution_count": 2,
     "metadata": {},
     "output_type": "execute_result"
    }
   ],
   "source": [
    "data = pd.read_parquet(\"search_fare_largest_subsequent.parquet\")\n",
    "data.shape"
   ]
  },
  {
   "cell_type": "code",
   "execution_count": 3,
   "id": "3ec961da-adf0-4828-8d52-5e07f49175f4",
   "metadata": {
    "tags": []
   },
   "outputs": [
    {
     "data": {
      "text/plain": [
       "(33848879, 23)"
      ]
     },
     "execution_count": 3,
     "metadata": {},
     "output_type": "execute_result"
    }
   ],
   "source": [
    "flight = pd.read_parquet(\"flight_largest_subsequent.parquet\")\n",
    "flight.shape"
   ]
  },
  {
   "cell_type": "markdown",
   "id": "22f396f5-cfab-41c7-968c-b7acf1092778",
   "metadata": {
    "jp-MarkdownHeadingCollapsed": true,
    "tags": []
   },
   "source": [
    "## Descriptive analysis"
   ]
  },
  {
   "cell_type": "markdown",
   "id": "f405cdad-81d9-4137-a5d8-56c423e23f7c",
   "metadata": {
    "jp-MarkdownHeadingCollapsed": true,
    "tags": []
   },
   "source": [
    "### Basic informations"
   ]
  },
  {
   "cell_type": "code",
   "execution_count": 4,
   "id": "4a52f7e1-81f1-4ca2-9a01-08e7dc40f030",
   "metadata": {
    "tags": []
   },
   "outputs": [
    {
     "data": {
      "text/plain": [
       "Index(['searchId', 'legId', 'fareBasisCode', 'isBasicEconomy', 'isRefundable',\n",
       "       'isFreeChangeAvailable', 'taxes', 'fees', 'showFees', 'currency',\n",
       "       'baseFare', 'totalFare', 'numberOfTickets', 'freeCancellationBy',\n",
       "       'hasSeatMap', 'providerCode', 'seatsRemaining', 'searchIdSearchTable',\n",
       "       'searchTime', 'operationalSearchTime', 'flightDay', 'originCode',\n",
       "       'destinationCode'],\n",
       "      dtype='object')"
      ]
     },
     "execution_count": 4,
     "metadata": {},
     "output_type": "execute_result"
    }
   ],
   "source": [
    "data.columns"
   ]
  },
  {
   "cell_type": "code",
   "execution_count": 5,
   "id": "db62ca12-050b-4755-8807-79e125838e14",
   "metadata": {
    "tags": []
   },
   "outputs": [
    {
     "data": {
      "text/html": [
       "<div>\n",
       "<style scoped>\n",
       "    .dataframe tbody tr th:only-of-type {\n",
       "        vertical-align: middle;\n",
       "    }\n",
       "\n",
       "    .dataframe tbody tr th {\n",
       "        vertical-align: top;\n",
       "    }\n",
       "\n",
       "    .dataframe thead th {\n",
       "        text-align: right;\n",
       "    }\n",
       "</style>\n",
       "<table border=\"1\" class=\"dataframe\">\n",
       "  <thead>\n",
       "    <tr style=\"text-align: right;\">\n",
       "      <th></th>\n",
       "      <th>searchId</th>\n",
       "      <th>legId</th>\n",
       "      <th>fareBasisCode</th>\n",
       "      <th>isBasicEconomy</th>\n",
       "      <th>isRefundable</th>\n",
       "      <th>isFreeChangeAvailable</th>\n",
       "      <th>taxes</th>\n",
       "      <th>fees</th>\n",
       "      <th>showFees</th>\n",
       "      <th>currency</th>\n",
       "      <th>...</th>\n",
       "      <th>freeCancellationBy</th>\n",
       "      <th>hasSeatMap</th>\n",
       "      <th>providerCode</th>\n",
       "      <th>seatsRemaining</th>\n",
       "      <th>searchIdSearchTable</th>\n",
       "      <th>searchTime</th>\n",
       "      <th>operationalSearchTime</th>\n",
       "      <th>flightDay</th>\n",
       "      <th>originCode</th>\n",
       "      <th>destinationCode</th>\n",
       "    </tr>\n",
       "  </thead>\n",
       "  <tbody>\n",
       "    <tr>\n",
       "      <th>0</th>\n",
       "      <td>67435507</td>\n",
       "      <td>424cd2c79592022c6290a4dbf4bb7072</td>\n",
       "      <td>YJ0U0G1</td>\n",
       "      <td>False</td>\n",
       "      <td>False</td>\n",
       "      <td>False</td>\n",
       "      <td>40.6</td>\n",
       "      <td>0.0</td>\n",
       "      <td>True</td>\n",
       "      <td>USD</td>\n",
       "      <td>...</td>\n",
       "      <td>2023-06-12 23:59:00</td>\n",
       "      <td>False||False</td>\n",
       "      <td>Amadeus||Amadeus</td>\n",
       "      <td>7</td>\n",
       "      <td>67435507</td>\n",
       "      <td>2023-06-09 01:21:47.870182</td>\n",
       "      <td>2023-06-09 01:00:00</td>\n",
       "      <td>2023-07-11</td>\n",
       "      <td>GIG</td>\n",
       "      <td>BSB</td>\n",
       "    </tr>\n",
       "    <tr>\n",
       "      <th>1</th>\n",
       "      <td>67316111</td>\n",
       "      <td>08978a96520c5df3936c6bc02e4ce991</td>\n",
       "      <td>ANAQAG2G</td>\n",
       "      <td>False</td>\n",
       "      <td>False</td>\n",
       "      <td>False</td>\n",
       "      <td>6.0</td>\n",
       "      <td>0.0</td>\n",
       "      <td>True</td>\n",
       "      <td>USD</td>\n",
       "      <td>...</td>\n",
       "      <td>2023-06-12 23:59:00</td>\n",
       "      <td>False||False</td>\n",
       "      <td>Amadeus||Amadeus</td>\n",
       "      <td>4</td>\n",
       "      <td>67316111</td>\n",
       "      <td>2023-06-09 01:00:16.159655</td>\n",
       "      <td>2023-06-09 01:00:00</td>\n",
       "      <td>2023-06-10</td>\n",
       "      <td>GRU</td>\n",
       "      <td>POA</td>\n",
       "    </tr>\n",
       "  </tbody>\n",
       "</table>\n",
       "<p>2 rows × 23 columns</p>\n",
       "</div>"
      ],
      "text/plain": [
       "   searchId                             legId fareBasisCode  isBasicEconomy  \\\n",
       "0  67435507  424cd2c79592022c6290a4dbf4bb7072       YJ0U0G1           False   \n",
       "1  67316111  08978a96520c5df3936c6bc02e4ce991      ANAQAG2G           False   \n",
       "\n",
       "   isRefundable  isFreeChangeAvailable  taxes  fees  showFees currency  ...  \\\n",
       "0         False                  False   40.6   0.0      True      USD  ...   \n",
       "1         False                  False    6.0   0.0      True      USD  ...   \n",
       "\n",
       "   freeCancellationBy    hasSeatMap      providerCode seatsRemaining  \\\n",
       "0 2023-06-12 23:59:00  False||False  Amadeus||Amadeus              7   \n",
       "1 2023-06-12 23:59:00  False||False  Amadeus||Amadeus              4   \n",
       "\n",
       "  searchIdSearchTable                 searchTime  operationalSearchTime  \\\n",
       "0            67435507 2023-06-09 01:21:47.870182    2023-06-09 01:00:00   \n",
       "1            67316111 2023-06-09 01:00:16.159655    2023-06-09 01:00:00   \n",
       "\n",
       "    flightDay originCode destinationCode  \n",
       "0  2023-07-11        GIG             BSB  \n",
       "1  2023-06-10        GRU             POA  \n",
       "\n",
       "[2 rows x 23 columns]"
      ]
     },
     "execution_count": 5,
     "metadata": {},
     "output_type": "execute_result"
    }
   ],
   "source": [
    "data.head(2)"
   ]
  },
  {
   "cell_type": "code",
   "execution_count": 6,
   "id": "bcacb830-ac57-4155-8306-cc4599104bcb",
   "metadata": {
    "tags": []
   },
   "outputs": [
    {
     "data": {
      "text/plain": [
       "Index(['searchId', 'legId', 'travelDuration', 'duration', 'durationInSeconds',\n",
       "       'elapsedDays', 'isNonStop', 'departureTimeRaw',\n",
       "       'departureTimeZoneOffsetSeconds', 'arrivalTimeRaw',\n",
       "       'arrivalTimeZoneOffsetSeconds', 'flightNumber', 'stops', 'airlineCode',\n",
       "       'equipmentCode', 'arrivalAirportLatitude', 'arrivalAirportLongitude',\n",
       "       'departureAirportLatitude', 'departureAirportLongitude',\n",
       "       'arrivalAirportCode', 'departureAirportCode', 'insertionTime',\n",
       "       'searchIdSearchTable'],\n",
       "      dtype='object')"
      ]
     },
     "execution_count": 6,
     "metadata": {},
     "output_type": "execute_result"
    }
   ],
   "source": [
    "flight.columns"
   ]
  },
  {
   "cell_type": "code",
   "execution_count": 7,
   "id": "582158f7-aba2-4bea-8425-6b74a48dbdf8",
   "metadata": {
    "tags": []
   },
   "outputs": [
    {
     "data": {
      "text/html": [
       "<div>\n",
       "<style scoped>\n",
       "    .dataframe tbody tr th:only-of-type {\n",
       "        vertical-align: middle;\n",
       "    }\n",
       "\n",
       "    .dataframe tbody tr th {\n",
       "        vertical-align: top;\n",
       "    }\n",
       "\n",
       "    .dataframe thead th {\n",
       "        text-align: right;\n",
       "    }\n",
       "</style>\n",
       "<table border=\"1\" class=\"dataframe\">\n",
       "  <thead>\n",
       "    <tr style=\"text-align: right;\">\n",
       "      <th></th>\n",
       "      <th>searchId</th>\n",
       "      <th>legId</th>\n",
       "      <th>travelDuration</th>\n",
       "      <th>duration</th>\n",
       "      <th>durationInSeconds</th>\n",
       "      <th>elapsedDays</th>\n",
       "      <th>isNonStop</th>\n",
       "      <th>departureTimeRaw</th>\n",
       "      <th>departureTimeZoneOffsetSeconds</th>\n",
       "      <th>arrivalTimeRaw</th>\n",
       "      <th>...</th>\n",
       "      <th>airlineCode</th>\n",
       "      <th>equipmentCode</th>\n",
       "      <th>arrivalAirportLatitude</th>\n",
       "      <th>arrivalAirportLongitude</th>\n",
       "      <th>departureAirportLatitude</th>\n",
       "      <th>departureAirportLongitude</th>\n",
       "      <th>arrivalAirportCode</th>\n",
       "      <th>departureAirportCode</th>\n",
       "      <th>insertionTime</th>\n",
       "      <th>searchIdSearchTable</th>\n",
       "    </tr>\n",
       "  </thead>\n",
       "  <tbody>\n",
       "    <tr>\n",
       "      <th>0</th>\n",
       "      <td>67315868</td>\n",
       "      <td>7f6dcd03b4d8e7a35fec9ea63e7ca7a4</td>\n",
       "      <td>PT19H55M</td>\n",
       "      <td>PT1H15M||PT2H10M||PT2H55M</td>\n",
       "      <td>4500||7800||10500</td>\n",
       "      <td>0||0||0</td>\n",
       "      <td>False</td>\n",
       "      <td>2023-06-10T16:20:00.000-03:00||2023-06-11T05:5...</td>\n",
       "      <td>-10800||-10800||-10800</td>\n",
       "      <td>2023-06-10T17:35:00.000-03:00||2023-06-11T08:0...</td>\n",
       "      <td>...</td>\n",
       "      <td>G3||G3||G3</td>\n",
       "      <td>738||738||7M8</td>\n",
       "      <td>-27.664536||-15.869962||-3.03173</td>\n",
       "      <td>-48.545072||-47.921743||-60.046094</td>\n",
       "      <td>-23.626789||-27.664536||-15.869962</td>\n",
       "      <td>-46.659618||-48.545072||-47.921743</td>\n",
       "      <td>FLN||BSB||MAO</td>\n",
       "      <td>CGH||FLN||BSB</td>\n",
       "      <td>2023-06-20 17:47:55.712789</td>\n",
       "      <td>67315868</td>\n",
       "    </tr>\n",
       "    <tr>\n",
       "      <th>1</th>\n",
       "      <td>59193725</td>\n",
       "      <td>d648e5b25c6533af9ead0fe2635f3000</td>\n",
       "      <td>PT11H20M</td>\n",
       "      <td>PT2H||PT1H10M</td>\n",
       "      <td>7200||4200</td>\n",
       "      <td>0||0</td>\n",
       "      <td>False</td>\n",
       "      <td>2023-06-26T08:30:00.000-03:00||2023-06-26T18:4...</td>\n",
       "      <td>-10800||-10800</td>\n",
       "      <td>2023-06-26T10:30:00.000-03:00||2023-06-26T19:5...</td>\n",
       "      <td>...</td>\n",
       "      <td>G3||G3</td>\n",
       "      <td>738||7M8</td>\n",
       "      <td>-25.536199||-23.425717</td>\n",
       "      <td>-49.173991||-46.481788</td>\n",
       "      <td>-15.869962||-25.536199</td>\n",
       "      <td>-47.921743||-49.173991</td>\n",
       "      <td>CWB||GRU</td>\n",
       "      <td>BSB||CWB</td>\n",
       "      <td>2023-06-20 13:06:44.540302</td>\n",
       "      <td>59193725</td>\n",
       "    </tr>\n",
       "  </tbody>\n",
       "</table>\n",
       "<p>2 rows × 23 columns</p>\n",
       "</div>"
      ],
      "text/plain": [
       "   searchId                             legId travelDuration  \\\n",
       "0  67315868  7f6dcd03b4d8e7a35fec9ea63e7ca7a4       PT19H55M   \n",
       "1  59193725  d648e5b25c6533af9ead0fe2635f3000       PT11H20M   \n",
       "\n",
       "                    duration  durationInSeconds elapsedDays  isNonStop  \\\n",
       "0  PT1H15M||PT2H10M||PT2H55M  4500||7800||10500     0||0||0      False   \n",
       "1              PT2H||PT1H10M         7200||4200        0||0      False   \n",
       "\n",
       "                                    departureTimeRaw  \\\n",
       "0  2023-06-10T16:20:00.000-03:00||2023-06-11T05:5...   \n",
       "1  2023-06-26T08:30:00.000-03:00||2023-06-26T18:4...   \n",
       "\n",
       "  departureTimeZoneOffsetSeconds  \\\n",
       "0         -10800||-10800||-10800   \n",
       "1                 -10800||-10800   \n",
       "\n",
       "                                      arrivalTimeRaw  ... airlineCode  \\\n",
       "0  2023-06-10T17:35:00.000-03:00||2023-06-11T08:0...  ...  G3||G3||G3   \n",
       "1  2023-06-26T10:30:00.000-03:00||2023-06-26T19:5...  ...      G3||G3   \n",
       "\n",
       "   equipmentCode            arrivalAirportLatitude  \\\n",
       "0  738||738||7M8  -27.664536||-15.869962||-3.03173   \n",
       "1       738||7M8            -25.536199||-23.425717   \n",
       "\n",
       "              arrivalAirportLongitude            departureAirportLatitude  \\\n",
       "0  -48.545072||-47.921743||-60.046094  -23.626789||-27.664536||-15.869962   \n",
       "1              -49.173991||-46.481788              -15.869962||-25.536199   \n",
       "\n",
       "            departureAirportLongitude arrivalAirportCode departureAirportCode  \\\n",
       "0  -46.659618||-48.545072||-47.921743      FLN||BSB||MAO        CGH||FLN||BSB   \n",
       "1              -47.921743||-49.173991           CWB||GRU             BSB||CWB   \n",
       "\n",
       "               insertionTime searchIdSearchTable  \n",
       "0 2023-06-20 17:47:55.712789            67315868  \n",
       "1 2023-06-20 13:06:44.540302            59193725  \n",
       "\n",
       "[2 rows x 23 columns]"
      ]
     },
     "execution_count": 7,
     "metadata": {},
     "output_type": "execute_result"
    }
   ],
   "source": [
    "flight.head(2)"
   ]
  },
  {
   "cell_type": "markdown",
   "id": "4318f28d-e096-4b50-ac9d-b1c97bced7e6",
   "metadata": {
    "jp-MarkdownHeadingCollapsed": true,
    "tags": []
   },
   "source": [
    "### Check if flight information changes over time\n",
    "Most of the time flight information doesn't change over time, but it happens sometimes"
   ]
  },
  {
   "cell_type": "code",
   "execution_count": 24,
   "id": "3392b5b4-144c-4d57-9595-18a35c7fa1ba",
   "metadata": {
    "tags": []
   },
   "outputs": [
    {
     "data": {
      "text/plain": [
       "(33848879, 19)"
      ]
     },
     "metadata": {},
     "output_type": "display_data"
    },
    {
     "data": {
      "text/plain": [
       "(433814, 19)"
      ]
     },
     "execution_count": 24,
     "metadata": {},
     "output_type": "execute_result"
    }
   ],
   "source": [
    "unique_columns = [\"searchId\", \"legId\", \"insertionTime\", \"searchIdSearchTable\"]\n",
    "colunas = [col for col in flight.columns if col not in unique_columns ]\n",
    "df = flight[colunas]\n",
    "display(df.shape)\n",
    "df = df.drop_duplicates()\n",
    "df.shape"
   ]
  },
  {
   "cell_type": "code",
   "execution_count": 26,
   "id": "44702c95-8d11-4e4c-8822-603be908d784",
   "metadata": {
    "tags": []
   },
   "outputs": [
    {
     "data": {
      "text/plain": [
       "396100"
      ]
     },
     "execution_count": 26,
     "metadata": {},
     "output_type": "execute_result"
    }
   ],
   "source": [
    "flight[\"legId\"].nunique()"
   ]
  },
  {
   "cell_type": "code",
   "execution_count": 27,
   "id": "40d76bb3-f185-43b8-b5ac-5d5968234084",
   "metadata": {
    "tags": []
   },
   "outputs": [],
   "source": [
    "del df"
   ]
  },
  {
   "cell_type": "code",
   "execution_count": 28,
   "id": "d32a1f52-b7e5-4cfb-a5be-0a096d19ac38",
   "metadata": {
    "tags": []
   },
   "outputs": [
    {
     "data": {
      "text/plain": [
       "searchId                          33848879\n",
       "legId                               396100\n",
       "travelDuration                         500\n",
       "duration                              3083\n",
       "durationInSeconds                     3083\n",
       "elapsedDays                             17\n",
       "isNonStop                                2\n",
       "departureTimeRaw                    339355\n",
       "departureTimeZoneOffsetSeconds          20\n",
       "arrivalTimeRaw                      341030\n",
       "arrivalTimeZoneOffsetSeconds            20\n",
       "flightNumber                         32320\n",
       "stops                                    4\n",
       "airlineCode                              8\n",
       "equipmentCode                          138\n",
       "arrivalAirportLatitude                 666\n",
       "arrivalAirportLongitude                666\n",
       "departureAirportLatitude               669\n",
       "departureAirportLongitude              669\n",
       "arrivalAirportCode                     666\n",
       "departureAirportCode                   669\n",
       "insertionTime                         1696\n",
       "searchIdSearchTable               33848879\n",
       "dtype: int64"
      ]
     },
     "execution_count": 28,
     "metadata": {},
     "output_type": "execute_result"
    }
   ],
   "source": [
    "flight.nunique()"
   ]
  },
  {
   "cell_type": "markdown",
   "id": "3b415dda-2f4b-45be-87ee-98e838dd9eb5",
   "metadata": {
    "jp-MarkdownHeadingCollapsed": true,
    "tags": []
   },
   "source": [
    "## Delete unnecessary columns"
   ]
  },
  {
   "cell_type": "markdown",
   "id": "f2a6f698-a4a6-45fe-8d05-18ce53ca19d1",
   "metadata": {
    "jp-MarkdownHeadingCollapsed": true,
    "tags": []
   },
   "source": [
    "### Fare and search table"
   ]
  },
  {
   "cell_type": "code",
   "execution_count": 8,
   "id": "205d4f69-2b7b-4770-bd75-f133d489d95f",
   "metadata": {
    "tags": []
   },
   "outputs": [
    {
     "data": {
      "text/plain": [
       "searchId                 33848879\n",
       "legId                      396100\n",
       "fareBasisCode                 848\n",
       "isBasicEconomy                  1\n",
       "isRefundable                    1\n",
       "isFreeChangeAvailable           1\n",
       "taxes                         161\n",
       "fees                            1\n",
       "showFees                        1\n",
       "currency                        1\n",
       "baseFare                     1229\n",
       "totalFare                    9143\n",
       "numberOfTickets                 1\n",
       "freeCancellationBy              5\n",
       "hasSeatMap                      4\n",
       "providerCode                    5\n",
       "seatsRemaining                  8\n",
       "searchIdSearchTable      33848879\n",
       "searchTime                 590858\n",
       "operationalSearchTime         146\n",
       "flightDay                      67\n",
       "originCode                      9\n",
       "destinationCode                 9\n",
       "dtype: int64"
      ]
     },
     "execution_count": 8,
     "metadata": {},
     "output_type": "execute_result"
    }
   ],
   "source": [
    "nunique_data = data.nunique()\n",
    "nunique_data"
   ]
  },
  {
   "cell_type": "code",
   "execution_count": 9,
   "id": "b96e7a57-cba2-49c7-b58c-a24e12825f67",
   "metadata": {
    "tags": []
   },
   "outputs": [],
   "source": [
    "columns_to_delete = [ \"searchIdSearchTable\" ]\n",
    "columns_to_delete += list(nunique_data[nunique_data == 1].index)"
   ]
  },
  {
   "cell_type": "code",
   "execution_count": 10,
   "id": "86148793-1717-4725-b608-7d586ebbd186",
   "metadata": {
    "tags": []
   },
   "outputs": [
    {
     "name": "stdout",
     "output_type": "stream",
     "text": [
      "freeCancellationBy\n"
     ]
    },
    {
     "data": {
      "text/plain": [
       "array(['2023-06-12T23:59:00.000000000', '2023-06-08T23:59:00.000000000',\n",
       "       '2023-06-09T23:59:00.000000000', '2023-06-06T23:59:00.000000000',\n",
       "       '2023-06-07T23:59:00.000000000'], dtype='datetime64[ns]')"
      ]
     },
     "metadata": {},
     "output_type": "display_data"
    },
    {
     "name": "stdout",
     "output_type": "stream",
     "text": [
      "----------------------------------------------------------------------------------------------------\n",
      "hasSeatMap\n"
     ]
    },
    {
     "data": {
      "text/plain": [
       "array(['False||False', 'False||False||False', 'False',\n",
       "       'False||False||False||False'], dtype=object)"
      ]
     },
     "metadata": {},
     "output_type": "display_data"
    },
    {
     "name": "stdout",
     "output_type": "stream",
     "text": [
      "----------------------------------------------------------------------------------------------------\n",
      "providerCode\n"
     ]
    },
    {
     "data": {
      "text/plain": [
       "array(['Amadeus||Amadeus', 'Amadeus||Amadeus||Amadeus', 'Amadeus',\n",
       "       'Amadeus||', 'Amadeus||Amadeus||', None], dtype=object)"
      ]
     },
     "metadata": {},
     "output_type": "display_data"
    },
    {
     "name": "stdout",
     "output_type": "stream",
     "text": [
      "----------------------------------------------------------------------------------------------------\n",
      "seatsRemaining\n"
     ]
    },
    {
     "data": {
      "text/plain": [
       "array([7, 4, 5, 3, 6, 1, 2, 9])"
      ]
     },
     "metadata": {},
     "output_type": "display_data"
    },
    {
     "name": "stdout",
     "output_type": "stream",
     "text": [
      "----------------------------------------------------------------------------------------------------\n",
      "originCode\n"
     ]
    },
    {
     "data": {
      "text/plain": [
       "array(['GIG', 'GRU', 'CGH', 'POA', 'BSB', 'MAO', 'SSA', 'SDU', 'CNF'],\n",
       "      dtype=object)"
      ]
     },
     "metadata": {},
     "output_type": "display_data"
    },
    {
     "name": "stdout",
     "output_type": "stream",
     "text": [
      "----------------------------------------------------------------------------------------------------\n",
      "destinationCode\n"
     ]
    },
    {
     "data": {
      "text/plain": [
       "array(['BSB', 'POA', 'MAO', 'GIG', 'CNF', 'SDU', 'GRU', 'SSA', 'CGH'],\n",
       "      dtype=object)"
      ]
     },
     "metadata": {},
     "output_type": "display_data"
    },
    {
     "name": "stdout",
     "output_type": "stream",
     "text": [
      "----------------------------------------------------------------------------------------------------\n"
     ]
    }
   ],
   "source": [
    "columns_to_check_unique_values = nunique_data[(nunique_data != 1) & (nunique_data <= 10)].index\n",
    "for column in columns_to_check_unique_values:\n",
    "    print(column)\n",
    "    display(data[column].unique())\n",
    "    print(\"-\"*100)\n",
    "    \n",
    "columns_to_delete += [\"hasSeatMap\", \"providerCode\"]"
   ]
  },
  {
   "cell_type": "code",
   "execution_count": 11,
   "id": "e01761fc-e80d-4721-bae5-bd10e0a2d583",
   "metadata": {
    "tags": []
   },
   "outputs": [
    {
     "data": {
      "text/plain": [
       "(['searchIdSearchTable',\n",
       "  'showFees',\n",
       "  'isBasicEconomy',\n",
       "  'currency',\n",
       "  'hasSeatMap',\n",
       "  'numberOfTickets',\n",
       "  'isRefundable',\n",
       "  'isFreeChangeAvailable',\n",
       "  'providerCode',\n",
       "  'fees'],\n",
       " 10)"
      ]
     },
     "execution_count": 11,
     "metadata": {},
     "output_type": "execute_result"
    }
   ],
   "source": [
    "columns_to_delete = list(set(columns_to_delete))\n",
    "columns_to_delete, len(columns_to_delete)"
   ]
  },
  {
   "cell_type": "code",
   "execution_count": 12,
   "id": "2020ec5b-6162-4c6e-8bae-6c5caa8f154d",
   "metadata": {
    "tags": []
   },
   "outputs": [
    {
     "data": {
      "text/plain": [
       "(33848879, 13)"
      ]
     },
     "execution_count": 12,
     "metadata": {},
     "output_type": "execute_result"
    }
   ],
   "source": [
    "data.drop(columns=columns_to_delete, inplace=True)\n",
    "data.shape"
   ]
  },
  {
   "cell_type": "code",
   "execution_count": 22,
   "id": "66749b80-3ced-4bcf-8bdd-66d370bd5518",
   "metadata": {
    "tags": []
   },
   "outputs": [
    {
     "data": {
      "text/html": [
       "<div>\n",
       "<style scoped>\n",
       "    .dataframe tbody tr th:only-of-type {\n",
       "        vertical-align: middle;\n",
       "    }\n",
       "\n",
       "    .dataframe tbody tr th {\n",
       "        vertical-align: top;\n",
       "    }\n",
       "\n",
       "    .dataframe thead th {\n",
       "        text-align: right;\n",
       "    }\n",
       "</style>\n",
       "<table border=\"1\" class=\"dataframe\">\n",
       "  <thead>\n",
       "    <tr style=\"text-align: right;\">\n",
       "      <th></th>\n",
       "      <th>searchId</th>\n",
       "      <th>legId</th>\n",
       "      <th>fareBasisCode</th>\n",
       "      <th>taxes</th>\n",
       "      <th>baseFare</th>\n",
       "      <th>totalFare</th>\n",
       "      <th>freeCancellationBy</th>\n",
       "      <th>seatsRemaining</th>\n",
       "      <th>searchTime</th>\n",
       "      <th>operationalSearchTime</th>\n",
       "      <th>flightDay</th>\n",
       "      <th>originCode</th>\n",
       "      <th>destinationCode</th>\n",
       "    </tr>\n",
       "  </thead>\n",
       "  <tbody>\n",
       "    <tr>\n",
       "      <th>0</th>\n",
       "      <td>67435507</td>\n",
       "      <td>424cd2c79592022c6290a4dbf4bb7072</td>\n",
       "      <td>YJ0U0G1</td>\n",
       "      <td>40.6</td>\n",
       "      <td>1399.0</td>\n",
       "      <td>1439.6</td>\n",
       "      <td>2023-06-12 23:59:00</td>\n",
       "      <td>7</td>\n",
       "      <td>2023-06-09 01:21:47.870182</td>\n",
       "      <td>2023-06-09 01:00:00</td>\n",
       "      <td>2023-07-11</td>\n",
       "      <td>GIG</td>\n",
       "      <td>BSB</td>\n",
       "    </tr>\n",
       "    <tr>\n",
       "      <th>1</th>\n",
       "      <td>67316111</td>\n",
       "      <td>08978a96520c5df3936c6bc02e4ce991</td>\n",
       "      <td>ANAQAG2G</td>\n",
       "      <td>6.0</td>\n",
       "      <td>600.0</td>\n",
       "      <td>606.0</td>\n",
       "      <td>2023-06-12 23:59:00</td>\n",
       "      <td>4</td>\n",
       "      <td>2023-06-09 01:00:16.159655</td>\n",
       "      <td>2023-06-09 01:00:00</td>\n",
       "      <td>2023-06-10</td>\n",
       "      <td>GRU</td>\n",
       "      <td>POA</td>\n",
       "    </tr>\n",
       "  </tbody>\n",
       "</table>\n",
       "</div>"
      ],
      "text/plain": [
       "   searchId                             legId fareBasisCode  taxes  baseFare  \\\n",
       "0  67435507  424cd2c79592022c6290a4dbf4bb7072       YJ0U0G1   40.6    1399.0   \n",
       "1  67316111  08978a96520c5df3936c6bc02e4ce991      ANAQAG2G    6.0     600.0   \n",
       "\n",
       "   totalFare  freeCancellationBy  seatsRemaining                 searchTime  \\\n",
       "0     1439.6 2023-06-12 23:59:00               7 2023-06-09 01:21:47.870182   \n",
       "1      606.0 2023-06-12 23:59:00               4 2023-06-09 01:00:16.159655   \n",
       "\n",
       "  operationalSearchTime   flightDay originCode destinationCode  \n",
       "0   2023-06-09 01:00:00  2023-07-11        GIG             BSB  \n",
       "1   2023-06-09 01:00:00  2023-06-10        GRU             POA  "
      ]
     },
     "execution_count": 22,
     "metadata": {},
     "output_type": "execute_result"
    }
   ],
   "source": [
    "data.head(2)"
   ]
  },
  {
   "cell_type": "markdown",
   "id": "b26dc0dc-3c67-408a-9c35-ae0726028c59",
   "metadata": {
    "jp-MarkdownHeadingCollapsed": true,
    "tags": []
   },
   "source": [
    "## Create features"
   ]
  },
  {
   "cell_type": "code",
   "execution_count": null,
   "id": "22868eb4-17fb-4217-841a-bb30c35adc2f",
   "metadata": {},
   "outputs": [],
   "source": []
  },
  {
   "cell_type": "code",
   "execution_count": null,
   "id": "c55c9a66-e7cb-44bf-994a-790396ae68f0",
   "metadata": {},
   "outputs": [],
   "source": []
  },
  {
   "cell_type": "markdown",
   "id": "69368af0-ae13-4b59-b05f-cc7fe00323b2",
   "metadata": {
    "tags": []
   },
   "source": [
    "## Separation of validation and test training data"
   ]
  },
  {
   "cell_type": "markdown",
   "id": "32160544-9074-4410-9f0d-ee99f71a82e4",
   "metadata": {
    "tags": []
   },
   "source": [
    "### Time series"
   ]
  },
  {
   "cell_type": "markdown",
   "id": "89b4a36d-2be6-4595-bc5c-9d1635735475",
   "metadata": {
    "tags": []
   },
   "source": [
    "#### Version 1 "
   ]
  },
  {
   "cell_type": "markdown",
   "id": "ffc81caa-6576-4768-ac63-90bf481f9a1a",
   "metadata": {
    "tags": []
   },
   "source": [
    "Train percentage 0.65 <br>\n",
    "Validation percentage 0.20 <br>\n",
    "Test percentage 0.15 <br>"
   ]
  },
  {
   "cell_type": "code",
   "execution_count": 14,
   "id": "890de7ad-8077-4486-b5d3-b81f0ea60011",
   "metadata": {
    "tags": []
   },
   "outputs": [],
   "source": [
    "time_series_columns = [\"legId\", \"operationalSearchTime\", \"totalFare\"]\n",
    "time_series_data = data[time_series_columns]\n",
    "time_series_data.sort_values(\"operationalSearchTime\", inplace=True, ignore_index=True)"
   ]
  },
  {
   "cell_type": "code",
   "execution_count": 18,
   "id": "991967a6-e2a8-4bfe-977a-144c6707a964",
   "metadata": {
    "tags": []
   },
   "outputs": [
    {
     "data": {
      "text/plain": [
       "(Timestamp('2023-06-04 23:00:00'), Timestamp('2023-06-11 00:00:00'), 146)"
      ]
     },
     "execution_count": 18,
     "metadata": {},
     "output_type": "execute_result"
    }
   ],
   "source": [
    "time_series_data.operationalSearchTime.min(),\\\n",
    "time_series_data.operationalSearchTime.max(),\\\n",
    "time_series_data.operationalSearchTime.nunique()"
   ]
  },
  {
   "cell_type": "code",
   "execution_count": 19,
   "id": "5daf8b48-2d95-4a91-bf8e-08f743531a87",
   "metadata": {
    "tags": []
   },
   "outputs": [],
   "source": [
    "operationalSearchTime = time_series_data.operationalSearchTime.unique()"
   ]
  },
  {
   "cell_type": "code",
   "execution_count": 34,
   "id": "6d63fba1-a3e5-482f-b2fe-16b065b93ed9",
   "metadata": {
    "tags": []
   },
   "outputs": [],
   "source": [
    "end_train = ceil(len(operationalSearchTime) * 0.65)\n",
    "end_validation = end_train + ceil(len(operationalSearchTime) * 0.2)"
   ]
  },
  {
   "cell_type": "code",
   "execution_count": 34,
   "id": "4be33664-92f5-44af-a23b-99940c5426bd",
   "metadata": {
    "tags": []
   },
   "outputs": [],
   "source": [
    "train_mask = time_series_data.operationalSearchTime.isin(operationalSearchTime[:end_train])\n",
    "validation_mask = time_series_data.operationalSearchTime.isin(operationalSearchTime[end_train:end_validation])\n",
    "test_mask = time_series_data.operationalSearchTime.isin(operationalSearchTime[end_validation:])"
   ]
  },
  {
   "cell_type": "code",
   "execution_count": 37,
   "id": "b10f5fd7-a0b1-4bb7-8715-954b2630b50f",
   "metadata": {
    "tags": []
   },
   "outputs": [],
   "source": [
    "train = time_series_data.loc[train_mask]\n",
    "validation = time_series_data.loc[validation_mask]\n",
    "test = time_series_data.loc[test_mask]"
   ]
  },
  {
   "cell_type": "code",
   "execution_count": 39,
   "id": "4a0074b3-e627-4406-8862-e5c7e2b1ca69",
   "metadata": {
    "tags": []
   },
   "outputs": [],
   "source": [
    "path_time_series_version_1 = \"data/train_validade_teste/time_searies/version_1/\""
   ]
  },
  {
   "cell_type": "code",
   "execution_count": 40,
   "id": "6a11b4f3-2b18-4550-aa34-19b82bc034b6",
   "metadata": {
    "tags": []
   },
   "outputs": [],
   "source": [
    "train.to_parquet(path_time_series_version_1 + \"train.parquet\")\n",
    "validation.to_parquet(path_time_series_version_1 + \"validation.parquet\")\n",
    "test.to_parquet(path_time_series_version_1 + \"test.parquet\")"
   ]
  },
  {
   "cell_type": "code",
   "execution_count": null,
   "id": "aa9e5319-b51d-4c30-a2a9-0836f2818164",
   "metadata": {},
   "outputs": [],
   "source": []
  }
 ],
 "metadata": {
  "kernelspec": {
   "display_name": "Python 3 (ipykernel)",
   "language": "python",
   "name": "python3"
  },
  "language_info": {
   "codemirror_mode": {
    "name": "ipython",
    "version": 3
   },
   "file_extension": ".py",
   "mimetype": "text/x-python",
   "name": "python",
   "nbconvert_exporter": "python",
   "pygments_lexer": "ipython3",
   "version": "3.11.4"
  }
 },
 "nbformat": 4,
 "nbformat_minor": 5
}
