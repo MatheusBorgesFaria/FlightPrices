{
 "cells": [
  {
   "cell_type": "markdown",
   "id": "915067f4-49df-4ce1-889d-014ab8d660dd",
   "metadata": {},
   "source": [
    "# Time series model"
   ]
  },
  {
   "cell_type": "markdown",
   "id": "7063e148-23da-40a7-8704-da99808e5db1",
   "metadata": {},
   "source": [
    "# Version 1"
   ]
  },
  {
   "cell_type": "markdown",
   "id": "c86697b1-8624-4e42-8925-fbcee5ba46bf",
   "metadata": {},
   "source": [
    "## Imports"
   ]
  },
  {
   "cell_type": "code",
   "execution_count": null,
   "id": "b61afbc7-f6a7-4f63-b80f-166f86d61c24",
   "metadata": {
    "tags": []
   },
   "outputs": [],
   "source": [
    "%load_ext autoreload\n",
    "%autoreload 2\n",
    "\n",
    "import pandas as pd\n",
    "import numpy as np"
   ]
  },
  {
   "cell_type": "markdown",
   "id": "82448f2c-6ab8-4aa8-8861-e5ce6507e3ee",
   "metadata": {},
   "source": [
    "## Global variables"
   ]
  },
  {
   "cell_type": "code",
   "execution_count": null,
   "id": "f03e41c7-058f-4719-8849-691b9e07fa81",
   "metadata": {
    "tags": []
   },
   "outputs": [],
   "source": [
    "path_time_series_version_1 = \"data/train_validade_teste/time_searies/version_1/\"\n",
    "\n",
    "train = pd.read_parquet(path_time_series_version_1 + \"train.parquet\")\n",
    "# validation = pd.read_parquet(path_time_series_version_1 + \"validation.parquet\")\n",
    "# test = pd.read_parquet(path_time_series_version_1 + \"test.parquet\")"
   ]
  },
  {
   "cell_type": "code",
   "execution_count": null,
   "id": "c9a841a2-2ead-4ad3-8eed-68980e040e1b",
   "metadata": {
    "tags": []
   },
   "outputs": [],
   "source": [
    "#  Create sample only to test code\n",
    "legsId = train.legId.unique()[:3]\n",
    "\n",
    "train_mask = train.legId.isin(legsId)\n",
    "validation_mask = validation.legId.isin(legsId)\n",
    "test_mask = test.legId.isin(legsId)\n",
    "\n",
    "train = train.loc[train_mask].reset_index(drop=True)\n",
    "validation = validation.loc[validation_mask].reset_index(drop=True)\n",
    "test = test.loc[test_mask].reset_index(drop=True)"
   ]
  },
  {
   "cell_type": "code",
   "execution_count": null,
   "id": "60c8e95c-810e-4803-b8a7-26820f6058ba",
   "metadata": {
    "tags": []
   },
   "outputs": [],
   "source": [
    "train"
   ]
  },
  {
   "cell_type": "code",
   "execution_count": null,
   "id": "2db5c235-4996-4565-b56d-a357644d91b1",
   "metadata": {},
   "outputs": [],
   "source": []
  }
 ],
 "metadata": {
  "kernelspec": {
   "display_name": "Python (model_env)",
   "language": "python",
   "name": "model_env"
  },
  "language_info": {
   "codemirror_mode": {
    "name": "ipython",
    "version": 3
   },
   "file_extension": ".py",
   "mimetype": "text/x-python",
   "name": "python",
   "nbconvert_exporter": "python",
   "pygments_lexer": "ipython3",
   "version": "3.11.4"
  }
 },
 "nbformat": 4,
 "nbformat_minor": 5
}
