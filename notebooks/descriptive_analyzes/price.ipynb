{
 "cells": [
  {
   "cell_type": "markdown",
   "id": "10035462-a801-40a9-a032-7da242db5675",
   "metadata": {},
   "source": [
    "# Análises descritivas do preço total"
   ]
  },
  {
   "cell_type": "markdown",
   "id": "de524512-3120-45e1-bef4-ea867b2da557",
   "metadata": {
    "jp-MarkdownHeadingCollapsed": true,
    "tags": []
   },
   "source": [
    "## Imports"
   ]
  },
  {
   "cell_type": "code",
   "execution_count": 1,
   "id": "5657de38-a1b6-4e45-ad2d-9daa0b905d62",
   "metadata": {
    "tags": []
   },
   "outputs": [],
   "source": [
    "%load_ext autoreload\n",
    "%autoreload 2"
   ]
  },
  {
   "cell_type": "code",
   "execution_count": 2,
   "id": "4b88752c-429e-4dbd-b58a-8fc5c35e0833",
   "metadata": {
    "tags": []
   },
   "outputs": [],
   "source": [
    "import numpy as np\n",
    "import pandas as pd\n",
    "import random as rd\n",
    "import seaborn as sns\n",
    "import scipy.stats as stats\n",
    "import matplotlib.pyplot as plt\n",
    "import sys\n",
    "\n",
    "sys.path.append(\"../../odbc/\")\n",
    "from query_tools import run_query, get_table\n"
   ]
  },
  {
   "cell_type": "markdown",
   "id": "647a12e6-7094-4a93-8286-004406e55313",
   "metadata": {
    "jp-MarkdownHeadingCollapsed": true,
    "tags": []
   },
   "source": [
    "## Funções úteis"
   ]
  },
  {
   "cell_type": "markdown",
   "id": "fade41ef-b6c4-4633-8fa1-45c06b043062",
   "metadata": {
    "tags": []
   },
   "source": [
    "### Variabilidade geral do preço"
   ]
  },
  {
   "cell_type": "code",
   "execution_count": 3,
   "id": "1b24f17f-e5b2-4da7-9ac7-9b1fdf60f9b6",
   "metadata": {
    "tags": []
   },
   "outputs": [],
   "source": [
    "def variabilidade(column, from_table):\n",
    "    query = f\"\"\"\n",
    "        SELECT \"legId\",\n",
    "                stddev(\"{column}\") AS standard_deviation,\n",
    "                variance(\"{column}\") AS variance,\n",
    "                max(\"{column}\") AS max,\n",
    "                min(\"{column}\") AS min,\n",
    "                max(\"{column}\") -  min(\"{column}\") AS amplitude,\n",
    "                AVG(\"{column}\") AS average,\n",
    "                count(*) AS number_lines\n",
    "        FROM {from_table}\n",
    "        GROUP BY \"legId\"\n",
    "    \"\"\"\n",
    "    return run_query(query)"
   ]
  },
  {
   "cell_type": "code",
   "execution_count": 4,
   "id": "bd601ab8-71a6-4690-a4ab-5eb637e1c659",
   "metadata": {
    "tags": []
   },
   "outputs": [],
   "source": [
    "def plot_multiplos_boxplots(df):\n",
    "    for column in df.select_dtypes(include=['float64', 'int64']):\n",
    "        plt.figure(figsize=(6, 4))\n",
    "        df.boxplot(column=column)\n",
    "        plt.title(f'Boxplot - {column}')\n",
    "        plt.show()\n",
    "    return "
   ]
  },
  {
   "cell_type": "code",
   "execution_count": 5,
   "id": "d93a046f-9457-4dad-915f-d7f680cc50fb",
   "metadata": {
    "tags": []
   },
   "outputs": [],
   "source": [
    "def variabilidade_por_dia(column, from_table):\n",
    "    query = f\"\"\"\n",
    "        SELECT  DATE_TRUNC('day', S.\"operationalSearchTime\") AS search_day,\n",
    "                T.\"legId\",\n",
    "                stddev(T.\"{column}\") AS standard_deviation,\n",
    "                variance(T.\"{column}\") AS variance,\n",
    "                max(T.\"{column}\") AS max,\n",
    "                min(T.\"{column}\") AS min,\n",
    "                max(T.\"{column}\") - min(\"{column}\") AS amplitude,\n",
    "                AVG(T.\"{column}\") AS average,\n",
    "                count(*) AS number_lines\n",
    "        FROM {from_table} T\n",
    "        JOIN (\n",
    "            SELECT FS.\"searchId\" , FS.\"operationalSearchTime\"\n",
    "            FROM flight.search FS\n",
    "        ) S ON T.\"searchId\" = S.\"searchId\"\n",
    "        GROUP BY search_day, T.\"legId\"\n",
    "    \"\"\"\n",
    "    return run_query(query)"
   ]
  },
  {
   "cell_type": "markdown",
   "id": "e0139689-4b07-4c4f-a00c-5aebb593e8ac",
   "metadata": {
    "tags": []
   },
   "source": [
    "### Dias até a viagem"
   ]
  },
  {
   "cell_type": "code",
   "execution_count": 6,
   "id": "8bc517ba-32e1-4984-9642-418223adf085",
   "metadata": {
    "tags": []
   },
   "outputs": [],
   "source": [
    "def get_normalized_fares_and_search():\n",
    "    query = \"\"\"\n",
    "        SELECT S.\"searchId\", NF.\"legId\", S.\"operationalSearchTime\",\n",
    "            S.\"flightDay\", NF.\"totalFare\", NF.\"normalizedTotalFare\",\n",
    "            DATE_PART('day', S.\"flightDay\" - S.\"operationalSearchTime\") AS \"daysUntilFlight\"\n",
    "        FROM flight.normalized_fares_view NF\n",
    "        JOIN (\n",
    "            SELECT FS.\"searchId\", FS.\"operationalSearchTime\",\n",
    "                FS.\"flightDay\"\n",
    "            FROM flight.search FS\n",
    "        ) S ON S.\"searchId\" = NF.\"searchId\"\n",
    "    \"\"\"\n",
    "    normalized_fares_and_search = run_query(query)\n",
    "    return normalized_fares_and_search"
   ]
  },
  {
   "cell_type": "code",
   "execution_count": 7,
   "id": "676cfbdf-2898-4381-9966-ed0e408e8567",
   "metadata": {
    "tags": []
   },
   "outputs": [],
   "source": [
    "def plot_serie_preco_passagem(df, n_passagens=1, legId_list=None, seed=12_01_2001,\n",
    "                              y_column=\"totalFare\", mostra_defeitos_na_coleta=True):\n",
    "    time_column = 'operationalSearchTime'\n",
    "\n",
    "    if legId_list is None:\n",
    "        rd.seed(seed)\n",
    "        legId_list = df[\"legId\"].unique().tolist()\n",
    "        legId_list = rd.sample(legId_list, n_passagens)\n",
    "\n",
    "    for legId in legId_list:\n",
    "        df_voo = df.query(f\"legId == '{legId}' \")\n",
    "        df_voo = df_voo.sort_values(time_column)\n",
    "\n",
    "        start_date = df_voo[time_column].min()\n",
    "        end_date = df_voo[time_column].max()\n",
    "\n",
    "        if mostra_defeitos_na_coleta:\n",
    "            date_range = pd.date_range(start=start_date, end=end_date, freq='H')\n",
    "            complete_df = pd.DataFrame({time_column: date_range})\n",
    "\n",
    "            coleta_completa = pd.merge(complete_df, df_voo, on=time_column, how='left')    \n",
    "            coleta_completa[y_column] = coleta_completa[y_column].fillna(0)\n",
    "\n",
    "            x = coleta_completa[time_column]\n",
    "            y = coleta_completa[y_column]\n",
    "\n",
    "        else:\n",
    "            x = df_voo[time_column]\n",
    "            y = df_voo[y_column]\n",
    "\n",
    "        # Constroi o gráfico\n",
    "        plt.figure(figsize=(15, 5))\n",
    "        plt.plot(x, y)\n",
    "        plt.xticks(rotation=90)\n",
    "\n",
    "        # Configurando as datas no eixo x\n",
    "        num_ticks = 60  # Número desejado de ticks no eixo x\n",
    "        date_range = pd.date_range(start=start_date, end=end_date, periods=num_ticks)\n",
    "        plt.xticks(date_range, rotation=90)\n",
    "\n",
    "        plt.xlabel('Data e Hora')\n",
    "        plt.ylabel(y_column)\n",
    "        plt.title(f'Preço do voo {legId}')\n",
    "        plt.show()\n",
    "\n",
    "    return legId_list"
   ]
  },
  {
   "cell_type": "markdown",
   "id": "dadb0858-b094-49d9-b2bd-7e4eedcff16b",
   "metadata": {
    "jp-MarkdownHeadingCollapsed": true,
    "tags": []
   },
   "source": [
    "## Variabilidade geral do preço"
   ]
  },
  {
   "cell_type": "markdown",
   "id": "a7e789d0-5fb5-4ec4-8987-dfcde2db2347",
   "metadata": {
    "tags": []
   },
   "source": [
    "### Como é a variabilidade do preço de um voo?"
   ]
  },
  {
   "cell_type": "code",
   "execution_count": null,
   "id": "85ac8693-f3df-47ce-816b-238be2544ab2",
   "metadata": {
    "tags": []
   },
   "outputs": [],
   "source": [
    "column = \"totalFare\"\n",
    "from_table = \"flight.fare\"\n",
    "\n",
    "variability_totalFare = variabilidade(column, from_table)"
   ]
  },
  {
   "cell_type": "code",
   "execution_count": null,
   "id": "2c44ff7b-36f8-4185-bf8c-1341dc31bc52",
   "metadata": {
    "tags": []
   },
   "outputs": [],
   "source": [
    "plot_multiplos_boxplots(variability_totalFare)\n",
    "del variability_totalFare"
   ]
  },
  {
   "cell_type": "markdown",
   "id": "628010fc-16f1-4ab6-a670-16dacef4c9b1",
   "metadata": {
    "tags": []
   },
   "source": [
    "### Como é a variabilidade do preço de um voo normalizado pelo trecho?"
   ]
  },
  {
   "cell_type": "code",
   "execution_count": null,
   "id": "3484a057-0f0a-4a4e-b7b2-4427dde874fc",
   "metadata": {
    "tags": []
   },
   "outputs": [],
   "source": [
    "column = \"normalizedTotalFare\"\n",
    "from_table = \"flight.normalized_fares_view\"\n",
    "variabilidade_totalFare_normalizado = variabilidade(column, from_table)"
   ]
  },
  {
   "cell_type": "code",
   "execution_count": null,
   "id": "2a5ac690-9aa1-4459-bc49-ab39271ae75c",
   "metadata": {
    "tags": []
   },
   "outputs": [],
   "source": [
    "plot_multiplos_boxplots(variabilidade_totalFare_normalizado)"
   ]
  },
  {
   "cell_type": "markdown",
   "id": "46899895-68e5-4cce-8bad-7c18f5705777",
   "metadata": {
    "tags": []
   },
   "source": [
    "### Como é a variabilidade do preço de um voo ao longo do dia?"
   ]
  },
  {
   "cell_type": "code",
   "execution_count": null,
   "id": "7723b7cf-4ccf-4cc6-a0e7-b7478f8c20f1",
   "metadata": {
    "tags": []
   },
   "outputs": [],
   "source": [
    "column = \"totalFare\"\n",
    "from_table = \"flight.fare\"\n",
    "\n",
    "variability_dayly_totalFare = variabilidade_por_dia(column, from_table)"
   ]
  },
  {
   "cell_type": "code",
   "execution_count": null,
   "id": "8ab4b298-9991-4b2e-80af-d0df5678e46f",
   "metadata": {
    "tags": []
   },
   "outputs": [],
   "source": [
    "variability_dayly_totalFare.tail(1)"
   ]
  },
  {
   "cell_type": "code",
   "execution_count": null,
   "id": "a0f24b16-40bb-4985-b1c8-a78e7540b962",
   "metadata": {
    "tags": []
   },
   "outputs": [],
   "source": [
    "plot_multiplos_boxplots(variability_dayly_totalFare)\n",
    "del variability_dayly_totalFare"
   ]
  },
  {
   "cell_type": "markdown",
   "id": "4db48e8d-1fea-4e5a-ae19-dd5e6f5aa36d",
   "metadata": {
    "tags": []
   },
   "source": [
    "### Como é a variabilidade do preço de um voo normalizado ao longo do dia?\n"
   ]
  },
  {
   "cell_type": "code",
   "execution_count": null,
   "id": "1c2d07e4-e9b8-4f50-907f-20be0856eb97",
   "metadata": {
    "tags": []
   },
   "outputs": [],
   "source": [
    "column = \"normalizedTotalFare\"\n",
    "from_table = \"flight.normalized_fares_view\"\n",
    "\n",
    "variability_dayly_normalizedTotalFare = variabilidade_por_dia(column, from_table)"
   ]
  },
  {
   "cell_type": "code",
   "execution_count": null,
   "id": "c939ab31-bde7-4e1c-ae7a-84366307efa9",
   "metadata": {
    "tags": []
   },
   "outputs": [],
   "source": [
    "plot_multiplos_boxplots(variability_dayly_normalizedTotalFare)\n",
    "del variability_dayly_normalizedTotalFare"
   ]
  },
  {
   "cell_type": "markdown",
   "id": "5b6f7c92-51da-4faf-91e1-57a263fdd8b0",
   "metadata": {
    "tags": []
   },
   "source": [
    "## Dado de preço normalizado"
   ]
  },
  {
   "cell_type": "code",
   "execution_count": null,
   "id": "fbec26fd-3b73-4672-84e7-430babc9b47e",
   "metadata": {
    "tags": []
   },
   "outputs": [],
   "source": [
    "normalized_fares_and_search = get_normalized_fares_and_search()\n",
    "normalized_fares_and_search.shape"
   ]
  },
  {
   "cell_type": "code",
   "execution_count": null,
   "id": "f07d14d3",
   "metadata": {
    "tags": []
   },
   "outputs": [],
   "source": [
    "normalized_fares_and_search.head(2)"
   ]
  },
  {
   "cell_type": "code",
   "execution_count": null,
   "id": "39665511",
   "metadata": {
    "tags": []
   },
   "outputs": [],
   "source": [
    "dias = [7,30, 50]\n",
    "normalized_fares_and_search_filtred = normalized_fares_and_search[normalized_fares_and_search.daysUntilFlight.isin(dias)]"
   ]
  },
  {
   "cell_type": "markdown",
   "id": "84689243-f2f7-414a-a790-7cbf9f512c16",
   "metadata": {
    "tags": []
   },
   "source": [
    "## Dias até a viagem"
   ]
  },
  {
   "cell_type": "markdown",
   "id": "a977aa5e-4967-4ba6-af82-b9ee3ed027e9",
   "metadata": {},
   "source": [
    "### Exemplos do preço da passagem ao longo do tempo."
   ]
  },
  {
   "cell_type": "code",
   "execution_count": null,
   "id": "11fd84a0-c15a-40d3-82e7-182da3068355",
   "metadata": {
    "tags": []
   },
   "outputs": [],
   "source": [
    "plot_serie_preco_passagem(normalized_fares_and_search, n_passagens=3)"
   ]
  },
  {
   "cell_type": "code",
   "execution_count": null,
   "id": "3ed328cc-0a01-411d-ac2a-bd2337fdac59",
   "metadata": {
    "tags": []
   },
   "outputs": [],
   "source": [
    "plot_serie_preco_passagem(normalized_fares_and_search, n_passagens=3, mostra_defeitos_na_coleta=False)"
   ]
  },
  {
   "cell_type": "code",
   "execution_count": null,
   "id": "e50770f4-e9de-482e-b1e2-1aca3db0e016",
   "metadata": {
    "tags": []
   },
   "outputs": [],
   "source": [
    "plot_serie_preco_passagem(normalized_fares_and_search, n_passagens=3, mostra_defeitos_na_coleta=False, y_column=\"normalizedTotalFare\")"
   ]
  },
  {
   "cell_type": "markdown",
   "id": "4b1b251c-416d-4e50-8840-e6e469349f8e",
   "metadata": {},
   "source": [
    "### Existe diferença de preço por dias até a viagem?"
   ]
  },
  {
   "cell_type": "code",
   "execution_count": null,
   "id": "95566b0c-06fe-49e1-9eb3-5cb72a590bd9",
   "metadata": {
    "tags": []
   },
   "outputs": [],
   "source": [
    "# Criar o boxplot lado a lado\n",
    "plt.figure(figsize=(15, 5))\n",
    "normalized_fares_and_search_filtred.boxplot(column=\"normalizedTotalFare\", by=\"daysUntilFlight\", widths=0.4)\n",
    "\n",
    "# Configurar o título e rótulos dos eixos\n",
    "# plt.title(\"Boxplot de normalizedTotalFare por daysUntilFlight\")\n",
    "plt.xlabel(\"Dias até a viagem\")\n",
    "plt.ylabel(\"Preço da passagem normalizado\")\n",
    "\n",
    "# Exibir o gráfico\n",
    "plt.show()\n"
   ]
  },
  {
   "cell_type": "code",
   "execution_count": null,
   "id": "1b72505b-5c5b-45d4-b882-629752fb007b",
   "metadata": {
    "tags": []
   },
   "outputs": [],
   "source": [
    "# Extrair as colunas do dataframe\n",
    "normalized_total_fare = normalized_fares_and_search['normalizedTotalFare']\n",
    "days_until_flight = normalized_fares_and_search['daysUntilFlight']\n",
    "\n",
    "# Criar o scatter plot\n",
    "plt.scatter(days_until_flight, normalized_total_fare)\n",
    "plt.xlabel('Days Until Flight')\n",
    "plt.ylabel('Normalized Total Fare')\n",
    "plt.title('Scatter Plot: Normalized Total Fare vs. Days Until Flight')\n",
    "\n",
    "# Exibir o gráfico\n",
    "plt.show()\n"
   ]
  },
  {
   "cell_type": "code",
   "execution_count": null,
   "id": "d25edb18-7277-4dfb-b653-89b0f778c46a",
   "metadata": {
    "tags": []
   },
   "outputs": [],
   "source": [
    "# Extrair as colunas do dataframe\n",
    "normalized_total_fare = normalized_fares_and_search['normalizedTotalFare']\n",
    "days_until_flight = normalized_fares_and_search['daysUntilFlight']\n",
    "\n",
    "# Criar o scatter plot\n",
    "plt.scatter(days_until_flight, normalized_total_fare)\n",
    "plt.xlabel('Days Until Flight')\n",
    "plt.ylabel('Normalized Total Fare')\n",
    "plt.title('Scatter Plot: Normalized Total Fare vs. Days Until Flight')\n",
    "\n",
    "# Exibir o gráfico\n",
    "plt.show()\n"
   ]
  },
  {
   "cell_type": "code",
   "execution_count": null,
   "id": "0aaf6fb6-226c-4ec0-bec6-4656ffcef820",
   "metadata": {
    "tags": []
   },
   "outputs": [],
   "source": [
    "# Criar o boxplot lado a lado\n",
    "plt.figure(figsize=(10, 6))\n",
    "normalized_fares_and_search_filtred.query(\"normalizedTotalFare <= 3\").boxplot(column=\"normalizedTotalFare\", by=\"daysUntilFlight\", widths=0.4)\n",
    "\n",
    "# Configurar o título e rótulos dos eixos\n",
    "plt.xlabel(\"Dias até a viagem\")\n",
    "plt.ylabel(\"Preço da passagem normalizado\")\n",
    "\n",
    "# Exibir o gráfico\n",
    "plt.show()\n"
   ]
  },
  {
   "cell_type": "markdown",
   "id": "1c297817-f1d6-4478-9801-ffa18ea2a1d2",
   "metadata": {},
   "source": [
    "### Correlação entre dias até a viagem e o preço normalizado"
   ]
  },
  {
   "cell_type": "code",
   "execution_count": null,
   "id": "7d8eff6c-e107-4cd1-bd8b-876c74b1a5e0",
   "metadata": {
    "tags": []
   },
   "outputs": [],
   "source": [
    "pearson_corr, p_value = stats.pearsonr(normalized_fares_and_search[\"normalizedTotalFare\"], normalized_fares_and_search[\"daysUntilFlight\"])\n",
    "\n",
    "print(\"Correlação de Pearson:\", pearson_corr)\n",
    "print(\"P-value:\", p_value)\n",
    "# FALTA VERIFICAR OS PRESSUPOSTOS DO TESTE"
   ]
  },
  {
   "cell_type": "code",
   "execution_count": null,
   "id": "ce2f2dda-0eb4-4b4b-98bb-42e657997a52",
   "metadata": {
    "tags": []
   },
   "outputs": [],
   "source": [
    "pearson_corr, p_value = stats.pearsonr(normalized_fares_and_search[\"totalFare\"], normalized_fares_and_search[\"daysUntilFlight\"])\n",
    "\n",
    "print(\"Correlação de Pearson:\", pearson_corr)\n",
    "print(\"P-value:\", p_value)\n",
    "# FALTA VERIFICAR OS PRESSUPOSTOS DO TESTE"
   ]
  },
  {
   "cell_type": "code",
   "execution_count": null,
   "id": "75885d41-6d8d-45f9-9fef-3719582168ff",
   "metadata": {
    "tags": []
   },
   "outputs": [],
   "source": [
    "normalized_fares_and_search.head()"
   ]
  },
  {
   "cell_type": "markdown",
   "id": "f7975f03-6d1d-42fc-bfec-a5d9e7fabdba",
   "metadata": {},
   "source": [
    "### Cruzamento: preço e dias até a viagem\n",
    "FIZ, MAS NÃO DÁ PARA VER/ENTENDER NADA\n"
   ]
  },
  {
   "cell_type": "code",
   "execution_count": null,
   "id": "88daae66-09dd-4d21-b0fa-e1c8568eae30",
   "metadata": {
    "tags": []
   },
   "outputs": [],
   "source": [
    "# # Extrair as colunas do dataframe\n",
    "# normalized_total_fare = normalized_fares_and_search['normalizedTotalFare']\n",
    "# days_until_flight = normalized_fares_and_search['daysUntilFlight']\n",
    "\n",
    "# # Criar o scatter plot\n",
    "# plt.scatter(days_until_flight, normalized_total_fare)\n",
    "# plt.xlabel('Days Until Flight')\n",
    "# plt.ylabel('Normalized Total Fare')\n",
    "# plt.title('Scatter Plot: Normalized Total Fare vs. Days Until Flight')\n",
    "\n",
    "# # Exibir o gráfico\n",
    "# plt.show()\n"
   ]
  },
  {
   "cell_type": "code",
   "execution_count": null,
   "id": "d5b827b3-c623-41a8-aca4-5dad1e73cc9f",
   "metadata": {},
   "outputs": [],
   "source": []
  }
 ],
 "metadata": {
  "kernelspec": {
   "display_name": "Python 3 (ipykernel)",
   "language": "python",
   "name": "python3"
  },
  "language_info": {
   "codemirror_mode": {
    "name": "ipython",
    "version": 3
   },
   "file_extension": ".py",
   "mimetype": "text/x-python",
   "name": "python",
   "nbconvert_exporter": "python",
   "pygments_lexer": "ipython3",
   "version": "3.11.3"
  }
 },
 "nbformat": 4,
 "nbformat_minor": 5
}
