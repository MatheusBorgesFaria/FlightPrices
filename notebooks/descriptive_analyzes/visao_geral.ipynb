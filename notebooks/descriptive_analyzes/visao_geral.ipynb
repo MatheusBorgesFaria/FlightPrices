{
 "cells": [
  {
   "cell_type": "markdown",
   "id": "32e4490d-47d9-469c-8720-14f4e0f128fd",
   "metadata": {},
   "source": [
    "# Visão geral dos dados coletados"
   ]
  },
  {
   "cell_type": "markdown",
   "id": "f9c63da7-4d10-4e72-bfa1-c71570f2a27b",
   "metadata": {},
   "source": [
    "## Imports"
   ]
  },
  {
   "cell_type": "code",
   "execution_count": null,
   "id": "3f4bec54-f5d0-438c-ad20-7ddae3a988e8",
   "metadata": {
    "tags": []
   },
   "outputs": [],
   "source": [
    "%load_ext autoreload\n",
    "%autoreload 2"
   ]
  },
  {
   "cell_type": "code",
   "execution_count": null,
   "id": "a8b097e4-3f5b-490d-8271-e2d83afccfa8",
   "metadata": {
    "tags": []
   },
   "outputs": [],
   "source": [
    "import pandas as pd\n",
    "import matplotlib.pyplot as plt\n",
    "\n",
    "import sys\n",
    "\n",
    "\n",
    "sys.path.append(\"../../\")\n",
    "sys.path.append(\"../../odbc\")\n",
    "import query_tools as qt\n",
    "from connection import load_conn"
   ]
  },
  {
   "cell_type": "markdown",
   "id": "29c63daf-2ce6-4ce7-9a64-bba582093a34",
   "metadata": {},
   "source": [
    "## Linhas coletadas"
   ]
  },
  {
   "cell_type": "markdown",
   "id": "1386ec7f-099d-4441-81bd-8b157ce6a92f",
   "metadata": {},
   "source": [
    "### Quantas linhas de informação dos voos foram coletadas?"
   ]
  },
  {
   "cell_type": "code",
   "execution_count": null,
   "id": "6774434d-ea20-437e-baab-df20655fbdda",
   "metadata": {
    "tags": []
   },
   "outputs": [],
   "source": [
    "q = \"\"\"\n",
    "SELECT count(*)\n",
    "FROM flight.search\n",
    "\"\"\"\n",
    "qt.run_query(q)"
   ]
  },
  {
   "cell_type": "markdown",
   "id": "30c9bf37-7a0a-4234-8755-39c0af9437ff",
   "metadata": {
    "tags": []
   },
   "source": [
    "### Em média quantas linhas novas são coletadas por dia?\n",
    "Obs: considerando que o crawler coletaria 24h por dia\n",
    "Uma boa estimativa é verificar qual a média de linhas coletadas por hora e multiplicar por 24h, vai ser uma estimativa melhor."
   ]
  },
  {
   "cell_type": "code",
   "execution_count": null,
   "id": "42dede21-debb-4918-a85a-f2d036686d37",
   "metadata": {
    "tags": []
   },
   "outputs": [],
   "source": [
    "# Media e desvio padrao do nº de linhas coletadas por hora\n",
    "q = \"\"\"\n",
    "SELECT AVG(count) AS average_rows_por_hora, stddev(count) AS desvio_padrao_por_hora\n",
    "FROM (\n",
    "    SELECT COUNT(*) AS count\n",
    "    FROM flight.search\n",
    "    GROUP BY DATE_TRUNC('hour', \"operationalSearchTime\")\n",
    ") subquery\n",
    "\"\"\"\n",
    "metricas_coleta_linhas_por_hora = qt.run_query(q)\n",
    "metricas_coleta_linhas_por_hora"
   ]
  },
  {
   "cell_type": "code",
   "execution_count": null,
   "id": "dc64c0ec-62a6-495d-90d7-7a1723048607",
   "metadata": {
    "tags": []
   },
   "outputs": [],
   "source": [
    "estimativa_linhas_coletadas_por_dia = metricas_coleta_linhas_por_hora.loc[0, \"average_rows_por_hora\"] * 24\n",
    "estimativa_linhas_coletadas_por_dia"
   ]
  },
  {
   "cell_type": "markdown",
   "id": "45f4eaa5-3d2e-4188-a208-d578b8c678de",
   "metadata": {},
   "source": [
    "## Memória"
   ]
  },
  {
   "cell_type": "markdown",
   "id": "3c17ade1-8398-4513-b12e-cec16dcfcdf2",
   "metadata": {},
   "source": [
    "### Quantos Bytes tem o banco de dados?"
   ]
  },
  {
   "cell_type": "code",
   "execution_count": null,
   "id": "bcf7f9b4-3474-4f77-ba43-8d34288d0e6e",
   "metadata": {
    "tags": []
   },
   "outputs": [],
   "source": [
    "# Consulta para obter o tamanho do banco de dados em bytes\n",
    "q = \"SELECT pg_database_size('flight')\"\n",
    "bytes_df = qt.run_query(q)\n",
    "bytes_df"
   ]
  },
  {
   "cell_type": "markdown",
   "id": "0d8220fa-0216-4bb5-bcf2-07f23ca7960a",
   "metadata": {},
   "source": [
    "### Quantos Gigabytes tem o banco de dados?"
   ]
  },
  {
   "cell_type": "code",
   "execution_count": null,
   "id": "a67fe7c1-d6b4-4b04-ae06-19dfbf2aa901",
   "metadata": {
    "tags": []
   },
   "outputs": [],
   "source": [
    "bytes_ = bytes_df.loc[0, \"pg_database_size\"]\n",
    "# Consulta para obter o tamanho do banco de dados em gigabytes \n",
    "q = f\"SELECT pg_size_pretty({bytes_})\"\n",
    "qt.run_query(q)"
   ]
  },
  {
   "cell_type": "markdown",
   "id": "b4023ff6-eba8-4fe6-ac87-75e37fe367c6",
   "metadata": {},
   "source": [
    "## Coleta de dados"
   ]
  },
  {
   "cell_type": "markdown",
   "id": "321f769d-3200-4218-8745-f828fcbd1e02",
   "metadata": {},
   "source": [
    "### Quais as datas e horários que temos coletados?"
   ]
  },
  {
   "cell_type": "code",
   "execution_count": null,
   "id": "24af3ddd-5236-4753-a3a3-0b46a30cdd6d",
   "metadata": {
    "tags": []
   },
   "outputs": [],
   "source": [
    "q = \"\"\"\n",
    "SELECT DISTINCT DATE_TRUNC('hour', \"operationalSearchTime\") AS \"operationalSearchTime\"\n",
    "FROM flight.search\n",
    "\"\"\"\n",
    "\n",
    "operationalSearchTime = qt.run_query(q)"
   ]
  },
  {
   "cell_type": "code",
   "execution_count": null,
   "id": "27353955-f35a-41ff-b098-668903b73295",
   "metadata": {
    "tags": []
   },
   "outputs": [],
   "source": [
    "operationalSearchTime.head(1)"
   ]
  },
  {
   "cell_type": "code",
   "execution_count": null,
   "id": "c2bc2f7e-d01d-41de-8f60-d5ba1688772f",
   "metadata": {
    "tags": []
   },
   "outputs": [],
   "source": [
    "plt.figure(figsize=(15, 5))\n",
    "plt.scatter(operationalSearchTime['operationalSearchTime'],\n",
    "            [1] * len(operationalSearchTime))\n",
    "plt.yticks([])  # Remove os valores no eixo y\n",
    "plt.xlabel('Data e Hora')\n",
    "plt.title('Datas e Horários Coletados')\n",
    "plt.show()\n"
   ]
  },
  {
   "cell_type": "markdown",
   "id": "eb5d078a-95a7-4afd-a57d-c794d10b522a",
   "metadata": {},
   "source": [
    "### Qual a quantidade de voos capturados em cada coleta?"
   ]
  },
  {
   "cell_type": "code",
   "execution_count": null,
   "id": "7a430136-70ba-4521-8f3c-1fc00173c0e2",
   "metadata": {
    "tags": []
   },
   "outputs": [],
   "source": [
    "q = \"\"\"\n",
    "SELECT DISTINCT DATE_TRUNC('hour', \"operationalSearchTime\") AS hora_coletada,\n",
    "    count(*) AS linhas_coletadas\n",
    "FROM flight.search\n",
    "GROUP BY hora_coletada\n",
    "\"\"\"\n",
    "coleta = qt.run_query(q)"
   ]
  },
  {
   "cell_type": "code",
   "execution_count": null,
   "id": "6738e1fc-cc2f-47ec-a7b9-cad245453686",
   "metadata": {
    "tags": []
   },
   "outputs": [],
   "source": [
    "coleta.hora_coletada.max(), coleta.hora_coletada.min()"
   ]
  },
  {
   "cell_type": "code",
   "execution_count": null,
   "id": "179e7f5a-c5b0-49d3-a15a-fe14e3ddd52b",
   "metadata": {
    "tags": []
   },
   "outputs": [],
   "source": [
    "coleta.head(10).to_dict()"
   ]
  },
  {
   "cell_type": "code",
   "execution_count": null,
   "id": "08238860-3f31-4ed4-83f9-12ae6b03f775",
   "metadata": {
    "tags": []
   },
   "outputs": [],
   "source": [
    "# Definir intervalo de datas completo\n",
    "start_date = coleta['hora_coletada'].min()\n",
    "end_date = coleta['hora_coletada'].max()\n",
    "date_range = pd.date_range(start=start_date, end=end_date, freq='H')\n",
    "\n",
    "# Criar DataFrame com todas as horas do intervalo\n",
    "complete_df = pd.DataFrame({'hora_coletada': date_range})\n",
    "\n",
    "# Fazer merge dos DataFrames\n",
    "coleta_completa = pd.merge(complete_df, coleta, on='hora_coletada', how='left')\n",
    "coleta_completa['linhas_coletadas'] = coleta_completa['linhas_coletadas'].fillna(0)\n",
    "\n",
    "# Ordenar DataFrame pelo horário\n",
    "coleta_completa = coleta_completa.sort_values('hora_coletada')\n"
   ]
  },
  {
   "cell_type": "code",
   "execution_count": null,
   "id": "a6a00ac7-d9df-4d5e-ab82-b1cd0942e72e",
   "metadata": {
    "tags": []
   },
   "outputs": [],
   "source": [
    "# Criando o gráfico\n",
    "plt.figure(figsize=(15, 5))\n",
    "plt.plot(coleta_completa[\"hora_coletada\"], coleta_completa[\"linhas_coletadas\"])\n",
    "plt.xticks(rotation=90)\n",
    "\n",
    "# Configurando as datas no eixo x\n",
    "num_ticks = 60  # Número desejado de ticks no eixo x\n",
    "date_range = pd.date_range(start=coleta_completa[\"hora_coletada\"].min(), end=coleta_completa[\"hora_coletada\"].max(), periods=num_ticks)\n",
    "plt.xticks(date_range, rotation=90)\n",
    "\n",
    "plt.xlabel('Data e Hora')\n",
    "plt.ylabel('Linhas Coletadas')\n",
    "plt.title('Quantidade de Linhas Coletadas por Data')\n",
    "plt.show()\n"
   ]
  },
  {
   "cell_type": "markdown",
   "id": "c1c9dea5-223b-4c23-9897-8715a8c5b4be",
   "metadata": {},
   "source": [
    "### Qual a maior janela de coleta consecutiva?"
   ]
  },
  {
   "cell_type": "code",
   "execution_count": null,
   "id": "b76bbba4-44c7-4468-842e-54b28092a0d4",
   "metadata": {
    "tags": []
   },
   "outputs": [],
   "source": [
    "coleta_completa.sort_values(\"hora_coletada\", inplace=True, ignore_index=True)\n",
    "display(coleta_completa.head())\n",
    "\n",
    "teve_coleta = (coleta_completa.linhas_coletadas != 0).map(int)"
   ]
  },
  {
   "cell_type": "code",
   "execution_count": null,
   "id": "214c1269-fdb3-4b96-b18e-46c5a4d8ccb9",
   "metadata": {
    "tags": []
   },
   "outputs": [],
   "source": [
    "# Variáveis para acompanhar a sequência atual e a sequência máxima\n",
    "numero_zeros_aceitaveis = 0\n",
    "current_sequence = 0\n",
    "max_sequence = 0\n",
    "primeiro_valor_sequencia = True\n",
    "menor_data = None\n",
    "maior_data = None\n",
    "\n",
    "contador_zeros = 0\n",
    "\n",
    "# Percorrer a série\n",
    "for indice, value in enumerate(teve_coleta):\n",
    "    if value == 1:\n",
    "        if primeiro_valor_sequencia:\n",
    "            menor_data_sequencia_atual = coleta_completa.loc[indice, \"hora_coletada\"]\n",
    "            primeiro_valor_sequencia = False\n",
    "\n",
    "        current_sequence += 1\n",
    "        contador_zeros = 0\n",
    "        if current_sequence > max_sequence:\n",
    "            max_sequence = current_sequence\n",
    "            menor_data = menor_data_sequencia_atual\n",
    "            maior_data = coleta_completa.loc[indice, \"hora_coletada\"]\n",
    "    else:\n",
    "        contador_zeros += 1\n",
    "        \n",
    "        if contador_zeros > numero_zeros_aceitaveis:\n",
    "            current_sequence = 0\n",
    "            primeiro_valor_sequencia = True\n",
    "\n",
    "print(\"Maior sequência de 1's:\", max_sequence, f\"Isso equivale a {round(max_sequence / 24, 2)} dias\")\n",
    "print(f\"Data de inicio da sequencia {menor_data} , data do fim da sequencia {maior_data}\")"
   ]
  },
  {
   "cell_type": "code",
   "execution_count": null,
   "id": "aba826cc-d996-43b8-8fc3-28cc8f7931bb",
   "metadata": {
    "tags": []
   },
   "outputs": [],
   "source": [
    "# Conferindo o intervalo encontrado\n",
    "numero_horas = len(pd.date_range(start=menor_data, end=maior_data, freq='H'))\n",
    "numero_horas, numero_horas/24"
   ]
  },
  {
   "cell_type": "markdown",
   "id": "dca310b5-013a-4cdf-9768-f48b0e68f967",
   "metadata": {},
   "source": [
    "## Voos únicos"
   ]
  },
  {
   "cell_type": "markdown",
   "id": "dea3001d-32a1-4e3f-a6fd-177b0668fdc1",
   "metadata": {},
   "source": [
    "### Quantos voos únicos foram coletados?"
   ]
  },
  {
   "cell_type": "code",
   "execution_count": null,
   "id": "47d5d133-6ce4-4e5f-b246-e99c65fea99a",
   "metadata": {
    "tags": []
   },
   "outputs": [],
   "source": [
    "q = \"\"\"\n",
    "SELECT count(*) as voos_unicos\n",
    "FROM (SELECT DISTINCT \"legId\" FROM flight.fare) subquery\n",
    "\"\"\"\n",
    "qt.run_query(q)"
   ]
  },
  {
   "cell_type": "markdown",
   "id": "43cdfd00-5524-4bf2-9fac-2ed235e77300",
   "metadata": {},
   "source": [
    "### Em média quantos voos únicos são coletados por dia?\n"
   ]
  },
  {
   "cell_type": "code",
   "execution_count": null,
   "id": "27f1657a-f9df-460d-9757-e251c7da5d2f",
   "metadata": {
    "tags": []
   },
   "outputs": [],
   "source": [
    "q = \"\"\"\n",
    "SELECT AVG(voos_unicos) as media_voos_unicos\n",
    "FROM (\n",
    "    SELECT DATE_TRUNC('day', \"operationalSearchTime\") as search_day,\n",
    "        count(*) AS voos_unicos\n",
    "    FROM (SELECT DISTINCT F.\"legId\", S.\"operationalSearchTime\"\n",
    "          FROM flight.fare F\n",
    "          JOIN flight.search S ON F.\"searchId\" = S.\"searchId\"\n",
    "          ) subquery\n",
    "    GROUP BY search_day\n",
    ") subquery2\n",
    "\"\"\"\n",
    "\n",
    "media_voos_unicos_dia = qt.run_query(q)\n",
    "media_voos_unicos_dia"
   ]
  },
  {
   "cell_type": "code",
   "execution_count": null,
   "id": "60fb6e32-30f3-4ae9-ac30-01117a14a779",
   "metadata": {
    "tags": []
   },
   "outputs": [],
   "source": [
    "media_voos_unicos_dia[\"media_voos_unicos\"] = media_voos_unicos_dia[\"media_voos_unicos\"].apply(lambda x: '{:,.2f}'.format(x))\n",
    "media_voos_unicos_dia\n",
    "# TEM ALGO MUITO ESTRANHO AQUI, VERIFICAR ISSO"
   ]
  },
  {
   "cell_type": "markdown",
   "id": "99f82734-dea4-48cb-bbf5-0877084befc2",
   "metadata": {},
   "source": [
    "## Cidade"
   ]
  },
  {
   "cell_type": "code",
   "execution_count": null,
   "id": "b54cb3ae-2b6d-4bf5-95f7-b37840a5af40",
   "metadata": {
    "tags": []
   },
   "outputs": [],
   "source": [
    "airport = qt.get_table(\"airport\")\n",
    "airport = airport[[\"airportCode\", \"city\"]]\n",
    "\n",
    "def merge_airport(df, column_merge):\n",
    "    if isinstance(column_merge, str):\n",
    "        df = df.merge(airport, how=\"left\", left_on=column_merge, right_on=\"airportCode\")\n",
    "        del df[\"airportCode\"]\n",
    "    elif isinstance(column_merge, list):\n",
    "        for index, column in enumerate(column_merge):\n",
    "            old_column = \"\" if index == 0 else column_merge[(index-1)]\n",
    "            df = df.merge(airport, how=\"left\",\n",
    "                          left_on=column,\n",
    "                          right_on=\"airportCode\",\n",
    "                          suffixes=(old_column, f\"_{column}\"))\n",
    "            del df[\"airportCode\"]\n",
    "    return df"
   ]
  },
  {
   "cell_type": "markdown",
   "id": "0a4e208c-5717-4315-a385-8888d1171bf3",
   "metadata": {},
   "source": [
    "### Quantos voos únicos saem de cada cidade?"
   ]
  },
  {
   "cell_type": "code",
   "execution_count": null,
   "id": "63396397-3621-474d-a487-0a5f4d17b8b2",
   "metadata": {},
   "outputs": [],
   "source": [
    "q = \"\"\"\n",
    "SELECT \"originCode\", count(*) as voos_unicos\n",
    "FROM (\n",
    "    SELECT DISTINCT \"legId\", \"originCode\"\n",
    "    FROM flight.fare F\n",
    "        JOIN flight.search S\n",
    "        ON S.\"searchId\" = F.\"searchId\" \n",
    ") subquery\n",
    "GROUP BY \"originCode\"\n",
    "ORDER BY voos_unicos DESC\n",
    "\"\"\"\n",
    "voos_unicos_saida = qt.run_query(q)"
   ]
  },
  {
   "cell_type": "code",
   "execution_count": null,
   "id": "df24b915-5965-42f3-a75d-651473c15b27",
   "metadata": {
    "tags": []
   },
   "outputs": [],
   "source": [
    "voos_unicos_saida"
   ]
  },
  {
   "cell_type": "markdown",
   "id": "4dc8cd77-fe31-41bb-82a4-a77f83855c18",
   "metadata": {},
   "source": [
    "### Quantos voos únicos chegam em cada cidade?"
   ]
  },
  {
   "cell_type": "code",
   "execution_count": null,
   "id": "325d4798-2bc3-4935-8cfa-22165123cace",
   "metadata": {},
   "outputs": [],
   "source": [
    "q = \"\"\"\n",
    "SELECT \"destinationCode\", count(*) as voos_unicos\n",
    "FROM (\n",
    "    SELECT DISTINCT \"legId\", \"destinationCode\"\n",
    "    FROM flight.fare F\n",
    "        JOIN flight.search S\n",
    "        ON S.\"searchId\" = F.\"searchId\" \n",
    ") subquery\n",
    "GROUP BY \"destinationCode\"\n",
    "ORDER BY voos_unicos DESC\n",
    "\"\"\"\n",
    "voos_unicos_chegada = qt.run_query(q)"
   ]
  },
  {
   "cell_type": "code",
   "execution_count": null,
   "id": "0ccce164-1207-450e-9d03-503f14824e1c",
   "metadata": {
    "tags": []
   },
   "outputs": [],
   "source": [
    "voos_unicos_chegada = merge_airport(voos_unicos_chegada, \"destinationCode\")\n",
    "voos_unicos_chegada"
   ]
  },
  {
   "cell_type": "markdown",
   "id": "a814c0ac-c8d4-4e5d-a97d-be6cc50389c4",
   "metadata": {},
   "source": [
    "### Quantos voos únicos existem em cada trecho?"
   ]
  },
  {
   "cell_type": "code",
   "execution_count": null,
   "id": "6baac10a-767e-46ff-8eb2-f9cc37773d2d",
   "metadata": {
    "tags": []
   },
   "outputs": [],
   "source": [
    "q = \"\"\"\n",
    "SELECT \"originCode\", \"destinationCode\", count(*) as voos_unicos\n",
    "FROM (\n",
    "    SELECT DISTINCT \"legId\", \"originCode\", \"destinationCode\"\n",
    "    FROM flight.fare F\n",
    "        JOIN flight.search S\n",
    "        ON S.\"searchId\" = F.\"searchId\" \n",
    ") subquery\n",
    "GROUP BY  \"originCode\", \"destinationCode\"\n",
    "ORDER BY voos_unicos DESC\n",
    "\"\"\"\n",
    "voos_unicos_trecho = qt.run_query(q)"
   ]
  },
  {
   "cell_type": "code",
   "execution_count": null,
   "id": "9bb39e0c-7ca0-4ce4-ac9c-7359bc7cf2c6",
   "metadata": {
    "tags": []
   },
   "outputs": [],
   "source": [
    "voos_unicos_trecho = merge_airport(voos_unicos_trecho, [\"originCode\", \"destinationCode\"])\n",
    "voos_unicos_trecho"
   ]
  },
  {
   "cell_type": "markdown",
   "id": "8bf7362a-8bd3-49c7-8f86-af2ee42f271d",
   "metadata": {},
   "source": [
    "## Companias aéreas "
   ]
  },
  {
   "cell_type": "markdown",
   "id": "a705526c-1d2a-4959-aa4a-e536c3bfff8d",
   "metadata": {},
   "source": [
    "### Quais são as companhias aéreas coletadas?"
   ]
  },
  {
   "cell_type": "code",
   "execution_count": null,
   "id": "96ba6e17-476a-4cb4-8f13-2e0d01224131",
   "metadata": {},
   "outputs": [],
   "source": [
    "qt.get_table(\"airline\")[[\"airlineCode\", \"airlineName\"]].drop_duplicates()"
   ]
  },
  {
   "cell_type": "markdown",
   "id": "840d008b-dea9-48f6-9788-ca8f565deab6",
   "metadata": {},
   "source": [
    "### Quantos voos únicos cada companía fez?"
   ]
  },
  {
   "cell_type": "code",
   "execution_count": null,
   "id": "7f5a3cf8-e9fa-4418-9935-c79762a952e1",
   "metadata": {
    "tags": []
   },
   "outputs": [],
   "source": [
    "q = \"\"\"\n",
    "SELECT \"airlineName\", count(*) as voos_unicos\n",
    "FROM (\n",
    "    SELECT DISTINCT F.\"legId\", A.\"airlineName\"\n",
    "    FROM flight.flight F\n",
    "        LEFT JOIN flight.airline A\n",
    "        ON A.\"airlineCode\" = F.\"airlineCode\"\n",
    ") subquery\n",
    "GROUP BY  \"airlineName\"\n",
    "ORDER BY voos_unicos DESC\n",
    "\"\"\"\n",
    "voos_unicos_compania = qt.run_query(q)"
   ]
  },
  {
   "cell_type": "code",
   "execution_count": null,
   "id": "2e9a191b-8d45-4a38-978d-b9229c6c1354",
   "metadata": {
    "tags": []
   },
   "outputs": [],
   "source": [
    "voos_unicos_compania"
   ]
  }
 ],
 "metadata": {
  "kernelspec": {
   "display_name": "Python 3 (ipykernel)",
   "language": "python",
   "name": "python3"
  },
  "language_info": {
   "codemirror_mode": {
    "name": "ipython",
    "version": 3
   },
   "file_extension": ".py",
   "mimetype": "text/x-python",
   "name": "python",
   "nbconvert_exporter": "python",
   "pygments_lexer": "ipython3",
   "version": "3.11.3"
  }
 },
 "nbformat": 4,
 "nbformat_minor": 5
}
