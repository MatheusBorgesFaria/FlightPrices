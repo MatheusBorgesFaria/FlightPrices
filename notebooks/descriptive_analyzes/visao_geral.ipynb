{
 "cells": [
  {
   "cell_type": "markdown",
   "id": "32e4490d-47d9-469c-8720-14f4e0f128fd",
   "metadata": {},
   "source": [
    "# Visão geral dos dados coletados"
   ]
  },
  {
   "cell_type": "markdown",
   "id": "f9c63da7-4d10-4e72-bfa1-c71570f2a27b",
   "metadata": {},
   "source": [
    "## Imports"
   ]
  },
  {
   "cell_type": "code",
   "execution_count": 15,
   "id": "3f4bec54-f5d0-438c-ad20-7ddae3a988e8",
   "metadata": {
    "tags": []
   },
   "outputs": [
    {
     "name": "stdout",
     "output_type": "stream",
     "text": [
      "The autoreload extension is already loaded. To reload it, use:\n",
      "  %reload_ext autoreload\n"
     ]
    }
   ],
   "source": [
    "%load_ext autoreload\n",
    "%autoreload 2"
   ]
  },
  {
   "cell_type": "code",
   "execution_count": 16,
   "id": "a8b097e4-3f5b-490d-8271-e2d83afccfa8",
   "metadata": {
    "tags": []
   },
   "outputs": [],
   "source": [
    "import pandas as pd\n",
    "import matplotlib.pyplot as plt\n",
    "\n",
    "import sys\n",
    "\n",
    "\n",
    "sys.path.append(\"../../\")\n",
    "sys.path.append(\"../../odbc\")\n",
    "import query_tools as qt\n",
    "from connection import load_conn"
   ]
  },
  {
   "cell_type": "markdown",
   "id": "29c63daf-2ce6-4ce7-9a64-bba582093a34",
   "metadata": {},
   "source": [
    "## Linhas coletadas"
   ]
  },
  {
   "cell_type": "markdown",
   "id": "1386ec7f-099d-4441-81bd-8b157ce6a92f",
   "metadata": {},
   "source": [
    "### Quantas linhas de informação dos voos foram coletadas?"
   ]
  },
  {
   "cell_type": "code",
   "execution_count": 3,
   "id": "6774434d-ea20-437e-baab-df20655fbdda",
   "metadata": {
    "tags": []
   },
   "outputs": [
    {
     "data": {
      "text/html": [
       "<div>\n",
       "<style scoped>\n",
       "    .dataframe tbody tr th:only-of-type {\n",
       "        vertical-align: middle;\n",
       "    }\n",
       "\n",
       "    .dataframe tbody tr th {\n",
       "        vertical-align: top;\n",
       "    }\n",
       "\n",
       "    .dataframe thead th {\n",
       "        text-align: right;\n",
       "    }\n",
       "</style>\n",
       "<table border=\"1\" class=\"dataframe\">\n",
       "  <thead>\n",
       "    <tr style=\"text-align: right;\">\n",
       "      <th></th>\n",
       "      <th>count</th>\n",
       "    </tr>\n",
       "  </thead>\n",
       "  <tbody>\n",
       "    <tr>\n",
       "      <th>0</th>\n",
       "      <td>212790744</td>\n",
       "    </tr>\n",
       "  </tbody>\n",
       "</table>\n",
       "</div>"
      ],
      "text/plain": [
       "       count\n",
       "0  212790744"
      ]
     },
     "execution_count": 3,
     "metadata": {},
     "output_type": "execute_result"
    }
   ],
   "source": [
    "q = \"\"\"\n",
    "SELECT count(*)\n",
    "FROM flight.search\n",
    "\"\"\"\n",
    "qt.run_query(q)"
   ]
  },
  {
   "cell_type": "code",
   "execution_count": 4,
   "id": "6ad34924-065d-4fac-ad2d-a08264991213",
   "metadata": {
    "tags": []
   },
   "outputs": [
    {
     "data": {
      "text/html": [
       "<div>\n",
       "<style scoped>\n",
       "    .dataframe tbody tr th:only-of-type {\n",
       "        vertical-align: middle;\n",
       "    }\n",
       "\n",
       "    .dataframe tbody tr th {\n",
       "        vertical-align: top;\n",
       "    }\n",
       "\n",
       "    .dataframe thead th {\n",
       "        text-align: right;\n",
       "    }\n",
       "</style>\n",
       "<table border=\"1\" class=\"dataframe\">\n",
       "  <thead>\n",
       "    <tr style=\"text-align: right;\">\n",
       "      <th></th>\n",
       "      <th>count</th>\n",
       "    </tr>\n",
       "  </thead>\n",
       "  <tbody>\n",
       "    <tr>\n",
       "      <th>0</th>\n",
       "      <td>212790744</td>\n",
       "    </tr>\n",
       "  </tbody>\n",
       "</table>\n",
       "</div>"
      ],
      "text/plain": [
       "       count\n",
       "0  212790744"
      ]
     },
     "execution_count": 4,
     "metadata": {},
     "output_type": "execute_result"
    }
   ],
   "source": [
    "q = \"\"\"\n",
    "SELECT count(*)\n",
    "FROM flight.fare\n",
    "\"\"\"\n",
    "qt.run_query(q)"
   ]
  },
  {
   "cell_type": "code",
   "execution_count": 5,
   "id": "b4d60af3-feb3-458a-b67d-3782a1dbede2",
   "metadata": {
    "tags": []
   },
   "outputs": [
    {
     "data": {
      "text/html": [
       "<div>\n",
       "<style scoped>\n",
       "    .dataframe tbody tr th:only-of-type {\n",
       "        vertical-align: middle;\n",
       "    }\n",
       "\n",
       "    .dataframe tbody tr th {\n",
       "        vertical-align: top;\n",
       "    }\n",
       "\n",
       "    .dataframe thead th {\n",
       "        text-align: right;\n",
       "    }\n",
       "</style>\n",
       "<table border=\"1\" class=\"dataframe\">\n",
       "  <thead>\n",
       "    <tr style=\"text-align: right;\">\n",
       "      <th></th>\n",
       "      <th>count</th>\n",
       "    </tr>\n",
       "  </thead>\n",
       "  <tbody>\n",
       "    <tr>\n",
       "      <th>0</th>\n",
       "      <td>212790744</td>\n",
       "    </tr>\n",
       "  </tbody>\n",
       "</table>\n",
       "</div>"
      ],
      "text/plain": [
       "       count\n",
       "0  212790744"
      ]
     },
     "execution_count": 5,
     "metadata": {},
     "output_type": "execute_result"
    }
   ],
   "source": [
    "q = \"\"\"\n",
    "SELECT count(*)\n",
    "FROM flight.flight\n",
    "\"\"\"\n",
    "qt.run_query(q)"
   ]
  },
  {
   "cell_type": "markdown",
   "id": "30c9bf37-7a0a-4234-8755-39c0af9437ff",
   "metadata": {
    "tags": []
   },
   "source": [
    "### Em média quantas linhas novas são coletadas por dia?\n",
    "Obs: considerando que o crawler coletaria 24h por dia\n",
    "Uma boa estimativa é verificar qual a média de linhas coletadas por hora e multiplicar por 24h, vai ser uma estimativa melhor."
   ]
  },
  {
   "cell_type": "code",
   "execution_count": 6,
   "id": "42dede21-debb-4918-a85a-f2d036686d37",
   "metadata": {
    "tags": []
   },
   "outputs": [
    {
     "data": {
      "text/html": [
       "<div>\n",
       "<style scoped>\n",
       "    .dataframe tbody tr th:only-of-type {\n",
       "        vertical-align: middle;\n",
       "    }\n",
       "\n",
       "    .dataframe tbody tr th {\n",
       "        vertical-align: top;\n",
       "    }\n",
       "\n",
       "    .dataframe thead th {\n",
       "        text-align: right;\n",
       "    }\n",
       "</style>\n",
       "<table border=\"1\" class=\"dataframe\">\n",
       "  <thead>\n",
       "    <tr style=\"text-align: right;\">\n",
       "      <th></th>\n",
       "      <th>average_rows_por_hora</th>\n",
       "      <th>desvio_padrao_por_hora</th>\n",
       "    </tr>\n",
       "  </thead>\n",
       "  <tbody>\n",
       "    <tr>\n",
       "      <th>0</th>\n",
       "      <td>203627.50622</td>\n",
       "      <td>68098.20605</td>\n",
       "    </tr>\n",
       "  </tbody>\n",
       "</table>\n",
       "</div>"
      ],
      "text/plain": [
       "   average_rows_por_hora  desvio_padrao_por_hora\n",
       "0           203627.50622             68098.20605"
      ]
     },
     "execution_count": 6,
     "metadata": {},
     "output_type": "execute_result"
    }
   ],
   "source": [
    "# Media e desvio padrao do nº de linhas coletadas por hora\n",
    "q = \"\"\"\n",
    "SELECT AVG(count) AS average_rows_por_hora, stddev(count) AS desvio_padrao_por_hora\n",
    "FROM (\n",
    "    SELECT COUNT(*) AS count\n",
    "    FROM flight.search\n",
    "    GROUP BY DATE_TRUNC('hour', \"operationalSearchTime\")\n",
    ") subquery\n",
    "\"\"\"\n",
    "metricas_coleta_linhas_por_hora = qt.run_query(q)\n",
    "metricas_coleta_linhas_por_hora"
   ]
  },
  {
   "cell_type": "code",
   "execution_count": 7,
   "id": "dc64c0ec-62a6-495d-90d7-7a1723048607",
   "metadata": {
    "tags": []
   },
   "outputs": [
    {
     "data": {
      "text/plain": [
       "4887060.149282297"
      ]
     },
     "execution_count": 7,
     "metadata": {},
     "output_type": "execute_result"
    }
   ],
   "source": [
    "estimativa_linhas_coletadas_por_dia = metricas_coleta_linhas_por_hora.loc[0, \"average_rows_por_hora\"] * 24\n",
    "estimativa_linhas_coletadas_por_dia"
   ]
  },
  {
   "cell_type": "markdown",
   "id": "45f4eaa5-3d2e-4188-a208-d578b8c678de",
   "metadata": {},
   "source": [
    "## Memória"
   ]
  },
  {
   "cell_type": "markdown",
   "id": "3c17ade1-8398-4513-b12e-cec16dcfcdf2",
   "metadata": {},
   "source": [
    "### Quantos Bytes tem o banco de dados?"
   ]
  },
  {
   "cell_type": "code",
   "execution_count": 8,
   "id": "bcf7f9b4-3474-4f77-ba43-8d34288d0e6e",
   "metadata": {
    "tags": []
   },
   "outputs": [
    {
     "data": {
      "text/html": [
       "<div>\n",
       "<style scoped>\n",
       "    .dataframe tbody tr th:only-of-type {\n",
       "        vertical-align: middle;\n",
       "    }\n",
       "\n",
       "    .dataframe tbody tr th {\n",
       "        vertical-align: top;\n",
       "    }\n",
       "\n",
       "    .dataframe thead th {\n",
       "        text-align: right;\n",
       "    }\n",
       "</style>\n",
       "<table border=\"1\" class=\"dataframe\">\n",
       "  <thead>\n",
       "    <tr style=\"text-align: right;\">\n",
       "      <th></th>\n",
       "      <th>pg_database_size</th>\n",
       "    </tr>\n",
       "  </thead>\n",
       "  <tbody>\n",
       "    <tr>\n",
       "      <th>0</th>\n",
       "      <td>172203664163</td>\n",
       "    </tr>\n",
       "  </tbody>\n",
       "</table>\n",
       "</div>"
      ],
      "text/plain": [
       "   pg_database_size\n",
       "0      172203664163"
      ]
     },
     "execution_count": 8,
     "metadata": {},
     "output_type": "execute_result"
    }
   ],
   "source": [
    "# Consulta para obter o tamanho do banco de dados em bytes\n",
    "q = \"SELECT pg_database_size('flight')\"\n",
    "bytes_df = qt.run_query(q)\n",
    "bytes_df"
   ]
  },
  {
   "cell_type": "markdown",
   "id": "0d8220fa-0216-4bb5-bcf2-07f23ca7960a",
   "metadata": {},
   "source": [
    "### Quantos Gigabytes tem o banco de dados?"
   ]
  },
  {
   "cell_type": "code",
   "execution_count": 9,
   "id": "a67fe7c1-d6b4-4b04-ae06-19dfbf2aa901",
   "metadata": {
    "tags": []
   },
   "outputs": [
    {
     "data": {
      "text/html": [
       "<div>\n",
       "<style scoped>\n",
       "    .dataframe tbody tr th:only-of-type {\n",
       "        vertical-align: middle;\n",
       "    }\n",
       "\n",
       "    .dataframe tbody tr th {\n",
       "        vertical-align: top;\n",
       "    }\n",
       "\n",
       "    .dataframe thead th {\n",
       "        text-align: right;\n",
       "    }\n",
       "</style>\n",
       "<table border=\"1\" class=\"dataframe\">\n",
       "  <thead>\n",
       "    <tr style=\"text-align: right;\">\n",
       "      <th></th>\n",
       "      <th>pg_size_pretty</th>\n",
       "    </tr>\n",
       "  </thead>\n",
       "  <tbody>\n",
       "    <tr>\n",
       "      <th>0</th>\n",
       "      <td>160 GB</td>\n",
       "    </tr>\n",
       "  </tbody>\n",
       "</table>\n",
       "</div>"
      ],
      "text/plain": [
       "  pg_size_pretty\n",
       "0         160 GB"
      ]
     },
     "execution_count": 9,
     "metadata": {},
     "output_type": "execute_result"
    }
   ],
   "source": [
    "bytes_ = bytes_df.loc[0, \"pg_database_size\"]\n",
    "# Consulta para obter o tamanho do banco de dados em gigabytes \n",
    "q = f\"SELECT pg_size_pretty({bytes_})\"\n",
    "qt.run_query(q)"
   ]
  },
  {
   "cell_type": "markdown",
   "id": "b4023ff6-eba8-4fe6-ac87-75e37fe367c6",
   "metadata": {},
   "source": [
    "## Coleta de dados"
   ]
  },
  {
   "cell_type": "markdown",
   "id": "321f769d-3200-4218-8745-f828fcbd1e02",
   "metadata": {},
   "source": [
    "### Quais as datas e horários que temos coletados?"
   ]
  },
  {
   "cell_type": "code",
   "execution_count": 10,
   "id": "24af3ddd-5236-4753-a3a3-0b46a30cdd6d",
   "metadata": {
    "tags": []
   },
   "outputs": [],
   "source": [
    "q = \"\"\"\n",
    "SELECT DISTINCT DATE_TRUNC('hour', \"operationalSearchTime\") AS \"operationalSearchTime\"\n",
    "FROM flight.search\n",
    "\"\"\"\n",
    "\n",
    "operationalSearchTime = qt.run_query(q)"
   ]
  },
  {
   "cell_type": "code",
   "execution_count": 11,
   "id": "27353955-f35a-41ff-b098-668903b73295",
   "metadata": {
    "tags": []
   },
   "outputs": [
    {
     "data": {
      "text/html": [
       "<div>\n",
       "<style scoped>\n",
       "    .dataframe tbody tr th:only-of-type {\n",
       "        vertical-align: middle;\n",
       "    }\n",
       "\n",
       "    .dataframe tbody tr th {\n",
       "        vertical-align: top;\n",
       "    }\n",
       "\n",
       "    .dataframe thead th {\n",
       "        text-align: right;\n",
       "    }\n",
       "</style>\n",
       "<table border=\"1\" class=\"dataframe\">\n",
       "  <thead>\n",
       "    <tr style=\"text-align: right;\">\n",
       "      <th></th>\n",
       "      <th>operationalSearchTime</th>\n",
       "    </tr>\n",
       "  </thead>\n",
       "  <tbody>\n",
       "    <tr>\n",
       "      <th>0</th>\n",
       "      <td>2023-06-04 09:00:00</td>\n",
       "    </tr>\n",
       "  </tbody>\n",
       "</table>\n",
       "</div>"
      ],
      "text/plain": [
       "  operationalSearchTime\n",
       "0   2023-06-04 09:00:00"
      ]
     },
     "execution_count": 11,
     "metadata": {},
     "output_type": "execute_result"
    }
   ],
   "source": [
    "operationalSearchTime.head(1)"
   ]
  },
  {
   "cell_type": "code",
   "execution_count": 12,
   "id": "c2bc2f7e-d01d-41de-8f60-d5ba1688772f",
   "metadata": {
    "tags": []
   },
   "outputs": [
    {
     "data": {
      "image/png": "[encoded data removed]",
      "text/plain": [
       "<Figure size 1500x500 with 1 Axes>"
      ]
     },
     "metadata": {},
     "output_type": "display_data"
    }
   ],
   "source": [
    "plt.figure(figsize=(15, 5))\n",
    "plt.scatter(operationalSearchTime['operationalSearchTime'],\n",
    "            [1] * len(operationalSearchTime))\n",
    "plt.yticks([])  # Remove os valores no eixo y\n",
    "plt.xlabel('Data e Hora')\n",
    "plt.title('Datas e Horários Coletados')\n",
    "plt.show()\n"
   ]
  },
  {
   "cell_type": "markdown",
   "id": "eb5d078a-95a7-4afd-a57d-c794d10b522a",
   "metadata": {},
   "source": [
    "### Qual a quantidade de voos capturados em cada coleta?"
   ]
  },
  {
   "cell_type": "code",
   "execution_count": 13,
   "id": "7a430136-70ba-4521-8f3c-1fc00173c0e2",
   "metadata": {
    "tags": []
   },
   "outputs": [],
   "source": [
    "q = \"\"\"\n",
    "SELECT DISTINCT DATE_TRUNC('hour', \"operationalSearchTime\") AS hora_coletada,\n",
    "    count(*) AS linhas_coletadas\n",
    "FROM flight.search\n",
    "GROUP BY hora_coletada\n",
    "\"\"\"\n",
    "coleta = qt.run_query(q)"
   ]
  },
  {
   "cell_type": "code",
   "execution_count": 14,
   "id": "6738e1fc-cc2f-47ec-a7b9-cad245453686",
   "metadata": {
    "tags": []
   },
   "outputs": [
    {
     "data": {
      "text/plain": [
       "(Timestamp('2023-06-18 22:00:00'), Timestamp('2023-03-27 12:00:00'))"
      ]
     },
     "execution_count": 14,
     "metadata": {},
     "output_type": "execute_result"
    }
   ],
   "source": [
    "coleta.hora_coletada.max(), coleta.hora_coletada.min()"
   ]
  },
  {
   "cell_type": "code",
   "execution_count": 16,
   "id": "08238860-3f31-4ed4-83f9-12ae6b03f775",
   "metadata": {
    "tags": []
   },
   "outputs": [],
   "source": [
    "# Definir intervalo de datas completo\n",
    "start_date = coleta['hora_coletada'].min()\n",
    "end_date = coleta['hora_coletada'].max()\n",
    "date_range = pd.date_range(start=start_date, end=end_date, freq='H')\n",
    "\n",
    "# Criar DataFrame com todas as horas do intervalo\n",
    "complete_df = pd.DataFrame({'hora_coletada': date_range})\n",
    "\n",
    "# Fazer merge dos DataFrames\n",
    "coleta_completa = pd.merge(complete_df, coleta, on='hora_coletada', how='left')\n",
    "coleta_completa['linhas_coletadas'] = coleta_completa['linhas_coletadas'].fillna(0)\n",
    "\n",
    "# Ordenar DataFrame pelo horário\n",
    "coleta_completa = coleta_completa.sort_values('hora_coletada')\n"
   ]
  },
  {
   "cell_type": "code",
   "execution_count": 17,
   "id": "a6a00ac7-d9df-4d5e-ab82-b1cd0942e72e",
   "metadata": {
    "tags": []
   },
   "outputs": [
    {
     "data": {
      "image/png": "[encoded data removed]",
      "text/plain": [
       "<Figure size 1500x500 with 1 Axes>"
      ]
     },
     "metadata": {},
     "output_type": "display_data"
    }
   ],
   "source": [
    "# Criando o gráfico\n",
    "plt.figure(figsize=(15, 5))\n",
    "plt.plot(coleta_completa[\"hora_coletada\"], coleta_completa[\"linhas_coletadas\"])\n",
    "plt.xticks(rotation=90)\n",
    "\n",
    "# Configurando as datas no eixo x\n",
    "num_ticks = 60  # Número desejado de ticks no eixo x\n",
    "date_range = pd.date_range(start=coleta_completa[\"hora_coletada\"].min(),\n",
    "                           end=coleta_completa[\"hora_coletada\"].max(),\n",
    "                           periods=num_ticks)\n",
    "plt.xticks(date_range, rotation=90)\n",
    "\n",
    "plt.xlabel('Data e Hora')\n",
    "plt.ylabel('Linhas Coletadas')\n",
    "plt.title('Quantidade de Linhas Coletadas por Data')\n",
    "plt.show()\n"
   ]
  },
  {
   "cell_type": "markdown",
   "id": "c1c9dea5-223b-4c23-9897-8715a8c5b4be",
   "metadata": {},
   "source": [
    "### Qual a maior janela de coleta consecutiva?"
   ]
  },
  {
   "cell_type": "code",
   "execution_count": 27,
   "id": "b76bbba4-44c7-4468-842e-54b28092a0d4",
   "metadata": {
    "tags": []
   },
   "outputs": [
    {
     "data": {
      "text/html": [
       "<div>\n",
       "<style scoped>\n",
       "    .dataframe tbody tr th:only-of-type {\n",
       "        vertical-align: middle;\n",
       "    }\n",
       "\n",
       "    .dataframe tbody tr th {\n",
       "        vertical-align: top;\n",
       "    }\n",
       "\n",
       "    .dataframe thead th {\n",
       "        text-align: right;\n",
       "    }\n",
       "</style>\n",
       "<table border=\"1\" class=\"dataframe\">\n",
       "  <thead>\n",
       "    <tr style=\"text-align: right;\">\n",
       "      <th></th>\n",
       "      <th>hora_coletada</th>\n",
       "      <th>linhas_coletadas</th>\n",
       "    </tr>\n",
       "  </thead>\n",
       "  <tbody>\n",
       "    <tr>\n",
       "      <th>0</th>\n",
       "      <td>2023-03-27 12:00:00</td>\n",
       "      <td>217728.0</td>\n",
       "    </tr>\n",
       "    <tr>\n",
       "      <th>1</th>\n",
       "      <td>2023-03-27 13:00:00</td>\n",
       "      <td>216485.0</td>\n",
       "    </tr>\n",
       "    <tr>\n",
       "      <th>2</th>\n",
       "      <td>2023-03-27 14:00:00</td>\n",
       "      <td>191034.0</td>\n",
       "    </tr>\n",
       "    <tr>\n",
       "      <th>3</th>\n",
       "      <td>2023-03-27 15:00:00</td>\n",
       "      <td>0.0</td>\n",
       "    </tr>\n",
       "    <tr>\n",
       "      <th>4</th>\n",
       "      <td>2023-03-27 16:00:00</td>\n",
       "      <td>215153.0</td>\n",
       "    </tr>\n",
       "  </tbody>\n",
       "</table>\n",
       "</div>"
      ],
      "text/plain": [
       "        hora_coletada  linhas_coletadas\n",
       "0 2023-03-27 12:00:00          217728.0\n",
       "1 2023-03-27 13:00:00          216485.0\n",
       "2 2023-03-27 14:00:00          191034.0\n",
       "3 2023-03-27 15:00:00               0.0\n",
       "4 2023-03-27 16:00:00          215153.0"
      ]
     },
     "metadata": {},
     "output_type": "display_data"
    }
   ],
   "source": [
    "coleta_completa.sort_values(\"hora_coletada\", inplace=True, ignore_index=True)\n",
    "display(coleta_completa.head())\n",
    "\n",
    "\n",
    "limiar = 180_000\n",
    "teve_coleta = (coleta_completa.linhas_coletadas >= limiar).map(int)"
   ]
  },
  {
   "cell_type": "code",
   "execution_count": 29,
   "id": "214c1269-fdb3-4b96-b18e-46c5a4d8ccb9",
   "metadata": {
    "tags": []
   },
   "outputs": [
    {
     "name": "stdout",
     "output_type": "stream",
     "text": [
      "Maior sequência de 1's: 146 Isso equivale a 6.08 dias\n",
      "Data de inicio da sequencia 2023-06-04 23:00:00 , data do fim da sequencia 2023-06-11 00:00:00\n"
     ]
    }
   ],
   "source": [
    "# Variáveis para acompanhar a sequência atual e a sequência máxima\n",
    "numero_zeros_aceitaveis = 0\n",
    "current_sequence = 0\n",
    "max_sequence = 0\n",
    "primeiro_valor_sequencia = True\n",
    "menor_data = None\n",
    "maior_data = None\n",
    "\n",
    "contador_zeros = 0\n",
    "\n",
    "# Percorrer a série\n",
    "for indice, value in enumerate(teve_coleta):\n",
    "    if value == 1:\n",
    "        if primeiro_valor_sequencia:\n",
    "            menor_data_sequencia_atual = coleta_completa.loc[indice, \"hora_coletada\"]\n",
    "            primeiro_valor_sequencia = False\n",
    "\n",
    "        current_sequence += 1\n",
    "        contador_zeros = 0\n",
    "        if current_sequence > max_sequence:\n",
    "            max_sequence = current_sequence\n",
    "            menor_data = menor_data_sequencia_atual\n",
    "            maior_data = coleta_completa.loc[indice, \"hora_coletada\"]\n",
    "    else:\n",
    "        contador_zeros += 1\n",
    "        \n",
    "        if contador_zeros > numero_zeros_aceitaveis:\n",
    "            current_sequence = 0\n",
    "            primeiro_valor_sequencia = True\n",
    "\n",
    "print(\"Maior sequência de 1's:\", max_sequence, f\"Isso equivale a {round(max_sequence / 24, 2)} dias\")\n",
    "print(f\"Data de inicio da sequencia {menor_data} , data do fim da sequencia {maior_data}\")"
   ]
  },
  {
   "cell_type": "code",
   "execution_count": 30,
   "id": "aba826cc-d996-43b8-8fc3-28cc8f7931bb",
   "metadata": {
    "tags": []
   },
   "outputs": [
    {
     "data": {
      "text/plain": [
       "(146, 6.083333333333333)"
      ]
     },
     "execution_count": 30,
     "metadata": {},
     "output_type": "execute_result"
    }
   ],
   "source": [
    "# Conferindo o intervalo encontrado\n",
    "numero_horas = len(pd.date_range(start=menor_data, end=maior_data, freq='H'))\n",
    "numero_horas, numero_horas/24"
   ]
  },
  {
   "cell_type": "markdown",
   "id": "dca310b5-013a-4cdf-9768-f48b0e68f967",
   "metadata": {},
   "source": [
    "## Voos únicos"
   ]
  },
  {
   "cell_type": "markdown",
   "id": "dea3001d-32a1-4e3f-a6fd-177b0668fdc1",
   "metadata": {},
   "source": [
    "### Quantos voos únicos foram coletados?"
   ]
  },
  {
   "cell_type": "code",
   "execution_count": 3,
   "id": "246b61bc-faa9-4826-a5ec-f9d3b52d9930",
   "metadata": {
    "tags": []
   },
   "outputs": [],
   "source": [
    "from time import time"
   ]
  },
  {
   "cell_type": "code",
   "execution_count": 17,
   "id": "47d5d133-6ce4-4e5f-b246-e99c65fea99a",
   "metadata": {
    "tags": []
   },
   "outputs": [
    {
     "data": {
      "text/html": [
       "<div>\n",
       "<style scoped>\n",
       "    .dataframe tbody tr th:only-of-type {\n",
       "        vertical-align: middle;\n",
       "    }\n",
       "\n",
       "    .dataframe tbody tr th {\n",
       "        vertical-align: top;\n",
       "    }\n",
       "\n",
       "    .dataframe thead th {\n",
       "        text-align: right;\n",
       "    }\n",
       "</style>\n",
       "<table border=\"1\" class=\"dataframe\">\n",
       "  <thead>\n",
       "    <tr style=\"text-align: right;\">\n",
       "      <th></th>\n",
       "      <th>voos_unicos</th>\n",
       "    </tr>\n",
       "  </thead>\n",
       "  <tbody>\n",
       "    <tr>\n",
       "      <th>0</th>\n",
       "      <td>1288076</td>\n",
       "    </tr>\n",
       "  </tbody>\n",
       "</table>\n",
       "</div>"
      ],
      "text/plain": [
       "   voos_unicos\n",
       "0      1288076"
      ]
     },
     "execution_count": 17,
     "metadata": {},
     "output_type": "execute_result"
    }
   ],
   "source": [
    "time1 = time()\n",
    "q = \"\"\"\n",
    "SELECT count(*) as voos_unicos\n",
    "FROM (SELECT DISTINCT \"legId\" FROM flight.fare) subquery\n",
    "\"\"\"\n",
    "resultado = qt.run_query(q)\n",
    "time2 = time()\n",
    "resultado"
   ]
  },
  {
   "cell_type": "code",
   "execution_count": 18,
   "id": "944c6fa0-8529-41ba-b07a-80120a7639a6",
   "metadata": {
    "tags": []
   },
   "outputs": [
    {
     "data": {
      "text/plain": [
       "117.61396551132202"
      ]
     },
     "execution_count": 18,
     "metadata": {},
     "output_type": "execute_result"
    }
   ],
   "source": [
    "time2 - time1"
   ]
  },
  {
   "cell_type": "code",
   "execution_count": 19,
   "id": "1061344e-6de1-4040-ab8e-178e4df0451d",
   "metadata": {
    "tags": []
   },
   "outputs": [],
   "source": [
    "time3 = time()\n",
    "q = \"\"\"\n",
    "SELECT count(DISTINCT \"legId\") as voos_unicos\n",
    "FROM flight.fare\n",
    "\"\"\"\n",
    "qt.run_query(q)\n",
    "time4 = time()"
   ]
  },
  {
   "cell_type": "code",
   "execution_count": 20,
   "id": "08b2321e-bed2-467c-be12-1783b87591c4",
   "metadata": {
    "tags": []
   },
   "outputs": [
    {
     "data": {
      "text/plain": [
       "1339.7891097068787"
      ]
     },
     "execution_count": 20,
     "metadata": {},
     "output_type": "execute_result"
    }
   ],
   "source": [
    "time4 - time3"
   ]
  },
  {
   "cell_type": "markdown",
   "id": "43cdfd00-5524-4bf2-9fac-2ed235e77300",
   "metadata": {},
   "source": [
    "### Em média quantos voos únicos são coletados por dia?\n"
   ]
  },
  {
   "cell_type": "code",
   "execution_count": 21,
   "id": "27f1657a-f9df-460d-9757-e251c7da5d2f",
   "metadata": {
    "tags": []
   },
   "outputs": [],
   "source": [
    "# q = \"\"\"\n",
    "# SELECT AVG(voos_unicos) as media_voos_unicos\n",
    "# FROM (\n",
    "#     SELECT DATE_TRUNC('day', \"operationalSearchTime\") as search_day,\n",
    "#         count(*) AS voos_unicos\n",
    "#     FROM (SELECT DISTINCT F.\"legId\", S.\"operationalSearchTime\"\n",
    "#           FROM flight.fare F\n",
    "#           JOIN flight.search S ON F.\"searchId\" = S.\"searchId\"\n",
    "#           ) subquery\n",
    "#     GROUP BY search_day\n",
    "# ) subquery2\n",
    "# \"\"\"\n",
    "\n",
    "# media_voos_unicos_dia = qt.run_query(q)\n",
    "# media_voos_unicos_dia"
   ]
  },
  {
   "cell_type": "code",
   "execution_count": 22,
   "id": "563334a9-4a51-4d69-9539-8536f8d533b7",
   "metadata": {
    "tags": []
   },
   "outputs": [],
   "source": [
    "# q = \"\"\"\n",
    "# SELECT DATE_TRUNC('day', S.\"operationalSearchTime\") as day, count(distinct F.\"legId\")\n",
    "\n",
    "# FROM  flight.fare F\n",
    "#       JOIN flight.search S\n",
    "#       ON F.\"searchId\" = S.\"searchId\"\n",
    "\n",
    "# GROUP BY DATE_TRUNC('day', S.\"operationalSearchTime\")\n",
    "# LIMIT 100\n",
    "# \"\"\"\n",
    "\n",
    "# media_voos_unicos_dia = qt.run_query(q)\n",
    "# media_voos_unicos_dia"
   ]
  },
  {
   "cell_type": "code",
   "execution_count": null,
   "id": "60fb6e32-30f3-4ae9-ac30-01117a14a779",
   "metadata": {
    "tags": []
   },
   "outputs": [],
   "source": [
    "# media_voos_unicos_dia[\"media_voos_unicos\"] = media_voos_unicos_dia[\"media_voos_unicos\"].apply(lambda x: '{:,.2f}'.format(x))\n",
    "# media_voos_unicos_dia\n",
    "# TEM ALGO MUITO ESTRANHO AQUI, VERIFICAR ISSO"
   ]
  },
  {
   "cell_type": "markdown",
   "id": "99f82734-dea4-48cb-bbf5-0877084befc2",
   "metadata": {},
   "source": [
    "## Cidade"
   ]
  },
  {
   "cell_type": "code",
   "execution_count": 28,
   "id": "b54cb3ae-2b6d-4bf5-95f7-b37840a5af40",
   "metadata": {
    "tags": []
   },
   "outputs": [],
   "source": [
    "airport = qt.get_table(\"airport\")\n",
    "airport = airport[[\"airportCode\", \"city\"]]\n",
    "\n",
    "def merge_airport(df, column_merge):\n",
    "    if isinstance(column_merge, str):\n",
    "        df = df.merge(airport, how=\"left\", left_on=column_merge, right_on=\"airportCode\")\n",
    "        del df[\"airportCode\"]\n",
    "    elif isinstance(column_merge, list):\n",
    "        for index, column in enumerate(column_merge):\n",
    "            old_column = \"\" if index == 0 else column_merge[(index-1)]\n",
    "            df = df.merge(airport, how=\"left\",\n",
    "                          left_on=column,\n",
    "                          right_on=\"airportCode\",\n",
    "                          suffixes=(old_column, f\"_{column}\"))\n",
    "            del df[\"airportCode\"]\n",
    "    return df"
   ]
  },
  {
   "cell_type": "markdown",
   "id": "0a4e208c-5717-4315-a385-8888d1171bf3",
   "metadata": {},
   "source": [
    "### Quantos voos únicos saem de cada cidade?"
   ]
  },
  {
   "cell_type": "code",
   "execution_count": null,
   "id": "63396397-3621-474d-a487-0a5f4d17b8b2",
   "metadata": {},
   "outputs": [],
   "source": [
    "q = \"\"\"\n",
    "SELECT \"originCode\", count(*) as voos_unicos\n",
    "FROM (\n",
    "    SELECT DISTINCT \"legId\", \"originCode\"\n",
    "    FROM flight.fare F\n",
    "        JOIN flight.search S\n",
    "        ON S.\"searchId\" = F.\"searchId\" \n",
    ") subquery\n",
    "GROUP BY \"originCode\"\n",
    "ORDER BY voos_unicos DESC\n",
    "\"\"\"\n",
    "voos_unicos_saida = qt.run_query(q)"
   ]
  },
  {
   "cell_type": "code",
   "execution_count": 47,
   "id": "df24b915-5965-42f3-a75d-651473c15b27",
   "metadata": {
    "tags": []
   },
   "outputs": [
    {
     "data": {
      "text/html": [
       "<div>\n",
       "<style scoped>\n",
       "    .dataframe tbody tr th:only-of-type {\n",
       "        vertical-align: middle;\n",
       "    }\n",
       "\n",
       "    .dataframe tbody tr th {\n",
       "        vertical-align: top;\n",
       "    }\n",
       "\n",
       "    .dataframe thead th {\n",
       "        text-align: right;\n",
       "    }\n",
       "</style>\n",
       "<table border=\"1\" class=\"dataframe\">\n",
       "  <thead>\n",
       "    <tr style=\"text-align: right;\">\n",
       "      <th></th>\n",
       "      <th>city</th>\n",
       "      <th>voos_unicos</th>\n",
       "    </tr>\n",
       "  </thead>\n",
       "  <tbody>\n",
       "    <tr>\n",
       "      <th>4</th>\n",
       "      <td>Rio de Janeiro</td>\n",
       "      <td>257902</td>\n",
       "    </tr>\n",
       "    <tr>\n",
       "      <th>6</th>\n",
       "      <td>São Paulo</td>\n",
       "      <td>198152</td>\n",
       "    </tr>\n",
       "    <tr>\n",
       "      <th>3</th>\n",
       "      <td>Porto Alegre</td>\n",
       "      <td>186599</td>\n",
       "    </tr>\n",
       "    <tr>\n",
       "      <th>5</th>\n",
       "      <td>Salvador</td>\n",
       "      <td>179083</td>\n",
       "    </tr>\n",
       "    <tr>\n",
       "      <th>2</th>\n",
       "      <td>Manaus</td>\n",
       "      <td>175318</td>\n",
       "    </tr>\n",
       "    <tr>\n",
       "      <th>1</th>\n",
       "      <td>Brasilia</td>\n",
       "      <td>154827</td>\n",
       "    </tr>\n",
       "    <tr>\n",
       "      <th>0</th>\n",
       "      <td>Belo Horizonte</td>\n",
       "      <td>136195</td>\n",
       "    </tr>\n",
       "  </tbody>\n",
       "</table>\n",
       "</div>"
      ],
      "text/plain": [
       "             city  voos_unicos\n",
       "4  Rio de Janeiro       257902\n",
       "6       São Paulo       198152\n",
       "3    Porto Alegre       186599\n",
       "5        Salvador       179083\n",
       "2          Manaus       175318\n",
       "1        Brasilia       154827\n",
       "0  Belo Horizonte       136195"
      ]
     },
     "execution_count": 47,
     "metadata": {},
     "output_type": "execute_result"
    }
   ],
   "source": [
    "voos_unicos_saida = merge_airport(voos_unicos_saida, \"originCode\")\n",
    "voos_unicos_saida.groupby(\"city\").sum().reset_index().sort_values(\"voos_unicos\", ascending=False)"
   ]
  },
  {
   "cell_type": "markdown",
   "id": "4dc8cd77-fe31-41bb-82a4-a77f83855c18",
   "metadata": {},
   "source": [
    "### Quantos voos únicos chegam em cada cidade?"
   ]
  },
  {
   "cell_type": "code",
   "execution_count": null,
   "id": "325d4798-2bc3-4935-8cfa-22165123cace",
   "metadata": {},
   "outputs": [],
   "source": [
    "q = \"\"\"\n",
    "SELECT \"destinationCode\", count(*) as voos_unicos\n",
    "FROM (\n",
    "    SELECT DISTINCT \"legId\", \"destinationCode\"\n",
    "    FROM flight.fare F\n",
    "        JOIN flight.search S\n",
    "        ON S.\"searchId\" = F.\"searchId\" \n",
    ") subquery\n",
    "GROUP BY \"destinationCode\"\n",
    "ORDER BY voos_unicos DESC\n",
    "\"\"\"\n",
    "voos_unicos_chegada = qt.run_query(q)"
   ]
  },
  {
   "cell_type": "code",
   "execution_count": 57,
   "id": "f83a839e-20df-4d52-963c-161c2b98fadc",
   "metadata": {
    "tags": []
   },
   "outputs": [],
   "source": [
    "voos_unicos_chegada = merge_airport(voos_unicos_chegada, \"destinationCode\")"
   ]
  },
  {
   "cell_type": "code",
   "execution_count": 61,
   "id": "12493fd3-2fe5-4c6f-a21d-b6acc9d26207",
   "metadata": {
    "tags": []
   },
   "outputs": [
    {
     "name": "stderr",
     "output_type": "stream",
     "text": [
      "/tmp/ipykernel_1835415/200320251.py:1: FutureWarning: The default value of numeric_only in DataFrameGroupBy.sum is deprecated. In a future version, numeric_only will default to False. Either specify numeric_only or select only columns which should be valid for the function.\n",
      "  voos_unicos_chegada.groupby(\"city\").sum().reset_index().sort_values(\"voos_unicos\", ascending=False)\n"
     ]
    },
    {
     "data": {
      "text/html": [
       "<div>\n",
       "<style scoped>\n",
       "    .dataframe tbody tr th:only-of-type {\n",
       "        vertical-align: middle;\n",
       "    }\n",
       "\n",
       "    .dataframe tbody tr th {\n",
       "        vertical-align: top;\n",
       "    }\n",
       "\n",
       "    .dataframe thead th {\n",
       "        text-align: right;\n",
       "    }\n",
       "</style>\n",
       "<table border=\"1\" class=\"dataframe\">\n",
       "  <thead>\n",
       "    <tr style=\"text-align: right;\">\n",
       "      <th></th>\n",
       "      <th>city</th>\n",
       "      <th>voos_unicos</th>\n",
       "    </tr>\n",
       "  </thead>\n",
       "  <tbody>\n",
       "    <tr>\n",
       "      <th>4</th>\n",
       "      <td>Rio de Janeiro</td>\n",
       "      <td>239413</td>\n",
       "    </tr>\n",
       "    <tr>\n",
       "      <th>6</th>\n",
       "      <td>São Paulo</td>\n",
       "      <td>204014</td>\n",
       "    </tr>\n",
       "    <tr>\n",
       "      <th>3</th>\n",
       "      <td>Porto Alegre</td>\n",
       "      <td>188359</td>\n",
       "    </tr>\n",
       "    <tr>\n",
       "      <th>2</th>\n",
       "      <td>Manaus</td>\n",
       "      <td>181051</td>\n",
       "    </tr>\n",
       "    <tr>\n",
       "      <th>5</th>\n",
       "      <td>Salvador</td>\n",
       "      <td>176788</td>\n",
       "    </tr>\n",
       "    <tr>\n",
       "      <th>1</th>\n",
       "      <td>Brasilia</td>\n",
       "      <td>159588</td>\n",
       "    </tr>\n",
       "    <tr>\n",
       "      <th>0</th>\n",
       "      <td>Belo Horizonte</td>\n",
       "      <td>138863</td>\n",
       "    </tr>\n",
       "  </tbody>\n",
       "</table>\n",
       "</div>"
      ],
      "text/plain": [
       "             city  voos_unicos\n",
       "4  Rio de Janeiro       239413\n",
       "6       São Paulo       204014\n",
       "3    Porto Alegre       188359\n",
       "2          Manaus       181051\n",
       "5        Salvador       176788\n",
       "1        Brasilia       159588\n",
       "0  Belo Horizonte       138863"
      ]
     },
     "execution_count": 61,
     "metadata": {},
     "output_type": "execute_result"
    }
   ],
   "source": [
    "voos_unicos_chegada.groupby(\"city\").sum().reset_index().sort_values(\"voos_unicos\", ascending=False)"
   ]
  },
  {
   "cell_type": "markdown",
   "id": "a814c0ac-c8d4-4e5d-a97d-be6cc50389c4",
   "metadata": {},
   "source": [
    "### Quantos voos únicos existem em cada trecho?"
   ]
  },
  {
   "cell_type": "code",
   "execution_count": null,
   "id": "6baac10a-767e-46ff-8eb2-f9cc37773d2d",
   "metadata": {
    "tags": []
   },
   "outputs": [],
   "source": [
    "q = \"\"\"\n",
    "SELECT \"originCode\", \"destinationCode\", count(*) as voos_unicos\n",
    "FROM (\n",
    "    SELECT DISTINCT \"legId\", \"originCode\", \"destinationCode\"\n",
    "    FROM flight.fare F\n",
    "        JOIN flight.search S\n",
    "        ON S.\"searchId\" = F.\"searchId\" \n",
    ") subquery\n",
    "GROUP BY  \"originCode\", \"destinationCode\"\n",
    "ORDER BY voos_unicos DESC\n",
    "\"\"\"\n",
    "voos_unicos_trecho = qt.run_query(q)"
   ]
  },
  {
   "cell_type": "code",
   "execution_count": 64,
   "id": "9bb39e0c-7ca0-4ce4-ac9c-7359bc7cf2c6",
   "metadata": {
    "tags": []
   },
   "outputs": [],
   "source": [
    "voos_unicos_trecho = merge_airport(voos_unicos_trecho, [\"originCode\", \"destinationCode\"])"
   ]
  },
  {
   "cell_type": "code",
   "execution_count": 53,
   "id": "0df656d8-900c-435b-9ea4-0cca77eb3ec4",
   "metadata": {
    "tags": []
   },
   "outputs": [
    {
     "data": {
      "text/html": [
       "<div>\n",
       "<style scoped>\n",
       "    .dataframe tbody tr th:only-of-type {\n",
       "        vertical-align: middle;\n",
       "    }\n",
       "\n",
       "    .dataframe tbody tr th {\n",
       "        vertical-align: top;\n",
       "    }\n",
       "\n",
       "    .dataframe thead th {\n",
       "        text-align: right;\n",
       "    }\n",
       "</style>\n",
       "<table border=\"1\" class=\"dataframe\">\n",
       "  <thead>\n",
       "    <tr style=\"text-align: right;\">\n",
       "      <th></th>\n",
       "      <th>cityoriginCode</th>\n",
       "      <th>city_destinationCode</th>\n",
       "      <th>voos_unicos</th>\n",
       "    </tr>\n",
       "  </thead>\n",
       "  <tbody>\n",
       "    <tr>\n",
       "      <th>27</th>\n",
       "      <td>Rio de Janeiro</td>\n",
       "      <td>Porto Alegre</td>\n",
       "      <td>48728</td>\n",
       "    </tr>\n",
       "    <tr>\n",
       "      <th>21</th>\n",
       "      <td>Porto Alegre</td>\n",
       "      <td>Rio de Janeiro</td>\n",
       "      <td>46309</td>\n",
       "    </tr>\n",
       "    <tr>\n",
       "      <th>29</th>\n",
       "      <td>Rio de Janeiro</td>\n",
       "      <td>São Paulo</td>\n",
       "      <td>46196</td>\n",
       "    </tr>\n",
       "    <tr>\n",
       "      <th>40</th>\n",
       "      <td>São Paulo</td>\n",
       "      <td>Rio de Janeiro</td>\n",
       "      <td>44707</td>\n",
       "    </tr>\n",
       "    <tr>\n",
       "      <th>28</th>\n",
       "      <td>Rio de Janeiro</td>\n",
       "      <td>Salvador</td>\n",
       "      <td>44091</td>\n",
       "    </tr>\n",
       "    <tr>\n",
       "      <th>26</th>\n",
       "      <td>Rio de Janeiro</td>\n",
       "      <td>Manaus</td>\n",
       "      <td>43846</td>\n",
       "    </tr>\n",
       "    <tr>\n",
       "      <th>25</th>\n",
       "      <td>Rio de Janeiro</td>\n",
       "      <td>Brasilia</td>\n",
       "      <td>42566</td>\n",
       "    </tr>\n",
       "    <tr>\n",
       "      <th>17</th>\n",
       "      <td>Manaus</td>\n",
       "      <td>São Paulo</td>\n",
       "      <td>42009</td>\n",
       "    </tr>\n",
       "    <tr>\n",
       "      <th>38</th>\n",
       "      <td>São Paulo</td>\n",
       "      <td>Manaus</td>\n",
       "      <td>41134</td>\n",
       "    </tr>\n",
       "    <tr>\n",
       "      <th>34</th>\n",
       "      <td>Salvador</td>\n",
       "      <td>Rio de Janeiro</td>\n",
       "      <td>40186</td>\n",
       "    </tr>\n",
       "    <tr>\n",
       "      <th>9</th>\n",
       "      <td>Brasilia</td>\n",
       "      <td>Rio de Janeiro</td>\n",
       "      <td>39267</td>\n",
       "    </tr>\n",
       "    <tr>\n",
       "      <th>15</th>\n",
       "      <td>Manaus</td>\n",
       "      <td>Rio de Janeiro</td>\n",
       "      <td>38929</td>\n",
       "    </tr>\n",
       "    <tr>\n",
       "      <th>33</th>\n",
       "      <td>Salvador</td>\n",
       "      <td>Porto Alegre</td>\n",
       "      <td>34897</td>\n",
       "    </tr>\n",
       "    <tr>\n",
       "      <th>37</th>\n",
       "      <td>São Paulo</td>\n",
       "      <td>Brasilia</td>\n",
       "      <td>33593</td>\n",
       "    </tr>\n",
       "    <tr>\n",
       "      <th>23</th>\n",
       "      <td>Porto Alegre</td>\n",
       "      <td>São Paulo</td>\n",
       "      <td>33279</td>\n",
       "    </tr>\n",
       "    <tr>\n",
       "      <th>22</th>\n",
       "      <td>Porto Alegre</td>\n",
       "      <td>Salvador</td>\n",
       "      <td>33259</td>\n",
       "    </tr>\n",
       "    <tr>\n",
       "      <th>24</th>\n",
       "      <td>Rio de Janeiro</td>\n",
       "      <td>Belo Horizonte</td>\n",
       "      <td>32475</td>\n",
       "    </tr>\n",
       "    <tr>\n",
       "      <th>39</th>\n",
       "      <td>São Paulo</td>\n",
       "      <td>Porto Alegre</td>\n",
       "      <td>32411</td>\n",
       "    </tr>\n",
       "    <tr>\n",
       "      <th>20</th>\n",
       "      <td>Porto Alegre</td>\n",
       "      <td>Manaus</td>\n",
       "      <td>31433</td>\n",
       "    </tr>\n",
       "    <tr>\n",
       "      <th>11</th>\n",
       "      <td>Brasilia</td>\n",
       "      <td>São Paulo</td>\n",
       "      <td>31421</td>\n",
       "    </tr>\n",
       "    <tr>\n",
       "      <th>35</th>\n",
       "      <td>Salvador</td>\n",
       "      <td>São Paulo</td>\n",
       "      <td>30260</td>\n",
       "    </tr>\n",
       "    <tr>\n",
       "      <th>3</th>\n",
       "      <td>Belo Horizonte</td>\n",
       "      <td>Rio de Janeiro</td>\n",
       "      <td>30015</td>\n",
       "    </tr>\n",
       "    <tr>\n",
       "      <th>14</th>\n",
       "      <td>Manaus</td>\n",
       "      <td>Porto Alegre</td>\n",
       "      <td>29928</td>\n",
       "    </tr>\n",
       "    <tr>\n",
       "      <th>16</th>\n",
       "      <td>Manaus</td>\n",
       "      <td>Salvador</td>\n",
       "      <td>28012</td>\n",
       "    </tr>\n",
       "    <tr>\n",
       "      <th>32</th>\n",
       "      <td>Salvador</td>\n",
       "      <td>Manaus</td>\n",
       "      <td>27540</td>\n",
       "    </tr>\n",
       "    <tr>\n",
       "      <th>41</th>\n",
       "      <td>São Paulo</td>\n",
       "      <td>Salvador</td>\n",
       "      <td>27088</td>\n",
       "    </tr>\n",
       "    <tr>\n",
       "      <th>30</th>\n",
       "      <td>Salvador</td>\n",
       "      <td>Belo Horizonte</td>\n",
       "      <td>25111</td>\n",
       "    </tr>\n",
       "    <tr>\n",
       "      <th>18</th>\n",
       "      <td>Porto Alegre</td>\n",
       "      <td>Belo Horizonte</td>\n",
       "      <td>23798</td>\n",
       "    </tr>\n",
       "    <tr>\n",
       "      <th>2</th>\n",
       "      <td>Belo Horizonte</td>\n",
       "      <td>Porto Alegre</td>\n",
       "      <td>23723</td>\n",
       "    </tr>\n",
       "    <tr>\n",
       "      <th>0</th>\n",
       "      <td>Belo Horizonte</td>\n",
       "      <td>Brasilia</td>\n",
       "      <td>23001</td>\n",
       "    </tr>\n",
       "    <tr>\n",
       "      <th>4</th>\n",
       "      <td>Belo Horizonte</td>\n",
       "      <td>Salvador</td>\n",
       "      <td>22680</td>\n",
       "    </tr>\n",
       "    <tr>\n",
       "      <th>6</th>\n",
       "      <td>Brasilia</td>\n",
       "      <td>Belo Horizonte</td>\n",
       "      <td>22638</td>\n",
       "    </tr>\n",
       "    <tr>\n",
       "      <th>10</th>\n",
       "      <td>Brasilia</td>\n",
       "      <td>Salvador</td>\n",
       "      <td>21658</td>\n",
       "    </tr>\n",
       "    <tr>\n",
       "      <th>7</th>\n",
       "      <td>Brasilia</td>\n",
       "      <td>Manaus</td>\n",
       "      <td>21171</td>\n",
       "    </tr>\n",
       "    <tr>\n",
       "      <th>31</th>\n",
       "      <td>Salvador</td>\n",
       "      <td>Brasilia</td>\n",
       "      <td>21089</td>\n",
       "    </tr>\n",
       "    <tr>\n",
       "      <th>5</th>\n",
       "      <td>Belo Horizonte</td>\n",
       "      <td>São Paulo</td>\n",
       "      <td>20849</td>\n",
       "    </tr>\n",
       "    <tr>\n",
       "      <th>13</th>\n",
       "      <td>Manaus</td>\n",
       "      <td>Brasilia</td>\n",
       "      <td>20818</td>\n",
       "    </tr>\n",
       "    <tr>\n",
       "      <th>36</th>\n",
       "      <td>São Paulo</td>\n",
       "      <td>Belo Horizonte</td>\n",
       "      <td>19219</td>\n",
       "    </tr>\n",
       "    <tr>\n",
       "      <th>8</th>\n",
       "      <td>Brasilia</td>\n",
       "      <td>Porto Alegre</td>\n",
       "      <td>18672</td>\n",
       "    </tr>\n",
       "    <tr>\n",
       "      <th>19</th>\n",
       "      <td>Porto Alegre</td>\n",
       "      <td>Brasilia</td>\n",
       "      <td>18521</td>\n",
       "    </tr>\n",
       "    <tr>\n",
       "      <th>1</th>\n",
       "      <td>Belo Horizonte</td>\n",
       "      <td>Manaus</td>\n",
       "      <td>15927</td>\n",
       "    </tr>\n",
       "    <tr>\n",
       "      <th>12</th>\n",
       "      <td>Manaus</td>\n",
       "      <td>Belo Horizonte</td>\n",
       "      <td>15622</td>\n",
       "    </tr>\n",
       "  </tbody>\n",
       "</table>\n",
       "</div>"
      ],
      "text/plain": [
       "    cityoriginCode city_destinationCode  voos_unicos\n",
       "27  Rio de Janeiro         Porto Alegre        48728\n",
       "21    Porto Alegre       Rio de Janeiro        46309\n",
       "29  Rio de Janeiro            São Paulo        46196\n",
       "40       São Paulo       Rio de Janeiro        44707\n",
       "28  Rio de Janeiro             Salvador        44091\n",
       "26  Rio de Janeiro               Manaus        43846\n",
       "25  Rio de Janeiro             Brasilia        42566\n",
       "17          Manaus            São Paulo        42009\n",
       "38       São Paulo               Manaus        41134\n",
       "34        Salvador       Rio de Janeiro        40186\n",
       "9         Brasilia       Rio de Janeiro        39267\n",
       "15          Manaus       Rio de Janeiro        38929\n",
       "33        Salvador         Porto Alegre        34897\n",
       "37       São Paulo             Brasilia        33593\n",
       "23    Porto Alegre            São Paulo        33279\n",
       "22    Porto Alegre             Salvador        33259\n",
       "24  Rio de Janeiro       Belo Horizonte        32475\n",
       "39       São Paulo         Porto Alegre        32411\n",
       "20    Porto Alegre               Manaus        31433\n",
       "11        Brasilia            São Paulo        31421\n",
       "35        Salvador            São Paulo        30260\n",
       "3   Belo Horizonte       Rio de Janeiro        30015\n",
       "14          Manaus         Porto Alegre        29928\n",
       "16          Manaus             Salvador        28012\n",
       "32        Salvador               Manaus        27540\n",
       "41       São Paulo             Salvador        27088\n",
       "30        Salvador       Belo Horizonte        25111\n",
       "18    Porto Alegre       Belo Horizonte        23798\n",
       "2   Belo Horizonte         Porto Alegre        23723\n",
       "0   Belo Horizonte             Brasilia        23001\n",
       "4   Belo Horizonte             Salvador        22680\n",
       "6         Brasilia       Belo Horizonte        22638\n",
       "10        Brasilia             Salvador        21658\n",
       "7         Brasilia               Manaus        21171\n",
       "31        Salvador             Brasilia        21089\n",
       "5   Belo Horizonte            São Paulo        20849\n",
       "13          Manaus             Brasilia        20818\n",
       "36       São Paulo       Belo Horizonte        19219\n",
       "8         Brasilia         Porto Alegre        18672\n",
       "19    Porto Alegre             Brasilia        18521\n",
       "1   Belo Horizonte               Manaus        15927\n",
       "12          Manaus       Belo Horizonte        15622"
      ]
     },
     "execution_count": 53,
     "metadata": {},
     "output_type": "execute_result"
    }
   ],
   "source": [
    "(voos_unicos_trecho[[\"cityoriginCode\", \"city_destinationCode\", \"voos_unicos\"]]\n",
    " .groupby([\"cityoriginCode\", \"city_destinationCode\"])\n",
    " .sum()\n",
    " .reset_index()\n",
    " .sort_values(\"voos_unicos\", ascending=False))"
   ]
  },
  {
   "cell_type": "code",
   "execution_count": null,
   "id": "ae695b06-34b6-45d9-82a1-8debbfa730fa",
   "metadata": {
    "tags": []
   },
   "outputs": [],
   "source": [
    "# voos_unicos_trecho[[\"cityoriginCode\", \"city_destinationCode\", \"voos_unicos\"]].head(50)"
   ]
  },
  {
   "cell_type": "markdown",
   "id": "8bf7362a-8bd3-49c7-8f86-af2ee42f271d",
   "metadata": {},
   "source": [
    "## Companias aéreas "
   ]
  },
  {
   "cell_type": "markdown",
   "id": "a705526c-1d2a-4959-aa4a-e536c3bfff8d",
   "metadata": {},
   "source": [
    "### Quais são as companhias aéreas coletadas?"
   ]
  },
  {
   "cell_type": "code",
   "execution_count": 23,
   "id": "96ba6e17-476a-4cb4-8f13-2e0d01224131",
   "metadata": {},
   "outputs": [
    {
     "data": {
      "text/html": [
       "<div>\n",
       "<style scoped>\n",
       "    .dataframe tbody tr th:only-of-type {\n",
       "        vertical-align: middle;\n",
       "    }\n",
       "\n",
       "    .dataframe tbody tr th {\n",
       "        vertical-align: top;\n",
       "    }\n",
       "\n",
       "    .dataframe thead th {\n",
       "        text-align: right;\n",
       "    }\n",
       "</style>\n",
       "<table border=\"1\" class=\"dataframe\">\n",
       "  <thead>\n",
       "    <tr style=\"text-align: right;\">\n",
       "      <th></th>\n",
       "      <th>airlineCode</th>\n",
       "      <th>airlineName</th>\n",
       "    </tr>\n",
       "  </thead>\n",
       "  <tbody>\n",
       "    <tr>\n",
       "      <th>0</th>\n",
       "      <td>LA</td>\n",
       "      <td>LATAM Airlines Group</td>\n",
       "    </tr>\n",
       "    <tr>\n",
       "      <th>1</th>\n",
       "      <td>G3</td>\n",
       "      <td>GOL Linhas Aereas S.A.</td>\n",
       "    </tr>\n",
       "    <tr>\n",
       "      <th>6</th>\n",
       "      <td>H1</td>\n",
       "      <td>Hahn Air Systems</td>\n",
       "    </tr>\n",
       "  </tbody>\n",
       "</table>\n",
       "</div>"
      ],
      "text/plain": [
       "  airlineCode             airlineName\n",
       "0          LA    LATAM Airlines Group\n",
       "1          G3  GOL Linhas Aereas S.A.\n",
       "6          H1        Hahn Air Systems"
      ]
     },
     "execution_count": 23,
     "metadata": {},
     "output_type": "execute_result"
    }
   ],
   "source": [
    "qt.get_table(\"airline\")[[\"airlineCode\", \"airlineName\"]].drop_duplicates()"
   ]
  },
  {
   "cell_type": "markdown",
   "id": "840d008b-dea9-48f6-9788-ca8f565deab6",
   "metadata": {},
   "source": [
    "### Quantos voos únicos cada companía fez?"
   ]
  },
  {
   "cell_type": "code",
   "execution_count": 27,
   "id": "7f5a3cf8-e9fa-4418-9935-c79762a952e1",
   "metadata": {
    "tags": []
   },
   "outputs": [],
   "source": [
    "q = \"\"\"\n",
    "SELECT \"airlineName\", count(*) as voos_unicos\n",
    "FROM (\n",
    "    SELECT DISTINCT F.\"legId\", A.\"airlineName\"\n",
    "    FROM flight.flight F\n",
    "        LEFT JOIN flight.airline A\n",
    "        ON A.\"airlineCode\" = F.\"airlineCode\"\n",
    ") subquery\n",
    "GROUP BY  \"airlineName\"\n",
    "ORDER BY voos_unicos DESC\n",
    "\"\"\"\n",
    "voos_unicos_compania = qt.run_query(q)"
   ]
  },
  {
   "cell_type": "code",
   "execution_count": 26,
   "id": "2e9a191b-8d45-4a38-978d-b9229c6c1354",
   "metadata": {
    "tags": []
   },
   "outputs": [
    {
     "data": {
      "text/html": [
       "<div>\n",
       "<style scoped>\n",
       "    .dataframe tbody tr th:only-of-type {\n",
       "        vertical-align: middle;\n",
       "    }\n",
       "\n",
       "    .dataframe tbody tr th {\n",
       "        vertical-align: top;\n",
       "    }\n",
       "\n",
       "    .dataframe thead th {\n",
       "        text-align: right;\n",
       "    }\n",
       "</style>\n",
       "<table border=\"1\" class=\"dataframe\">\n",
       "  <thead>\n",
       "    <tr style=\"text-align: right;\">\n",
       "      <th></th>\n",
       "      <th>airlineName</th>\n",
       "      <th>voos_unicos</th>\n",
       "    </tr>\n",
       "  </thead>\n",
       "  <tbody>\n",
       "    <tr>\n",
       "      <th>0</th>\n",
       "      <td>None</td>\n",
       "      <td>1212133</td>\n",
       "    </tr>\n",
       "    <tr>\n",
       "      <th>1</th>\n",
       "      <td>LATAM Airlines Group</td>\n",
       "      <td>40168</td>\n",
       "    </tr>\n",
       "    <tr>\n",
       "      <th>2</th>\n",
       "      <td>GOL Linhas Aereas S.A.</td>\n",
       "      <td>35775</td>\n",
       "    </tr>\n",
       "  </tbody>\n",
       "</table>\n",
       "</div>"
      ],
      "text/plain": [
       "              airlineName  voos_unicos\n",
       "0                    None      1212133\n",
       "1    LATAM Airlines Group        40168\n",
       "2  GOL Linhas Aereas S.A.        35775"
      ]
     },
     "execution_count": 26,
     "metadata": {},
     "output_type": "execute_result"
    }
   ],
   "source": [
    "voos_unicos_compania"
   ]
  }
 ],
 "metadata": {
  "kernelspec": {
   "display_name": "Python 3 (ipykernel)",
   "language": "python",
   "name": "python3"
  },
  "language_info": {
   "codemirror_mode": {
    "name": "ipython",
    "version": 3
   },
   "file_extension": ".py",
   "mimetype": "text/x-python",
   "name": "python",
   "nbconvert_exporter": "python",
   "pygments_lexer": "ipython3",
   "version": "3.11.3"
  }
 },
 "nbformat": 4,
 "nbformat_minor": 5
}
