{
 "cells": [
  {
   "cell_type": "markdown",
   "id": "32e4490d-47d9-469c-8720-14f4e0f128fd",
   "metadata": {},
   "source": [
    "# Visão geral dos dados coletados"
   ]
  },
  {
   "cell_type": "markdown",
   "id": "f9c63da7-4d10-4e72-bfa1-c71570f2a27b",
   "metadata": {},
   "source": [
    "## Imports"
   ]
  },
  {
   "cell_type": "code",
   "execution_count": 1,
   "id": "3f4bec54-f5d0-438c-ad20-7ddae3a988e8",
   "metadata": {
    "tags": []
   },
   "outputs": [],
   "source": [
    "%load_ext autoreload\n",
    "%autoreload 2"
   ]
  },
  {
   "cell_type": "code",
   "execution_count": 2,
   "id": "a8b097e4-3f5b-490d-8271-e2d83afccfa8",
   "metadata": {
    "tags": []
   },
   "outputs": [],
   "source": [
    "import pandas as pd\n",
    "import matplotlib.pyplot as plt\n",
    "\n",
    "import sys\n",
    "\n",
    "\n",
    "sys.path.append(\"../../\")\n",
    "sys.path.append(\"../../odbc\")\n",
    "import query_tools as qt\n",
    "from connection import load_conn"
   ]
  },
  {
   "cell_type": "markdown",
   "id": "29c63daf-2ce6-4ce7-9a64-bba582093a34",
   "metadata": {},
   "source": [
    "## Linhas coletadas"
   ]
  },
  {
   "cell_type": "markdown",
   "id": "1386ec7f-099d-4441-81bd-8b157ce6a92f",
   "metadata": {},
   "source": [
    "### Quantas linhas de informação dos voos foram coletadas?"
   ]
  },
  {
   "cell_type": "code",
   "execution_count": 3,
   "id": "6774434d-ea20-437e-baab-df20655fbdda",
   "metadata": {
    "tags": []
   },
   "outputs": [
    {
     "data": {
      "text/html": [
       "<div>\n",
       "<style scoped>\n",
       "    .dataframe tbody tr th:only-of-type {\n",
       "        vertical-align: middle;\n",
       "    }\n",
       "\n",
       "    .dataframe tbody tr th {\n",
       "        vertical-align: top;\n",
       "    }\n",
       "\n",
       "    .dataframe thead th {\n",
       "        text-align: right;\n",
       "    }\n",
       "</style>\n",
       "<table border=\"1\" class=\"dataframe\">\n",
       "  <thead>\n",
       "    <tr style=\"text-align: right;\">\n",
       "      <th></th>\n",
       "      <th>count</th>\n",
       "    </tr>\n",
       "  </thead>\n",
       "  <tbody>\n",
       "    <tr>\n",
       "      <th>0</th>\n",
       "      <td>187872137</td>\n",
       "    </tr>\n",
       "  </tbody>\n",
       "</table>\n",
       "</div>"
      ],
      "text/plain": [
       "       count\n",
       "0  187872137"
      ]
     },
     "execution_count": 3,
     "metadata": {},
     "output_type": "execute_result"
    }
   ],
   "source": [
    "q = \"\"\"\n",
    "SELECT count(*)\n",
    "FROM flight.search\n",
    "\"\"\"\n",
    "qt.run_query(q)"
   ]
  },
  {
   "cell_type": "markdown",
   "id": "30c9bf37-7a0a-4234-8755-39c0af9437ff",
   "metadata": {
    "tags": []
   },
   "source": [
    "### Em média quantas linhas novas são coletadas por dia?\n",
    "Obs: considerando que o crawler coletaria 24h por dia\n",
    "Uma boa estimativa é verificar qual a média de linhas coletadas por hora e multiplicar por 24h, vai ser uma estimativa melhor."
   ]
  },
  {
   "cell_type": "code",
   "execution_count": 4,
   "id": "42dede21-debb-4918-a85a-f2d036686d37",
   "metadata": {
    "tags": []
   },
   "outputs": [
    {
     "data": {
      "text/html": [
       "<div>\n",
       "<style scoped>\n",
       "    .dataframe tbody tr th:only-of-type {\n",
       "        vertical-align: middle;\n",
       "    }\n",
       "\n",
       "    .dataframe tbody tr th {\n",
       "        vertical-align: top;\n",
       "    }\n",
       "\n",
       "    .dataframe thead th {\n",
       "        text-align: right;\n",
       "    }\n",
       "</style>\n",
       "<table border=\"1\" class=\"dataframe\">\n",
       "  <thead>\n",
       "    <tr style=\"text-align: right;\">\n",
       "      <th></th>\n",
       "      <th>average_rows_por_hora</th>\n",
       "      <th>desvio_padrao_por_hora</th>\n",
       "    </tr>\n",
       "  </thead>\n",
       "  <tbody>\n",
       "    <tr>\n",
       "      <th>0</th>\n",
       "      <td>202885.677106</td>\n",
       "      <td>76525.303746</td>\n",
       "    </tr>\n",
       "  </tbody>\n",
       "</table>\n",
       "</div>"
      ],
      "text/plain": [
       "   average_rows_por_hora  desvio_padrao_por_hora\n",
       "0          202885.677106            76525.303746"
      ]
     },
     "execution_count": 4,
     "metadata": {},
     "output_type": "execute_result"
    }
   ],
   "source": [
    "# Media e desvio padrao do nº de linhas coletadas por hora\n",
    "q = \"\"\"\n",
    "SELECT AVG(count) AS average_rows_por_hora, stddev(count) AS desvio_padrao_por_hora\n",
    "FROM (\n",
    "    SELECT COUNT(*) AS count\n",
    "    FROM flight.search\n",
    "    GROUP BY DATE_TRUNC('hour', \"operationalSearchTime\")\n",
    ") subquery\n",
    "\"\"\"\n",
    "metricas_coleta_linhas_por_hora = qt.run_query(q)\n",
    "metricas_coleta_linhas_por_hora"
   ]
  },
  {
   "cell_type": "code",
   "execution_count": 5,
   "id": "dc64c0ec-62a6-495d-90d7-7a1723048607",
   "metadata": {
    "tags": []
   },
   "outputs": [
    {
     "data": {
      "text/plain": [
       "4869256.250539957"
      ]
     },
     "execution_count": 5,
     "metadata": {},
     "output_type": "execute_result"
    }
   ],
   "source": [
    "estimativa_linhas_coletadas_por_dia = metricas_coleta_linhas_por_hora.loc[0, \"average_rows_por_hora\"] * 24\n",
    "estimativa_linhas_coletadas_por_dia"
   ]
  },
  {
   "cell_type": "markdown",
   "id": "45f4eaa5-3d2e-4188-a208-d578b8c678de",
   "metadata": {},
   "source": [
    "## Memória"
   ]
  },
  {
   "cell_type": "markdown",
   "id": "3c17ade1-8398-4513-b12e-cec16dcfcdf2",
   "metadata": {},
   "source": [
    "### Quantos Bytes tem o banco de dados?"
   ]
  },
  {
   "cell_type": "code",
   "execution_count": 6,
   "id": "bcf7f9b4-3474-4f77-ba43-8d34288d0e6e",
   "metadata": {
    "tags": []
   },
   "outputs": [
    {
     "data": {
      "text/html": [
       "<div>\n",
       "<style scoped>\n",
       "    .dataframe tbody tr th:only-of-type {\n",
       "        vertical-align: middle;\n",
       "    }\n",
       "\n",
       "    .dataframe tbody tr th {\n",
       "        vertical-align: top;\n",
       "    }\n",
       "\n",
       "    .dataframe thead th {\n",
       "        text-align: right;\n",
       "    }\n",
       "</style>\n",
       "<table border=\"1\" class=\"dataframe\">\n",
       "  <thead>\n",
       "    <tr style=\"text-align: right;\">\n",
       "      <th></th>\n",
       "      <th>pg_database_size</th>\n",
       "    </tr>\n",
       "  </thead>\n",
       "  <tbody>\n",
       "    <tr>\n",
       "      <th>0</th>\n",
       "      <td>153422136099</td>\n",
       "    </tr>\n",
       "  </tbody>\n",
       "</table>\n",
       "</div>"
      ],
      "text/plain": [
       "   pg_database_size\n",
       "0      153422136099"
      ]
     },
     "execution_count": 6,
     "metadata": {},
     "output_type": "execute_result"
    }
   ],
   "source": [
    "# Consulta para obter o tamanho do banco de dados em bytes\n",
    "q = \"SELECT pg_database_size('flight')\"\n",
    "bytes_df = qt.run_query(q)\n",
    "bytes_df"
   ]
  },
  {
   "cell_type": "markdown",
   "id": "0d8220fa-0216-4bb5-bcf2-07f23ca7960a",
   "metadata": {},
   "source": [
    "### Quantos Gigabytes tem o banco de dados?"
   ]
  },
  {
   "cell_type": "code",
   "execution_count": 7,
   "id": "a67fe7c1-d6b4-4b04-ae06-19dfbf2aa901",
   "metadata": {
    "tags": []
   },
   "outputs": [
    {
     "data": {
      "text/html": [
       "<div>\n",
       "<style scoped>\n",
       "    .dataframe tbody tr th:only-of-type {\n",
       "        vertical-align: middle;\n",
       "    }\n",
       "\n",
       "    .dataframe tbody tr th {\n",
       "        vertical-align: top;\n",
       "    }\n",
       "\n",
       "    .dataframe thead th {\n",
       "        text-align: right;\n",
       "    }\n",
       "</style>\n",
       "<table border=\"1\" class=\"dataframe\">\n",
       "  <thead>\n",
       "    <tr style=\"text-align: right;\">\n",
       "      <th></th>\n",
       "      <th>pg_size_pretty</th>\n",
       "    </tr>\n",
       "  </thead>\n",
       "  <tbody>\n",
       "    <tr>\n",
       "      <th>0</th>\n",
       "      <td>143 GB</td>\n",
       "    </tr>\n",
       "  </tbody>\n",
       "</table>\n",
       "</div>"
      ],
      "text/plain": [
       "  pg_size_pretty\n",
       "0         143 GB"
      ]
     },
     "execution_count": 7,
     "metadata": {},
     "output_type": "execute_result"
    }
   ],
   "source": [
    "bytes_ = bytes_df.loc[0, \"pg_database_size\"]\n",
    "# Consulta para obter o tamanho do banco de dados em gigabytes \n",
    "q = f\"SELECT pg_size_pretty({bytes_})\"\n",
    "qt.run_query(q)"
   ]
  },
  {
   "cell_type": "markdown",
   "id": "b4023ff6-eba8-4fe6-ac87-75e37fe367c6",
   "metadata": {},
   "source": [
    "## Coleta de dados"
   ]
  },
  {
   "cell_type": "markdown",
   "id": "321f769d-3200-4218-8745-f828fcbd1e02",
   "metadata": {},
   "source": [
    "### Quais as datas e horários que temos coletados?"
   ]
  },
  {
   "cell_type": "code",
   "execution_count": 8,
   "id": "24af3ddd-5236-4753-a3a3-0b46a30cdd6d",
   "metadata": {
    "tags": []
   },
   "outputs": [],
   "source": [
    "q = \"\"\"\n",
    "SELECT DISTINCT DATE_TRUNC('hour', \"operationalSearchTime\") AS \"operationalSearchTime\"\n",
    "FROM flight.search\n",
    "\"\"\"\n",
    "\n",
    "operationalSearchTime = qt.run_query(q)"
   ]
  },
  {
   "cell_type": "code",
   "execution_count": 9,
   "id": "27353955-f35a-41ff-b098-668903b73295",
   "metadata": {
    "tags": []
   },
   "outputs": [
    {
     "data": {
      "text/html": [
       "<div>\n",
       "<style scoped>\n",
       "    .dataframe tbody tr th:only-of-type {\n",
       "        vertical-align: middle;\n",
       "    }\n",
       "\n",
       "    .dataframe tbody tr th {\n",
       "        vertical-align: top;\n",
       "    }\n",
       "\n",
       "    .dataframe thead th {\n",
       "        text-align: right;\n",
       "    }\n",
       "</style>\n",
       "<table border=\"1\" class=\"dataframe\">\n",
       "  <thead>\n",
       "    <tr style=\"text-align: right;\">\n",
       "      <th></th>\n",
       "      <th>operationalSearchTime</th>\n",
       "    </tr>\n",
       "  </thead>\n",
       "  <tbody>\n",
       "    <tr>\n",
       "      <th>0</th>\n",
       "      <td>2023-06-04 09:00:00</td>\n",
       "    </tr>\n",
       "  </tbody>\n",
       "</table>\n",
       "</div>"
      ],
      "text/plain": [
       "  operationalSearchTime\n",
       "0   2023-06-04 09:00:00"
      ]
     },
     "execution_count": 9,
     "metadata": {},
     "output_type": "execute_result"
    }
   ],
   "source": [
    "operationalSearchTime.head(1)"
   ]
  },
  {
   "cell_type": "code",
   "execution_count": 10,
   "id": "c2bc2f7e-d01d-41de-8f60-d5ba1688772f",
   "metadata": {
    "tags": []
   },
   "outputs": [
    {
     "data": {
      "image/png": "[encoded data removed]",
      "text/plain": [
       "<Figure size 1500x500 with 1 Axes>"
      ]
     },
     "metadata": {},
     "output_type": "display_data"
    }
   ],
   "source": [
    "plt.figure(figsize=(15, 5))\n",
    "plt.scatter(operationalSearchTime['operationalSearchTime'],\n",
    "            [1] * len(operationalSearchTime))\n",
    "plt.yticks([])  # Remove os valores no eixo y\n",
    "plt.xlabel('Data e Hora')\n",
    "plt.title('Datas e Horários Coletados')\n",
    "plt.show()\n"
   ]
  },
  {
   "cell_type": "markdown",
   "id": "eb5d078a-95a7-4afd-a57d-c794d10b522a",
   "metadata": {},
   "source": [
    "### Qual a quantidade de voos capturados em cada coleta?"
   ]
  },
  {
   "cell_type": "code",
   "execution_count": 11,
   "id": "7a430136-70ba-4521-8f3c-1fc00173c0e2",
   "metadata": {
    "tags": []
   },
   "outputs": [],
   "source": [
    "q = \"\"\"\n",
    "SELECT DISTINCT DATE_TRUNC('hour', \"operationalSearchTime\") AS hora_coletada,\n",
    "    count(*) AS linhas_coletadas\n",
    "FROM flight.search\n",
    "GROUP BY hora_coletada\n",
    "\"\"\"\n",
    "coleta = qt.run_query(q)"
   ]
  },
  {
   "cell_type": "code",
   "execution_count": 12,
   "id": "6738e1fc-cc2f-47ec-a7b9-cad245453686",
   "metadata": {
    "tags": []
   },
   "outputs": [
    {
     "data": {
      "text/plain": [
       "(Timestamp('2023-06-13 23:00:00'), Timestamp('2023-03-27 12:00:00'))"
      ]
     },
     "execution_count": 12,
     "metadata": {},
     "output_type": "execute_result"
    }
   ],
   "source": [
    "coleta.hora_coletada.max(), coleta.hora_coletada.min()"
   ]
  },
  {
   "cell_type": "code",
   "execution_count": 13,
   "id": "179e7f5a-c5b0-49d3-a15a-fe14e3ddd52b",
   "metadata": {
    "tags": []
   },
   "outputs": [
    {
     "data": {
      "text/plain": [
       "{'hora_coletada': {0: Timestamp('2023-03-27 12:00:00'),\n",
       "  1: Timestamp('2023-03-27 13:00:00'),\n",
       "  2: Timestamp('2023-03-27 14:00:00'),\n",
       "  3: Timestamp('2023-03-27 16:00:00'),\n",
       "  4: Timestamp('2023-03-27 17:00:00'),\n",
       "  5: Timestamp('2023-03-27 18:00:00'),\n",
       "  6: Timestamp('2023-03-27 19:00:00'),\n",
       "  7: Timestamp('2023-03-27 20:00:00'),\n",
       "  8: Timestamp('2023-03-27 21:00:00'),\n",
       "  9: Timestamp('2023-03-27 22:00:00')},\n",
       " 'linhas_coletadas': {0: 217728,\n",
       "  1: 216485,\n",
       "  2: 191034,\n",
       "  3: 215153,\n",
       "  4: 214490,\n",
       "  5: 193087,\n",
       "  6: 14274,\n",
       "  7: 9947,\n",
       "  8: 6459,\n",
       "  9: 3868}}"
      ]
     },
     "execution_count": 13,
     "metadata": {},
     "output_type": "execute_result"
    }
   ],
   "source": [
    "coleta.head(10).to_dict()"
   ]
  },
  {
   "cell_type": "code",
   "execution_count": 14,
   "id": "08238860-3f31-4ed4-83f9-12ae6b03f775",
   "metadata": {
    "tags": []
   },
   "outputs": [],
   "source": [
    "# Definir intervalo de datas completo\n",
    "start_date = coleta['hora_coletada'].min()\n",
    "end_date = coleta['hora_coletada'].max()\n",
    "date_range = pd.date_range(start=start_date, end=end_date, freq='H')\n",
    "\n",
    "# Criar DataFrame com todas as horas do intervalo\n",
    "complete_df = pd.DataFrame({'hora_coletada': date_range})\n",
    "\n",
    "# Fazer merge dos DataFrames\n",
    "coleta_completa = pd.merge(complete_df, coleta, on='hora_coletada', how='left')\n",
    "coleta_completa['linhas_coletadas'] = coleta_completa['linhas_coletadas'].fillna(0)\n",
    "\n",
    "# Ordenar DataFrame pelo horário\n",
    "coleta_completa = coleta_completa.sort_values('hora_coletada')\n"
   ]
  },
  {
   "cell_type": "code",
   "execution_count": 15,
   "id": "a6a00ac7-d9df-4d5e-ab82-b1cd0942e72e",
   "metadata": {
    "tags": []
   },
   "outputs": [
    {
     "data": {
      "image/png": "[encoded data removed]",
      "text/plain": [
       "<Figure size 1500x500 with 1 Axes>"
      ]
     },
     "metadata": {},
     "output_type": "display_data"
    }
   ],
   "source": [
    "# Criando o gráfico\n",
    "plt.figure(figsize=(15, 5))\n",
    "plt.plot(coleta_completa[\"hora_coletada\"], coleta_completa[\"linhas_coletadas\"])\n",
    "plt.xticks(rotation=90)\n",
    "\n",
    "# Configurando as datas no eixo x\n",
    "num_ticks = 60  # Número desejado de ticks no eixo x\n",
    "date_range = pd.date_range(start=coleta_completa[\"hora_coletada\"].min(), end=coleta_completa[\"hora_coletada\"].max(), periods=num_ticks)\n",
    "plt.xticks(date_range, rotation=90)\n",
    "\n",
    "plt.xlabel('Data e Hora')\n",
    "plt.ylabel('Linhas Coletadas')\n",
    "plt.title('Quantidade de Linhas Coletadas por Data')\n",
    "plt.show()\n"
   ]
  },
  {
   "cell_type": "markdown",
   "id": "c1c9dea5-223b-4c23-9897-8715a8c5b4be",
   "metadata": {},
   "source": [
    "### Qual a maior janela de coleta consecutiva?"
   ]
  },
  {
   "cell_type": "code",
   "execution_count": 16,
   "id": "b76bbba4-44c7-4468-842e-54b28092a0d4",
   "metadata": {
    "tags": []
   },
   "outputs": [
    {
     "data": {
      "text/html": [
       "<div>\n",
       "<style scoped>\n",
       "    .dataframe tbody tr th:only-of-type {\n",
       "        vertical-align: middle;\n",
       "    }\n",
       "\n",
       "    .dataframe tbody tr th {\n",
       "        vertical-align: top;\n",
       "    }\n",
       "\n",
       "    .dataframe thead th {\n",
       "        text-align: right;\n",
       "    }\n",
       "</style>\n",
       "<table border=\"1\" class=\"dataframe\">\n",
       "  <thead>\n",
       "    <tr style=\"text-align: right;\">\n",
       "      <th></th>\n",
       "      <th>hora_coletada</th>\n",
       "      <th>linhas_coletadas</th>\n",
       "    </tr>\n",
       "  </thead>\n",
       "  <tbody>\n",
       "    <tr>\n",
       "      <th>0</th>\n",
       "      <td>2023-03-27 12:00:00</td>\n",
       "      <td>217728.0</td>\n",
       "    </tr>\n",
       "    <tr>\n",
       "      <th>1</th>\n",
       "      <td>2023-03-27 13:00:00</td>\n",
       "      <td>216485.0</td>\n",
       "    </tr>\n",
       "    <tr>\n",
       "      <th>2</th>\n",
       "      <td>2023-03-27 14:00:00</td>\n",
       "      <td>191034.0</td>\n",
       "    </tr>\n",
       "    <tr>\n",
       "      <th>3</th>\n",
       "      <td>2023-03-27 15:00:00</td>\n",
       "      <td>0.0</td>\n",
       "    </tr>\n",
       "    <tr>\n",
       "      <th>4</th>\n",
       "      <td>2023-03-27 16:00:00</td>\n",
       "      <td>215153.0</td>\n",
       "    </tr>\n",
       "  </tbody>\n",
       "</table>\n",
       "</div>"
      ],
      "text/plain": [
       "        hora_coletada  linhas_coletadas\n",
       "0 2023-03-27 12:00:00          217728.0\n",
       "1 2023-03-27 13:00:00          216485.0\n",
       "2 2023-03-27 14:00:00          191034.0\n",
       "3 2023-03-27 15:00:00               0.0\n",
       "4 2023-03-27 16:00:00          215153.0"
      ]
     },
     "metadata": {},
     "output_type": "display_data"
    }
   ],
   "source": [
    "coleta_completa.sort_values(\"hora_coletada\", inplace=True, ignore_index=True)\n",
    "display(coleta_completa.head())\n",
    "\n",
    "teve_coleta = (coleta_completa.linhas_coletadas != 0).map(int)"
   ]
  },
  {
   "cell_type": "code",
   "execution_count": 17,
   "id": "214c1269-fdb3-4b96-b18e-46c5a4d8ccb9",
   "metadata": {
    "tags": []
   },
   "outputs": [
    {
     "name": "stdout",
     "output_type": "stream",
     "text": [
      "Maior sequência de 1's: 147 Isso equivale a 6.12 dias\n",
      "Data de inicio da sequencia 2023-06-04 23:00:00 , data do fim da sequencia 2023-06-11 01:00:00\n"
     ]
    }
   ],
   "source": [
    "# Variáveis para acompanhar a sequência atual e a sequência máxima\n",
    "numero_zeros_aceitaveis = 0\n",
    "current_sequence = 0\n",
    "max_sequence = 0\n",
    "primeiro_valor_sequencia = True\n",
    "menor_data = None\n",
    "maior_data = None\n",
    "\n",
    "contador_zeros = 0\n",
    "\n",
    "# Percorrer a série\n",
    "for indice, value in enumerate(teve_coleta):\n",
    "    if value == 1:\n",
    "        if primeiro_valor_sequencia:\n",
    "            menor_data_sequencia_atual = coleta_completa.loc[indice, \"hora_coletada\"]\n",
    "            primeiro_valor_sequencia = False\n",
    "\n",
    "        current_sequence += 1\n",
    "        contador_zeros = 0\n",
    "        if current_sequence > max_sequence:\n",
    "            max_sequence = current_sequence\n",
    "            menor_data = menor_data_sequencia_atual\n",
    "            maior_data = coleta_completa.loc[indice, \"hora_coletada\"]\n",
    "    else:\n",
    "        contador_zeros += 1\n",
    "        \n",
    "        if contador_zeros > numero_zeros_aceitaveis:\n",
    "            current_sequence = 0\n",
    "            primeiro_valor_sequencia = True\n",
    "\n",
    "print(\"Maior sequência de 1's:\", max_sequence, f\"Isso equivale a {round(max_sequence / 24, 2)} dias\")\n",
    "print(f\"Data de inicio da sequencia {menor_data} , data do fim da sequencia {maior_data}\")"
   ]
  },
  {
   "cell_type": "code",
   "execution_count": 18,
   "id": "aba826cc-d996-43b8-8fc3-28cc8f7931bb",
   "metadata": {
    "tags": []
   },
   "outputs": [
    {
     "data": {
      "text/plain": [
       "(147, 6.125)"
      ]
     },
     "execution_count": 18,
     "metadata": {},
     "output_type": "execute_result"
    }
   ],
   "source": [
    "# Conferindo o intervalo encontrado\n",
    "numero_horas = len(pd.date_range(start=menor_data, end=maior_data, freq='H'))\n",
    "numero_horas, numero_horas/24"
   ]
  },
  {
   "cell_type": "markdown",
   "id": "dca310b5-013a-4cdf-9768-f48b0e68f967",
   "metadata": {},
   "source": [
    "## Voos únicos"
   ]
  },
  {
   "cell_type": "markdown",
   "id": "dea3001d-32a1-4e3f-a6fd-177b0668fdc1",
   "metadata": {},
   "source": [
    "### Quantos voos únicos foram coletados?"
   ]
  },
  {
   "cell_type": "code",
   "execution_count": 19,
   "id": "47d5d133-6ce4-4e5f-b246-e99c65fea99a",
   "metadata": {
    "tags": []
   },
   "outputs": [
    {
     "data": {
      "text/html": [
       "<div>\n",
       "<style scoped>\n",
       "    .dataframe tbody tr th:only-of-type {\n",
       "        vertical-align: middle;\n",
       "    }\n",
       "\n",
       "    .dataframe tbody tr th {\n",
       "        vertical-align: top;\n",
       "    }\n",
       "\n",
       "    .dataframe thead th {\n",
       "        text-align: right;\n",
       "    }\n",
       "</style>\n",
       "<table border=\"1\" class=\"dataframe\">\n",
       "  <thead>\n",
       "    <tr style=\"text-align: right;\">\n",
       "      <th></th>\n",
       "      <th>voos_unicos</th>\n",
       "    </tr>\n",
       "  </thead>\n",
       "  <tbody>\n",
       "    <tr>\n",
       "      <th>0</th>\n",
       "      <td>1184020</td>\n",
       "    </tr>\n",
       "  </tbody>\n",
       "</table>\n",
       "</div>"
      ],
      "text/plain": [
       "   voos_unicos\n",
       "0      1184020"
      ]
     },
     "execution_count": 19,
     "metadata": {},
     "output_type": "execute_result"
    }
   ],
   "source": [
    "q = \"\"\"\n",
    "SELECT count(*) as voos_unicos\n",
    "FROM (SELECT DISTINCT \"legId\" FROM flight.fare) subquery\n",
    "\"\"\"\n",
    "qt.run_query(q)"
   ]
  },
  {
   "cell_type": "markdown",
   "id": "43cdfd00-5524-4bf2-9fac-2ed235e77300",
   "metadata": {},
   "source": [
    "### Em média quantos voos únicos são coletados por dia?\n"
   ]
  },
  {
   "cell_type": "code",
   "execution_count": 22,
   "id": "27f1657a-f9df-460d-9757-e251c7da5d2f",
   "metadata": {
    "tags": []
   },
   "outputs": [
    {
     "data": {
      "text/html": [
       "<div>\n",
       "<style scoped>\n",
       "    .dataframe tbody tr th:only-of-type {\n",
       "        vertical-align: middle;\n",
       "    }\n",
       "\n",
       "    .dataframe tbody tr th {\n",
       "        vertical-align: top;\n",
       "    }\n",
       "\n",
       "    .dataframe thead th {\n",
       "        text-align: right;\n",
       "    }\n",
       "</style>\n",
       "<table border=\"1\" class=\"dataframe\">\n",
       "  <thead>\n",
       "    <tr style=\"text-align: right;\">\n",
       "      <th></th>\n",
       "      <th>media_voos_unicos</th>\n",
       "    </tr>\n",
       "  </thead>\n",
       "  <tbody>\n",
       "    <tr>\n",
       "      <th>0</th>\n",
       "      <td>3.373279e+06</td>\n",
       "    </tr>\n",
       "  </tbody>\n",
       "</table>\n",
       "</div>"
      ],
      "text/plain": [
       "   media_voos_unicos\n",
       "0       3.373279e+06"
      ]
     },
     "execution_count": 22,
     "metadata": {},
     "output_type": "execute_result"
    }
   ],
   "source": [
    "q = \"\"\"\n",
    "SELECT AVG(voos_unicos) as media_voos_unicos\n",
    "FROM (\n",
    "    SELECT DATE_TRUNC('day', \"operationalSearchTime\") as search_day,\n",
    "        count(*) AS voos_unicos\n",
    "    FROM (SELECT DISTINCT F.\"legId\", S.\"operationalSearchTime\"\n",
    "          FROM flight.fare F\n",
    "          JOIN flight.search S ON F.\"searchId\" = S.\"searchId\"\n",
    "          ) subquery\n",
    "    GROUP BY search_day\n",
    ") subquery2\n",
    "\"\"\"\n",
    "\n",
    "media_voos_unicos_dia = qt.run_query(q)\n",
    "media_voos_unicos_dia"
   ]
  },
  {
   "cell_type": "code",
   "execution_count": 23,
   "id": "60fb6e32-30f3-4ae9-ac30-01117a14a779",
   "metadata": {
    "tags": []
   },
   "outputs": [
    {
     "data": {
      "text/html": [
       "<div>\n",
       "<style scoped>\n",
       "    .dataframe tbody tr th:only-of-type {\n",
       "        vertical-align: middle;\n",
       "    }\n",
       "\n",
       "    .dataframe tbody tr th {\n",
       "        vertical-align: top;\n",
       "    }\n",
       "\n",
       "    .dataframe thead th {\n",
       "        text-align: right;\n",
       "    }\n",
       "</style>\n",
       "<table border=\"1\" class=\"dataframe\">\n",
       "  <thead>\n",
       "    <tr style=\"text-align: right;\">\n",
       "      <th></th>\n",
       "      <th>media_voos_unicos</th>\n",
       "    </tr>\n",
       "  </thead>\n",
       "  <tbody>\n",
       "    <tr>\n",
       "      <th>0</th>\n",
       "      <td>3,373,279.07</td>\n",
       "    </tr>\n",
       "  </tbody>\n",
       "</table>\n",
       "</div>"
      ],
      "text/plain": [
       "  media_voos_unicos\n",
       "0      3,373,279.07"
      ]
     },
     "execution_count": 23,
     "metadata": {},
     "output_type": "execute_result"
    }
   ],
   "source": [
    "media_voos_unicos_dia[\"media_voos_unicos\"] = media_voos_unicos_dia[\"media_voos_unicos\"].apply(lambda x: '{:,.2f}'.format(x))\n",
    "media_voos_unicos_dia\n",
    "# TEM ALGO MUITO ESTRANHO AQUI, VERIFICAR ISSO"
   ]
  },
  {
   "cell_type": "markdown",
   "id": "99f82734-dea4-48cb-bbf5-0877084befc2",
   "metadata": {},
   "source": [
    "## Cidade"
   ]
  },
  {
   "cell_type": "code",
   "execution_count": 24,
   "id": "b54cb3ae-2b6d-4bf5-95f7-b37840a5af40",
   "metadata": {
    "tags": []
   },
   "outputs": [],
   "source": [
    "airport = qt.get_table(\"airport\")\n",
    "airport = airport[[\"airportCode\", \"city\"]]\n",
    "\n",
    "def merge_airport(df, column_merge):\n",
    "    if isinstance(column_merge, str):\n",
    "        df = df.merge(airport, how=\"left\", left_on=column_merge, right_on=\"airportCode\")\n",
    "        del df[\"airportCode\"]\n",
    "    elif isinstance(column_merge, list):\n",
    "        for index, column in enumerate(column_merge):\n",
    "            old_column = \"\" if index == 0 else column_merge[(index-1)]\n",
    "            df = df.merge(airport, how=\"left\",\n",
    "                          left_on=column,\n",
    "                          right_on=\"airportCode\",\n",
    "                          suffixes=(old_column, f\"_{column}\"))\n",
    "            del df[\"airportCode\"]\n",
    "    return df"
   ]
  },
  {
   "cell_type": "markdown",
   "id": "0a4e208c-5717-4315-a385-8888d1171bf3",
   "metadata": {},
   "source": [
    "### Quantos voos únicos saem de cada cidade?"
   ]
  },
  {
   "cell_type": "code",
   "execution_count": 25,
   "id": "63396397-3621-474d-a487-0a5f4d17b8b2",
   "metadata": {},
   "outputs": [],
   "source": [
    "q = \"\"\"\n",
    "SELECT \"originCode\", count(*) as voos_unicos\n",
    "FROM (\n",
    "    SELECT DISTINCT \"legId\", \"originCode\"\n",
    "    FROM flight.fare F\n",
    "        JOIN flight.search S\n",
    "        ON S.\"searchId\" = F.\"searchId\" \n",
    ") subquery\n",
    "GROUP BY \"originCode\"\n",
    "ORDER BY voos_unicos DESC\n",
    "\"\"\"\n",
    "voos_unicos_saida = qt.run_query(q)"
   ]
  },
  {
   "cell_type": "code",
   "execution_count": 26,
   "id": "df24b915-5965-42f3-a75d-651473c15b27",
   "metadata": {
    "tags": []
   },
   "outputs": [
    {
     "data": {
      "text/html": [
       "<div>\n",
       "<style scoped>\n",
       "    .dataframe tbody tr th:only-of-type {\n",
       "        vertical-align: middle;\n",
       "    }\n",
       "\n",
       "    .dataframe tbody tr th {\n",
       "        vertical-align: top;\n",
       "    }\n",
       "\n",
       "    .dataframe thead th {\n",
       "        text-align: right;\n",
       "    }\n",
       "</style>\n",
       "<table border=\"1\" class=\"dataframe\">\n",
       "  <thead>\n",
       "    <tr style=\"text-align: right;\">\n",
       "      <th></th>\n",
       "      <th>originCode</th>\n",
       "      <th>voos_unicos</th>\n",
       "      <th>city</th>\n",
       "    </tr>\n",
       "  </thead>\n",
       "  <tbody>\n",
       "    <tr>\n",
       "      <th>0</th>\n",
       "      <td>POA</td>\n",
       "      <td>170126</td>\n",
       "      <td>Porto Alegre</td>\n",
       "    </tr>\n",
       "    <tr>\n",
       "      <th>1</th>\n",
       "      <td>SSA</td>\n",
       "      <td>164496</td>\n",
       "      <td>Salvador</td>\n",
       "    </tr>\n",
       "    <tr>\n",
       "      <th>2</th>\n",
       "      <td>MAO</td>\n",
       "      <td>162586</td>\n",
       "      <td>Manaus</td>\n",
       "    </tr>\n",
       "    <tr>\n",
       "      <th>3</th>\n",
       "      <td>BSB</td>\n",
       "      <td>142282</td>\n",
       "      <td>NaN</td>\n",
       "    </tr>\n",
       "    <tr>\n",
       "      <th>4</th>\n",
       "      <td>SDU</td>\n",
       "      <td>134209</td>\n",
       "      <td>Rio de Janeiro</td>\n",
       "    </tr>\n",
       "    <tr>\n",
       "      <th>5</th>\n",
       "      <td>CNF</td>\n",
       "      <td>125504</td>\n",
       "      <td>NaN</td>\n",
       "    </tr>\n",
       "    <tr>\n",
       "      <th>6</th>\n",
       "      <td>CGH</td>\n",
       "      <td>107237</td>\n",
       "      <td>São Paulo</td>\n",
       "    </tr>\n",
       "    <tr>\n",
       "      <th>7</th>\n",
       "      <td>GIG</td>\n",
       "      <td>99829</td>\n",
       "      <td>Rio de Janeiro</td>\n",
       "    </tr>\n",
       "    <tr>\n",
       "      <th>8</th>\n",
       "      <td>GRU</td>\n",
       "      <td>77751</td>\n",
       "      <td>Guarulhos</td>\n",
       "    </tr>\n",
       "  </tbody>\n",
       "</table>\n",
       "</div>"
      ],
      "text/plain": [
       "  originCode  voos_unicos            city\n",
       "0        POA       170126    Porto Alegre\n",
       "1        SSA       164496        Salvador\n",
       "2        MAO       162586          Manaus\n",
       "3        BSB       142282             NaN\n",
       "4        SDU       134209  Rio de Janeiro\n",
       "5        CNF       125504             NaN\n",
       "6        CGH       107237       São Paulo\n",
       "7        GIG        99829  Rio de Janeiro\n",
       "8        GRU        77751       Guarulhos"
      ]
     },
     "execution_count": 26,
     "metadata": {},
     "output_type": "execute_result"
    }
   ],
   "source": [
    "merge_airport(voos_unicos_saida, \"originCode\")"
   ]
  },
  {
   "cell_type": "markdown",
   "id": "4dc8cd77-fe31-41bb-82a4-a77f83855c18",
   "metadata": {},
   "source": [
    "### Quantos voos únicos chegam em cada cidade?"
   ]
  },
  {
   "cell_type": "code",
   "execution_count": 27,
   "id": "325d4798-2bc3-4935-8cfa-22165123cace",
   "metadata": {},
   "outputs": [],
   "source": [
    "q = \"\"\"\n",
    "SELECT \"destinationCode\", count(*) as voos_unicos\n",
    "FROM (\n",
    "    SELECT DISTINCT \"legId\", \"destinationCode\"\n",
    "    FROM flight.fare F\n",
    "        JOIN flight.search S\n",
    "        ON S.\"searchId\" = F.\"searchId\" \n",
    ") subquery\n",
    "GROUP BY \"destinationCode\"\n",
    "ORDER BY voos_unicos DESC\n",
    "\"\"\"\n",
    "voos_unicos_chegada = qt.run_query(q)"
   ]
  },
  {
   "cell_type": "code",
   "execution_count": 28,
   "id": "0ccce164-1207-450e-9d03-503f14824e1c",
   "metadata": {
    "tags": []
   },
   "outputs": [
    {
     "data": {
      "text/html": [
       "<div>\n",
       "<style scoped>\n",
       "    .dataframe tbody tr th:only-of-type {\n",
       "        vertical-align: middle;\n",
       "    }\n",
       "\n",
       "    .dataframe tbody tr th {\n",
       "        vertical-align: top;\n",
       "    }\n",
       "\n",
       "    .dataframe thead th {\n",
       "        text-align: right;\n",
       "    }\n",
       "</style>\n",
       "<table border=\"1\" class=\"dataframe\">\n",
       "  <thead>\n",
       "    <tr style=\"text-align: right;\">\n",
       "      <th></th>\n",
       "      <th>destinationCode</th>\n",
       "      <th>voos_unicos</th>\n",
       "      <th>city</th>\n",
       "    </tr>\n",
       "  </thead>\n",
       "  <tbody>\n",
       "    <tr>\n",
       "      <th>0</th>\n",
       "      <td>POA</td>\n",
       "      <td>173604</td>\n",
       "      <td>Porto Alegre</td>\n",
       "    </tr>\n",
       "    <tr>\n",
       "      <th>1</th>\n",
       "      <td>MAO</td>\n",
       "      <td>167212</td>\n",
       "      <td>Manaus</td>\n",
       "    </tr>\n",
       "    <tr>\n",
       "      <th>2</th>\n",
       "      <td>SSA</td>\n",
       "      <td>160951</td>\n",
       "      <td>Salvador</td>\n",
       "    </tr>\n",
       "    <tr>\n",
       "      <th>3</th>\n",
       "      <td>BSB</td>\n",
       "      <td>146537</td>\n",
       "      <td>NaN</td>\n",
       "    </tr>\n",
       "    <tr>\n",
       "      <th>4</th>\n",
       "      <td>SDU</td>\n",
       "      <td>128350</td>\n",
       "      <td>Rio de Janeiro</td>\n",
       "    </tr>\n",
       "    <tr>\n",
       "      <th>5</th>\n",
       "      <td>CNF</td>\n",
       "      <td>127111</td>\n",
       "      <td>NaN</td>\n",
       "    </tr>\n",
       "    <tr>\n",
       "      <th>6</th>\n",
       "      <td>CGH</td>\n",
       "      <td>107606</td>\n",
       "      <td>São Paulo</td>\n",
       "    </tr>\n",
       "    <tr>\n",
       "      <th>7</th>\n",
       "      <td>GIG</td>\n",
       "      <td>91415</td>\n",
       "      <td>Rio de Janeiro</td>\n",
       "    </tr>\n",
       "    <tr>\n",
       "      <th>8</th>\n",
       "      <td>GRU</td>\n",
       "      <td>81234</td>\n",
       "      <td>Guarulhos</td>\n",
       "    </tr>\n",
       "  </tbody>\n",
       "</table>\n",
       "</div>"
      ],
      "text/plain": [
       "  destinationCode  voos_unicos            city\n",
       "0             POA       173604    Porto Alegre\n",
       "1             MAO       167212          Manaus\n",
       "2             SSA       160951        Salvador\n",
       "3             BSB       146537             NaN\n",
       "4             SDU       128350  Rio de Janeiro\n",
       "5             CNF       127111             NaN\n",
       "6             CGH       107606       São Paulo\n",
       "7             GIG        91415  Rio de Janeiro\n",
       "8             GRU        81234       Guarulhos"
      ]
     },
     "execution_count": 28,
     "metadata": {},
     "output_type": "execute_result"
    }
   ],
   "source": [
    "voos_unicos_chegada = merge_airport(voos_unicos_chegada, \"destinationCode\")\n",
    "voos_unicos_chegada"
   ]
  },
  {
   "cell_type": "markdown",
   "id": "a814c0ac-c8d4-4e5d-a97d-be6cc50389c4",
   "metadata": {},
   "source": [
    "### Quantos voos únicos existem em cada trecho?"
   ]
  },
  {
   "cell_type": "code",
   "execution_count": 29,
   "id": "6baac10a-767e-46ff-8eb2-f9cc37773d2d",
   "metadata": {
    "tags": []
   },
   "outputs": [],
   "source": [
    "q = \"\"\"\n",
    "SELECT \"originCode\", \"destinationCode\", count(*) as voos_unicos\n",
    "FROM (\n",
    "    SELECT DISTINCT \"legId\", \"originCode\", \"destinationCode\"\n",
    "    FROM flight.fare F\n",
    "        JOIN flight.search S\n",
    "        ON S.\"searchId\" = F.\"searchId\" \n",
    ") subquery\n",
    "GROUP BY  \"originCode\", \"destinationCode\"\n",
    "ORDER BY voos_unicos DESC\n",
    "\"\"\"\n",
    "voos_unicos_trecho = qt.run_query(q)"
   ]
  },
  {
   "cell_type": "code",
   "execution_count": 30,
   "id": "9bb39e0c-7ca0-4ce4-ac9c-7359bc7cf2c6",
   "metadata": {
    "tags": []
   },
   "outputs": [
    {
     "data": {
      "text/html": [
       "<div>\n",
       "<style scoped>\n",
       "    .dataframe tbody tr th:only-of-type {\n",
       "        vertical-align: middle;\n",
       "    }\n",
       "\n",
       "    .dataframe tbody tr th {\n",
       "        vertical-align: top;\n",
       "    }\n",
       "\n",
       "    .dataframe thead th {\n",
       "        text-align: right;\n",
       "    }\n",
       "</style>\n",
       "<table border=\"1\" class=\"dataframe\">\n",
       "  <thead>\n",
       "    <tr style=\"text-align: right;\">\n",
       "      <th></th>\n",
       "      <th>originCode</th>\n",
       "      <th>destinationCode</th>\n",
       "      <th>voos_unicos</th>\n",
       "      <th>cityoriginCode</th>\n",
       "      <th>city_destinationCode</th>\n",
       "    </tr>\n",
       "  </thead>\n",
       "  <tbody>\n",
       "    <tr>\n",
       "      <th>0</th>\n",
       "      <td>SSA</td>\n",
       "      <td>POA</td>\n",
       "      <td>32305</td>\n",
       "      <td>Salvador</td>\n",
       "      <td>Porto Alegre</td>\n",
       "    </tr>\n",
       "    <tr>\n",
       "      <th>1</th>\n",
       "      <td>POA</td>\n",
       "      <td>SSA</td>\n",
       "      <td>29893</td>\n",
       "      <td>Porto Alegre</td>\n",
       "      <td>Salvador</td>\n",
       "    </tr>\n",
       "    <tr>\n",
       "      <th>2</th>\n",
       "      <td>POA</td>\n",
       "      <td>MAO</td>\n",
       "      <td>28810</td>\n",
       "      <td>Porto Alegre</td>\n",
       "      <td>Manaus</td>\n",
       "    </tr>\n",
       "    <tr>\n",
       "      <th>3</th>\n",
       "      <td>MAO</td>\n",
       "      <td>POA</td>\n",
       "      <td>28011</td>\n",
       "      <td>Manaus</td>\n",
       "      <td>Porto Alegre</td>\n",
       "    </tr>\n",
       "    <tr>\n",
       "      <th>4</th>\n",
       "      <td>MAO</td>\n",
       "      <td>SSA</td>\n",
       "      <td>26218</td>\n",
       "      <td>Manaus</td>\n",
       "      <td>Salvador</td>\n",
       "    </tr>\n",
       "    <tr>\n",
       "      <th>...</th>\n",
       "      <td>...</td>\n",
       "      <td>...</td>\n",
       "      <td>...</td>\n",
       "      <td>...</td>\n",
       "      <td>...</td>\n",
       "    </tr>\n",
       "    <tr>\n",
       "      <th>63</th>\n",
       "      <td>CNF</td>\n",
       "      <td>GRU</td>\n",
       "      <td>6038</td>\n",
       "      <td>NaN</td>\n",
       "      <td>Guarulhos</td>\n",
       "    </tr>\n",
       "    <tr>\n",
       "      <th>64</th>\n",
       "      <td>GRU</td>\n",
       "      <td>GIG</td>\n",
       "      <td>5959</td>\n",
       "      <td>Guarulhos</td>\n",
       "      <td>Rio de Janeiro</td>\n",
       "    </tr>\n",
       "    <tr>\n",
       "      <th>65</th>\n",
       "      <td>GRU</td>\n",
       "      <td>CNF</td>\n",
       "      <td>5668</td>\n",
       "      <td>Guarulhos</td>\n",
       "      <td>NaN</td>\n",
       "    </tr>\n",
       "    <tr>\n",
       "      <th>66</th>\n",
       "      <td>GIG</td>\n",
       "      <td>CGH</td>\n",
       "      <td>4865</td>\n",
       "      <td>Rio de Janeiro</td>\n",
       "      <td>São Paulo</td>\n",
       "    </tr>\n",
       "    <tr>\n",
       "      <th>67</th>\n",
       "      <td>CGH</td>\n",
       "      <td>GIG</td>\n",
       "      <td>4727</td>\n",
       "      <td>São Paulo</td>\n",
       "      <td>Rio de Janeiro</td>\n",
       "    </tr>\n",
       "  </tbody>\n",
       "</table>\n",
       "<p>68 rows × 5 columns</p>\n",
       "</div>"
      ],
      "text/plain": [
       "   originCode destinationCode  voos_unicos  cityoriginCode  \\\n",
       "0         SSA             POA        32305        Salvador   \n",
       "1         POA             SSA        29893    Porto Alegre   \n",
       "2         POA             MAO        28810    Porto Alegre   \n",
       "3         MAO             POA        28011          Manaus   \n",
       "4         MAO             SSA        26218          Manaus   \n",
       "..        ...             ...          ...             ...   \n",
       "63        CNF             GRU         6038             NaN   \n",
       "64        GRU             GIG         5959       Guarulhos   \n",
       "65        GRU             CNF         5668       Guarulhos   \n",
       "66        GIG             CGH         4865  Rio de Janeiro   \n",
       "67        CGH             GIG         4727       São Paulo   \n",
       "\n",
       "   city_destinationCode  \n",
       "0          Porto Alegre  \n",
       "1              Salvador  \n",
       "2                Manaus  \n",
       "3          Porto Alegre  \n",
       "4              Salvador  \n",
       "..                  ...  \n",
       "63            Guarulhos  \n",
       "64       Rio de Janeiro  \n",
       "65                  NaN  \n",
       "66            São Paulo  \n",
       "67       Rio de Janeiro  \n",
       "\n",
       "[68 rows x 5 columns]"
      ]
     },
     "execution_count": 30,
     "metadata": {},
     "output_type": "execute_result"
    }
   ],
   "source": [
    "voos_unicos_trecho = merge_airport(voos_unicos_trecho, [\"originCode\", \"destinationCode\"])\n",
    "voos_unicos_trecho"
   ]
  },
  {
   "cell_type": "code",
   "execution_count": 31,
   "id": "ae695b06-34b6-45d9-82a1-8debbfa730fa",
   "metadata": {
    "tags": []
   },
   "outputs": [
    {
     "data": {
      "text/html": [
       "<div>\n",
       "<style scoped>\n",
       "    .dataframe tbody tr th:only-of-type {\n",
       "        vertical-align: middle;\n",
       "    }\n",
       "\n",
       "    .dataframe tbody tr th {\n",
       "        vertical-align: top;\n",
       "    }\n",
       "\n",
       "    .dataframe thead th {\n",
       "        text-align: right;\n",
       "    }\n",
       "</style>\n",
       "<table border=\"1\" class=\"dataframe\">\n",
       "  <thead>\n",
       "    <tr style=\"text-align: right;\">\n",
       "      <th></th>\n",
       "      <th>cityoriginCode</th>\n",
       "      <th>city_destinationCode</th>\n",
       "      <th>voos_unicos</th>\n",
       "    </tr>\n",
       "  </thead>\n",
       "  <tbody>\n",
       "    <tr>\n",
       "      <th>0</th>\n",
       "      <td>Salvador</td>\n",
       "      <td>Porto Alegre</td>\n",
       "      <td>32305</td>\n",
       "    </tr>\n",
       "    <tr>\n",
       "      <th>1</th>\n",
       "      <td>Porto Alegre</td>\n",
       "      <td>Salvador</td>\n",
       "      <td>29893</td>\n",
       "    </tr>\n",
       "    <tr>\n",
       "      <th>2</th>\n",
       "      <td>Porto Alegre</td>\n",
       "      <td>Manaus</td>\n",
       "      <td>28810</td>\n",
       "    </tr>\n",
       "    <tr>\n",
       "      <th>3</th>\n",
       "      <td>Manaus</td>\n",
       "      <td>Porto Alegre</td>\n",
       "      <td>28011</td>\n",
       "    </tr>\n",
       "    <tr>\n",
       "      <th>4</th>\n",
       "      <td>Manaus</td>\n",
       "      <td>Salvador</td>\n",
       "      <td>26218</td>\n",
       "    </tr>\n",
       "    <tr>\n",
       "      <th>5</th>\n",
       "      <td>Salvador</td>\n",
       "      <td>Manaus</td>\n",
       "      <td>25781</td>\n",
       "    </tr>\n",
       "    <tr>\n",
       "      <th>6</th>\n",
       "      <td>Rio de Janeiro</td>\n",
       "      <td>Porto Alegre</td>\n",
       "      <td>23986</td>\n",
       "    </tr>\n",
       "    <tr>\n",
       "      <th>7</th>\n",
       "      <td>Rio de Janeiro</td>\n",
       "      <td>Salvador</td>\n",
       "      <td>23867</td>\n",
       "    </tr>\n",
       "    <tr>\n",
       "      <th>8</th>\n",
       "      <td>Salvador</td>\n",
       "      <td>NaN</td>\n",
       "      <td>23039</td>\n",
       "    </tr>\n",
       "    <tr>\n",
       "      <th>9</th>\n",
       "      <td>Rio de Janeiro</td>\n",
       "      <td>NaN</td>\n",
       "      <td>22668</td>\n",
       "    </tr>\n",
       "    <tr>\n",
       "      <th>10</th>\n",
       "      <td>Porto Alegre</td>\n",
       "      <td>Rio de Janeiro</td>\n",
       "      <td>22624</td>\n",
       "    </tr>\n",
       "    <tr>\n",
       "      <th>11</th>\n",
       "      <td>Salvador</td>\n",
       "      <td>Rio de Janeiro</td>\n",
       "      <td>21927</td>\n",
       "    </tr>\n",
       "    <tr>\n",
       "      <th>12</th>\n",
       "      <td>Porto Alegre</td>\n",
       "      <td>NaN</td>\n",
       "      <td>21818</td>\n",
       "    </tr>\n",
       "    <tr>\n",
       "      <th>13</th>\n",
       "      <td>NaN</td>\n",
       "      <td>Rio de Janeiro</td>\n",
       "      <td>21806</td>\n",
       "    </tr>\n",
       "    <tr>\n",
       "      <th>14</th>\n",
       "      <td>NaN</td>\n",
       "      <td>Porto Alegre</td>\n",
       "      <td>21721</td>\n",
       "    </tr>\n",
       "    <tr>\n",
       "      <th>15</th>\n",
       "      <td>NaN</td>\n",
       "      <td>NaN</td>\n",
       "      <td>21345</td>\n",
       "    </tr>\n",
       "    <tr>\n",
       "      <th>16</th>\n",
       "      <td>NaN</td>\n",
       "      <td>Salvador</td>\n",
       "      <td>20950</td>\n",
       "    </tr>\n",
       "    <tr>\n",
       "      <th>17</th>\n",
       "      <td>São Paulo</td>\n",
       "      <td>Manaus</td>\n",
       "      <td>20760</td>\n",
       "    </tr>\n",
       "    <tr>\n",
       "      <th>18</th>\n",
       "      <td>NaN</td>\n",
       "      <td>NaN</td>\n",
       "      <td>20694</td>\n",
       "    </tr>\n",
       "    <tr>\n",
       "      <th>19</th>\n",
       "      <td>Rio de Janeiro</td>\n",
       "      <td>Manaus</td>\n",
       "      <td>20379</td>\n",
       "    </tr>\n",
       "    <tr>\n",
       "      <th>20</th>\n",
       "      <td>Rio de Janeiro</td>\n",
       "      <td>Manaus</td>\n",
       "      <td>19871</td>\n",
       "    </tr>\n",
       "    <tr>\n",
       "      <th>21</th>\n",
       "      <td>Manaus</td>\n",
       "      <td>São Paulo</td>\n",
       "      <td>19840</td>\n",
       "    </tr>\n",
       "    <tr>\n",
       "      <th>22</th>\n",
       "      <td>NaN</td>\n",
       "      <td>Manaus</td>\n",
       "      <td>19708</td>\n",
       "    </tr>\n",
       "    <tr>\n",
       "      <th>23</th>\n",
       "      <td>Manaus</td>\n",
       "      <td>NaN</td>\n",
       "      <td>19549</td>\n",
       "    </tr>\n",
       "    <tr>\n",
       "      <th>24</th>\n",
       "      <td>Rio de Janeiro</td>\n",
       "      <td>Porto Alegre</td>\n",
       "      <td>19547</td>\n",
       "    </tr>\n",
       "    <tr>\n",
       "      <th>25</th>\n",
       "      <td>NaN</td>\n",
       "      <td>Salvador</td>\n",
       "      <td>19043</td>\n",
       "    </tr>\n",
       "    <tr>\n",
       "      <th>26</th>\n",
       "      <td>Manaus</td>\n",
       "      <td>Guarulhos</td>\n",
       "      <td>18847</td>\n",
       "    </tr>\n",
       "    <tr>\n",
       "      <th>27</th>\n",
       "      <td>Porto Alegre</td>\n",
       "      <td>Rio de Janeiro</td>\n",
       "      <td>18785</td>\n",
       "    </tr>\n",
       "    <tr>\n",
       "      <th>28</th>\n",
       "      <td>Manaus</td>\n",
       "      <td>Rio de Janeiro</td>\n",
       "      <td>18649</td>\n",
       "    </tr>\n",
       "    <tr>\n",
       "      <th>29</th>\n",
       "      <td>Salvador</td>\n",
       "      <td>NaN</td>\n",
       "      <td>18406</td>\n",
       "    </tr>\n",
       "    <tr>\n",
       "      <th>30</th>\n",
       "      <td>Rio de Janeiro</td>\n",
       "      <td>São Paulo</td>\n",
       "      <td>18273</td>\n",
       "    </tr>\n",
       "    <tr>\n",
       "      <th>31</th>\n",
       "      <td>São Paulo</td>\n",
       "      <td>Porto Alegre</td>\n",
       "      <td>17907</td>\n",
       "    </tr>\n",
       "    <tr>\n",
       "      <th>32</th>\n",
       "      <td>Porto Alegre</td>\n",
       "      <td>São Paulo</td>\n",
       "      <td>17673</td>\n",
       "    </tr>\n",
       "    <tr>\n",
       "      <th>33</th>\n",
       "      <td>São Paulo</td>\n",
       "      <td>NaN</td>\n",
       "      <td>17649</td>\n",
       "    </tr>\n",
       "    <tr>\n",
       "      <th>34</th>\n",
       "      <td>NaN</td>\n",
       "      <td>Porto Alegre</td>\n",
       "      <td>17593</td>\n",
       "    </tr>\n",
       "    <tr>\n",
       "      <th>35</th>\n",
       "      <td>São Paulo</td>\n",
       "      <td>Rio de Janeiro</td>\n",
       "      <td>17481</td>\n",
       "    </tr>\n",
       "    <tr>\n",
       "      <th>36</th>\n",
       "      <td>Guarulhos</td>\n",
       "      <td>Manaus</td>\n",
       "      <td>17464</td>\n",
       "    </tr>\n",
       "    <tr>\n",
       "      <th>37</th>\n",
       "      <td>Porto Alegre</td>\n",
       "      <td>NaN</td>\n",
       "      <td>17408</td>\n",
       "    </tr>\n",
       "    <tr>\n",
       "      <th>38</th>\n",
       "      <td>Salvador</td>\n",
       "      <td>São Paulo</td>\n",
       "      <td>17248</td>\n",
       "    </tr>\n",
       "    <tr>\n",
       "      <th>39</th>\n",
       "      <td>Manaus</td>\n",
       "      <td>Rio de Janeiro</td>\n",
       "      <td>17142</td>\n",
       "    </tr>\n",
       "    <tr>\n",
       "      <th>40</th>\n",
       "      <td>São Paulo</td>\n",
       "      <td>Salvador</td>\n",
       "      <td>16389</td>\n",
       "    </tr>\n",
       "    <tr>\n",
       "      <th>41</th>\n",
       "      <td>Rio de Janeiro</td>\n",
       "      <td>NaN</td>\n",
       "      <td>16340</td>\n",
       "    </tr>\n",
       "    <tr>\n",
       "      <th>42</th>\n",
       "      <td>NaN</td>\n",
       "      <td>São Paulo</td>\n",
       "      <td>16315</td>\n",
       "    </tr>\n",
       "    <tr>\n",
       "      <th>43</th>\n",
       "      <td>Rio de Janeiro</td>\n",
       "      <td>NaN</td>\n",
       "      <td>15969</td>\n",
       "    </tr>\n",
       "    <tr>\n",
       "      <th>44</th>\n",
       "      <td>NaN</td>\n",
       "      <td>Rio de Janeiro</td>\n",
       "      <td>15940</td>\n",
       "    </tr>\n",
       "    <tr>\n",
       "      <th>45</th>\n",
       "      <td>Rio de Janeiro</td>\n",
       "      <td>Salvador</td>\n",
       "      <td>15770</td>\n",
       "    </tr>\n",
       "    <tr>\n",
       "      <th>46</th>\n",
       "      <td>Salvador</td>\n",
       "      <td>Rio de Janeiro</td>\n",
       "      <td>14819</td>\n",
       "    </tr>\n",
       "    <tr>\n",
       "      <th>47</th>\n",
       "      <td>NaN</td>\n",
       "      <td>Rio de Janeiro</td>\n",
       "      <td>14465</td>\n",
       "    </tr>\n",
       "    <tr>\n",
       "      <th>48</th>\n",
       "      <td>NaN</td>\n",
       "      <td>Manaus</td>\n",
       "      <td>14439</td>\n",
       "    </tr>\n",
       "    <tr>\n",
       "      <th>49</th>\n",
       "      <td>Manaus</td>\n",
       "      <td>NaN</td>\n",
       "      <td>14330</td>\n",
       "    </tr>\n",
       "  </tbody>\n",
       "</table>\n",
       "</div>"
      ],
      "text/plain": [
       "    cityoriginCode city_destinationCode  voos_unicos\n",
       "0         Salvador         Porto Alegre        32305\n",
       "1     Porto Alegre             Salvador        29893\n",
       "2     Porto Alegre               Manaus        28810\n",
       "3           Manaus         Porto Alegre        28011\n",
       "4           Manaus             Salvador        26218\n",
       "5         Salvador               Manaus        25781\n",
       "6   Rio de Janeiro         Porto Alegre        23986\n",
       "7   Rio de Janeiro             Salvador        23867\n",
       "8         Salvador                  NaN        23039\n",
       "9   Rio de Janeiro                  NaN        22668\n",
       "10    Porto Alegre       Rio de Janeiro        22624\n",
       "11        Salvador       Rio de Janeiro        21927\n",
       "12    Porto Alegre                  NaN        21818\n",
       "13             NaN       Rio de Janeiro        21806\n",
       "14             NaN         Porto Alegre        21721\n",
       "15             NaN                  NaN        21345\n",
       "16             NaN             Salvador        20950\n",
       "17       São Paulo               Manaus        20760\n",
       "18             NaN                  NaN        20694\n",
       "19  Rio de Janeiro               Manaus        20379\n",
       "20  Rio de Janeiro               Manaus        19871\n",
       "21          Manaus            São Paulo        19840\n",
       "22             NaN               Manaus        19708\n",
       "23          Manaus                  NaN        19549\n",
       "24  Rio de Janeiro         Porto Alegre        19547\n",
       "25             NaN             Salvador        19043\n",
       "26          Manaus            Guarulhos        18847\n",
       "27    Porto Alegre       Rio de Janeiro        18785\n",
       "28          Manaus       Rio de Janeiro        18649\n",
       "29        Salvador                  NaN        18406\n",
       "30  Rio de Janeiro            São Paulo        18273\n",
       "31       São Paulo         Porto Alegre        17907\n",
       "32    Porto Alegre            São Paulo        17673\n",
       "33       São Paulo                  NaN        17649\n",
       "34             NaN         Porto Alegre        17593\n",
       "35       São Paulo       Rio de Janeiro        17481\n",
       "36       Guarulhos               Manaus        17464\n",
       "37    Porto Alegre                  NaN        17408\n",
       "38        Salvador            São Paulo        17248\n",
       "39          Manaus       Rio de Janeiro        17142\n",
       "40       São Paulo             Salvador        16389\n",
       "41  Rio de Janeiro                  NaN        16340\n",
       "42             NaN            São Paulo        16315\n",
       "43  Rio de Janeiro                  NaN        15969\n",
       "44             NaN       Rio de Janeiro        15940\n",
       "45  Rio de Janeiro             Salvador        15770\n",
       "46        Salvador       Rio de Janeiro        14819\n",
       "47             NaN       Rio de Janeiro        14465\n",
       "48             NaN               Manaus        14439\n",
       "49          Manaus                  NaN        14330"
      ]
     },
     "execution_count": 31,
     "metadata": {},
     "output_type": "execute_result"
    }
   ],
   "source": [
    "voos_unicos_trecho[[\"cityoriginCode\", \"city_destinationCode\", \"voos_unicos\"]].head(50)"
   ]
  },
  {
   "cell_type": "markdown",
   "id": "8bf7362a-8bd3-49c7-8f86-af2ee42f271d",
   "metadata": {},
   "source": [
    "## Companias aéreas "
   ]
  },
  {
   "cell_type": "markdown",
   "id": "a705526c-1d2a-4959-aa4a-e536c3bfff8d",
   "metadata": {},
   "source": [
    "### Quais são as companhias aéreas coletadas?"
   ]
  },
  {
   "cell_type": "code",
   "execution_count": 32,
   "id": "96ba6e17-476a-4cb4-8f13-2e0d01224131",
   "metadata": {},
   "outputs": [
    {
     "data": {
      "text/html": [
       "<div>\n",
       "<style scoped>\n",
       "    .dataframe tbody tr th:only-of-type {\n",
       "        vertical-align: middle;\n",
       "    }\n",
       "\n",
       "    .dataframe tbody tr th {\n",
       "        vertical-align: top;\n",
       "    }\n",
       "\n",
       "    .dataframe thead th {\n",
       "        text-align: right;\n",
       "    }\n",
       "</style>\n",
       "<table border=\"1\" class=\"dataframe\">\n",
       "  <thead>\n",
       "    <tr style=\"text-align: right;\">\n",
       "      <th></th>\n",
       "      <th>airlineCode</th>\n",
       "      <th>airlineName</th>\n",
       "    </tr>\n",
       "  </thead>\n",
       "  <tbody>\n",
       "    <tr>\n",
       "      <th>0</th>\n",
       "      <td>LA</td>\n",
       "      <td>LATAM Airlines Group</td>\n",
       "    </tr>\n",
       "    <tr>\n",
       "      <th>1</th>\n",
       "      <td>G3</td>\n",
       "      <td>GOL Linhas Aereas S.A.</td>\n",
       "    </tr>\n",
       "    <tr>\n",
       "      <th>6</th>\n",
       "      <td>H1</td>\n",
       "      <td>Hahn Air Systems</td>\n",
       "    </tr>\n",
       "  </tbody>\n",
       "</table>\n",
       "</div>"
      ],
      "text/plain": [
       "  airlineCode             airlineName\n",
       "0          LA    LATAM Airlines Group\n",
       "1          G3  GOL Linhas Aereas S.A.\n",
       "6          H1        Hahn Air Systems"
      ]
     },
     "execution_count": 32,
     "metadata": {},
     "output_type": "execute_result"
    }
   ],
   "source": [
    "qt.get_table(\"airline\")[[\"airlineCode\", \"airlineName\"]].drop_duplicates()"
   ]
  },
  {
   "cell_type": "markdown",
   "id": "840d008b-dea9-48f6-9788-ca8f565deab6",
   "metadata": {},
   "source": [
    "### Quantos voos únicos cada companía fez?"
   ]
  },
  {
   "cell_type": "code",
   "execution_count": 33,
   "id": "7f5a3cf8-e9fa-4418-9935-c79762a952e1",
   "metadata": {
    "tags": []
   },
   "outputs": [],
   "source": [
    "q = \"\"\"\n",
    "SELECT \"airlineName\", count(*) as voos_unicos\n",
    "FROM (\n",
    "    SELECT DISTINCT F.\"legId\", A.\"airlineName\"\n",
    "    FROM flight.flight F\n",
    "        LEFT JOIN flight.airline A\n",
    "        ON A.\"airlineCode\" = F.\"airlineCode\"\n",
    ") subquery\n",
    "GROUP BY  \"airlineName\"\n",
    "ORDER BY voos_unicos DESC\n",
    "\"\"\"\n",
    "voos_unicos_compania = qt.run_query(q)"
   ]
  },
  {
   "cell_type": "code",
   "execution_count": 34,
   "id": "2e9a191b-8d45-4a38-978d-b9229c6c1354",
   "metadata": {
    "tags": []
   },
   "outputs": [
    {
     "data": {
      "text/html": [
       "<div>\n",
       "<style scoped>\n",
       "    .dataframe tbody tr th:only-of-type {\n",
       "        vertical-align: middle;\n",
       "    }\n",
       "\n",
       "    .dataframe tbody tr th {\n",
       "        vertical-align: top;\n",
       "    }\n",
       "\n",
       "    .dataframe thead th {\n",
       "        text-align: right;\n",
       "    }\n",
       "</style>\n",
       "<table border=\"1\" class=\"dataframe\">\n",
       "  <thead>\n",
       "    <tr style=\"text-align: right;\">\n",
       "      <th></th>\n",
       "      <th>airlineName</th>\n",
       "      <th>voos_unicos</th>\n",
       "    </tr>\n",
       "  </thead>\n",
       "  <tbody>\n",
       "    <tr>\n",
       "      <th>0</th>\n",
       "      <td>None</td>\n",
       "      <td>1112915</td>\n",
       "    </tr>\n",
       "    <tr>\n",
       "      <th>1</th>\n",
       "      <td>LATAM Airlines Group</td>\n",
       "      <td>36835</td>\n",
       "    </tr>\n",
       "    <tr>\n",
       "      <th>2</th>\n",
       "      <td>GOL Linhas Aereas S.A.</td>\n",
       "      <td>34270</td>\n",
       "    </tr>\n",
       "  </tbody>\n",
       "</table>\n",
       "</div>"
      ],
      "text/plain": [
       "              airlineName  voos_unicos\n",
       "0                    None      1112915\n",
       "1    LATAM Airlines Group        36835\n",
       "2  GOL Linhas Aereas S.A.        34270"
      ]
     },
     "execution_count": 34,
     "metadata": {},
     "output_type": "execute_result"
    }
   ],
   "source": [
    "voos_unicos_compania"
   ]
  },
  {
   "cell_type": "code",
   "execution_count": null,
   "id": "2cfd01de-611e-4be4-8c64-8389166c5e4d",
   "metadata": {},
   "outputs": [],
   "source": []
  },
  {
   "cell_type": "code",
   "execution_count": null,
   "id": "e1b0fe6a-062a-42de-92e2-8e0b70dba2b0",
   "metadata": {},
   "outputs": [],
   "source": []
  }
 ],
 "metadata": {
  "kernelspec": {
   "display_name": "Python 3 (ipykernel)",
   "language": "python",
   "name": "python3"
  },
  "language_info": {
   "codemirror_mode": {
    "name": "ipython",
    "version": 3
   },
   "file_extension": ".py",
   "mimetype": "text/x-python",
   "name": "python",
   "nbconvert_exporter": "python",
   "pygments_lexer": "ipython3",
   "version": "3.11.3"
  }
 },
 "nbformat": 4,
 "nbformat_minor": 5
}
